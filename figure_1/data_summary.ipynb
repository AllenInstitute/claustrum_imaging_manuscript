{
 "cells": [
  {
   "cell_type": "code",
   "execution_count": 1,
   "metadata": {},
   "outputs": [
    {
     "name": "stderr",
     "output_type": "stream",
     "text": [
      "/home/dougo/.conda/envs/isxenv/lib/python3.7/site-packages/dask/config.py:168: YAMLLoadWarning: calling yaml.load() without Loader=... is deprecated, as the default Loader is unsafe. Please read https://msg.pyyaml.org/load for full details.\n",
      "  data = yaml.load(f.read()) or {}\n"
     ]
    },
    {
     "data": {
      "text/html": [
       "<style>.container { width:100% !important; }</style>"
      ],
      "text/plain": [
       "<IPython.core.display.HTML object>"
      ]
     },
     "metadata": {},
     "output_type": "display_data"
    }
   ],
   "source": [
    "import numpy as np\n",
    "import pandas as pd\n",
    "import matplotlib.pyplot as plt\n",
    "from matplotlib import gridspec\n",
    "import os\n",
    "\n",
    "import seaborn as sns\n",
    "\n",
    "from mpl_toolkits.axes_grid1.inset_locator import inset_axes\n",
    "import visual_behavior.plotting as vbp\n",
    "\n",
    "# add the top level directory to allow it to be imported\n",
    "import sys\n",
    "sys.path.append(os.path.split(os.getcwd())[0])\n",
    "from utilities import plotting_utilities\n",
    "from utilities import helper_functions\n",
    "\n",
    "from IPython.core.display import display, HTML\n",
    "display(HTML(\"<style>.container { width:100% !important; }</style>\"))"
   ]
  },
  {
   "cell_type": "code",
   "execution_count": 10,
   "metadata": {},
   "outputs": [],
   "source": [
    "data_path = os.path.join(os.path.split(os.getcwd())[0],'data')\n",
    "session_list = pd.read_csv(os.path.join(os.path.join(data_path,'session_list.csv')))"
   ]
  },
  {
   "cell_type": "code",
   "execution_count": 11,
   "metadata": {},
   "outputs": [
    {
     "name": "stdout",
     "output_type": "stream",
     "text": [
      "on session 14 of 14   \r"
     ]
    }
   ],
   "source": [
    "session = {}\n",
    "for idx,row in session_list.reset_index().iterrows():\n",
    "    key = '{}_{}'.format(row['mouse_id'], row['session_type'])\n",
    "    session[key] = helper_functions.load_session(row['mouse_id'], session_type=row['session_type'])\n",
    "    print('on session {} of {}   '.format(idx+1,len(session_list)),end='\\r')\n",
    "    session_list.at[idx, 'cell_count'] = session[key].filtered_cell_count"
   ]
  },
  {
   "cell_type": "code",
   "execution_count": 15,
   "metadata": {},
   "outputs": [
    {
     "data": {
      "text/plain": [
       "832.0"
      ]
     },
     "execution_count": 15,
     "metadata": {},
     "output_type": "execute_result"
    }
   ],
   "source": [
    "session_list.drop_duplicates('mouse_id', keep='last')['cell_count'].sum()"
   ]
  },
  {
   "cell_type": "code",
   "execution_count": 14,
   "metadata": {},
   "outputs": [
    {
     "data": {
      "text/plain": [
       "count     11.000000\n",
       "mean      75.636364\n",
       "std       46.579551\n",
       "min       10.000000\n",
       "25%       37.500000\n",
       "50%       69.000000\n",
       "75%      115.000000\n",
       "max      144.000000\n",
       "Name: cell_count, dtype: float64"
      ]
     },
     "execution_count": 14,
     "metadata": {},
     "output_type": "execute_result"
    }
   ],
   "source": [
    "session_list.drop_duplicates('mouse_id', keep='last')['cell_count'].describe()"
   ]
  },
  {
   "cell_type": "code",
   "execution_count": 16,
   "metadata": {},
   "outputs": [
    {
     "data": {
      "text/plain": [
       "count      4.000000\n",
       "mean      89.000000\n",
       "std       40.898248\n",
       "min       29.000000\n",
       "25%       80.000000\n",
       "50%      105.500000\n",
       "75%      114.500000\n",
       "max      116.000000\n",
       "Name: cell_count, dtype: float64"
      ]
     },
     "execution_count": 16,
     "metadata": {},
     "output_type": "execute_result"
    }
   ],
   "source": [
    "session_list.query('session_type == \"active\"')['cell_count'].describe()"
   ]
  },
  {
   "cell_type": "code",
   "execution_count": null,
   "metadata": {},
   "outputs": [],
   "source": []
  }
 ],
 "metadata": {
  "kernelspec": {
   "display_name": "isxenv",
   "language": "python",
   "name": "isxenv"
  },
  "language_info": {
   "codemirror_mode": {
    "name": "ipython",
    "version": 3
   },
   "file_extension": ".py",
   "mimetype": "text/x-python",
   "name": "python",
   "nbconvert_exporter": "python",
   "pygments_lexer": "ipython3",
   "version": "3.7.2"
  }
 },
 "nbformat": 4,
 "nbformat_minor": 2
}
