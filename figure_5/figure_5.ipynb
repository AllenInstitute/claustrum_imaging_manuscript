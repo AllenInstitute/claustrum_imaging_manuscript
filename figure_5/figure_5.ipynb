{
 "cells": [
  {
   "cell_type": "code",
   "execution_count": 1,
   "metadata": {},
   "outputs": [
    {
     "data": {
      "text/html": [
       "<style>.container { width:100% !important; }</style>"
      ],
      "text/plain": [
       "<IPython.core.display.HTML object>"
      ]
     },
     "metadata": {},
     "output_type": "display_data"
    }
   ],
   "source": [
    "import numpy as np\n",
    "import pandas as pd\n",
    "import matplotlib.pyplot as plt\n",
    "from matplotlib import gridspec\n",
    "import os\n",
    "\n",
    "import seaborn as sns\n",
    "\n",
    "import imageio\n",
    "\n",
    "from mpl_toolkits.axes_grid1.inset_locator import inset_axes\n",
    "import visual_behavior.plotting as vbp\n",
    "\n",
    "# add the top level directory to allow it to be imported\n",
    "import sys\n",
    "sys.path.append(os.path.split(os.getcwd())[0])\n",
    "from utilities import plotting_utilities\n",
    "from utilities import helper_functions\n",
    "\n",
    "import xarray as xr\n",
    "from scipy import stats\n",
    "\n",
    "from IPython.core.display import display, HTML\n",
    "display(HTML(\"<style>.container { width:100% !important; }</style>\"))"
   ]
  },
  {
   "cell_type": "code",
   "execution_count": 2,
   "metadata": {},
   "outputs": [],
   "source": [
    "window_size=1.5 # number of seconds before/after each stimulus event over which to integrate activity for the purpose of calling a cell 'responsive'\n",
    "significance_level = 0.05 # level at which to declare a response 'significant'"
   ]
  },
  {
   "cell_type": "code",
   "execution_count": 3,
   "metadata": {},
   "outputs": [
    {
     "data": {
      "text/html": [
       "<div>\n",
       "<style scoped>\n",
       "    .dataframe tbody tr th:only-of-type {\n",
       "        vertical-align: middle;\n",
       "    }\n",
       "\n",
       "    .dataframe tbody tr th {\n",
       "        vertical-align: top;\n",
       "    }\n",
       "\n",
       "    .dataframe thead th {\n",
       "        text-align: right;\n",
       "    }\n",
       "</style>\n",
       "<table border=\"1\" class=\"dataframe\">\n",
       "  <thead>\n",
       "    <tr style=\"text-align: right;\">\n",
       "      <th></th>\n",
       "      <th>mouse_id</th>\n",
       "      <th>sex</th>\n",
       "      <th>genotype</th>\n",
       "      <th>AP_coord</th>\n",
       "      <th>ML_coord</th>\n",
       "      <th>DV_coord</th>\n",
       "      <th>session_type</th>\n",
       "      <th>recording_date</th>\n",
       "      <th>processing_date</th>\n",
       "    </tr>\n",
       "  </thead>\n",
       "  <tbody>\n",
       "    <tr>\n",
       "      <th>18</th>\n",
       "      <td>M332849</td>\n",
       "      <td>M</td>\n",
       "      <td>Gnb4-IRES2-CreERT2/wt;Camk2a-tTA/wt;Ai93(TITL-...</td>\n",
       "      <td>1.5</td>\n",
       "      <td>3.125</td>\n",
       "      <td>2.5</td>\n",
       "      <td>active</td>\n",
       "      <td>2018-06-14 12:44:33.658000</td>\n",
       "      <td>2018-07-26 12:11:01.983524799-07:00</td>\n",
       "    </tr>\n",
       "    <tr>\n",
       "      <th>19</th>\n",
       "      <td>M348126</td>\n",
       "      <td>F</td>\n",
       "      <td>Gnb4-IRES2-CreERT2/wt;Camk2a-tTA/wt;Ai94(TITL-...</td>\n",
       "      <td>1.5</td>\n",
       "      <td>2.625</td>\n",
       "      <td>2.5</td>\n",
       "      <td>active</td>\n",
       "      <td>2018-06-13 13:47:38.463000</td>\n",
       "      <td>2018-07-26 18:15:45.828682184-07:00</td>\n",
       "    </tr>\n",
       "    <tr>\n",
       "      <th>20</th>\n",
       "      <td>M351181</td>\n",
       "      <td>F</td>\n",
       "      <td>Gnb4-IRES2-CreERT2/wt;Camk2a-tTA/wt;Ai94(TITL-...</td>\n",
       "      <td>1.5</td>\n",
       "      <td>2.625</td>\n",
       "      <td>2.5</td>\n",
       "      <td>active</td>\n",
       "      <td>2018-03-14 14:32:15.328000</td>\n",
       "      <td>2018-07-26 18:59:36.293976068-07:00</td>\n",
       "    </tr>\n",
       "    <tr>\n",
       "      <th>21</th>\n",
       "      <td>M397408</td>\n",
       "      <td>F</td>\n",
       "      <td>Gnb4-IRES2-CreERT2/wt;Camk2a-tTA/wt;Ai93(TITL-...</td>\n",
       "      <td>1.5</td>\n",
       "      <td>2.625</td>\n",
       "      <td>2.5</td>\n",
       "      <td>active</td>\n",
       "      <td>2018-11-01 11:40:14.487000</td>\n",
       "      <td>2019-01-22 01:32:10.700291872-08:00</td>\n",
       "    </tr>\n",
       "  </tbody>\n",
       "</table>\n",
       "</div>"
      ],
      "text/plain": [
       "   mouse_id sex                                           genotype  AP_coord  \\\n",
       "18  M332849   M  Gnb4-IRES2-CreERT2/wt;Camk2a-tTA/wt;Ai93(TITL-...       1.5   \n",
       "19  M348126   F  Gnb4-IRES2-CreERT2/wt;Camk2a-tTA/wt;Ai94(TITL-...       1.5   \n",
       "20  M351181   F  Gnb4-IRES2-CreERT2/wt;Camk2a-tTA/wt;Ai94(TITL-...       1.5   \n",
       "21  M397408   F  Gnb4-IRES2-CreERT2/wt;Camk2a-tTA/wt;Ai93(TITL-...       1.5   \n",
       "\n",
       "    ML_coord  DV_coord session_type              recording_date  \\\n",
       "18     3.125       2.5       active  2018-06-14 12:44:33.658000   \n",
       "19     2.625       2.5       active  2018-06-13 13:47:38.463000   \n",
       "20     2.625       2.5       active  2018-03-14 14:32:15.328000   \n",
       "21     2.625       2.5       active  2018-11-01 11:40:14.487000   \n",
       "\n",
       "                        processing_date  \n",
       "18  2018-07-26 12:11:01.983524799-07:00  \n",
       "19  2018-07-26 18:15:45.828682184-07:00  \n",
       "20  2018-07-26 18:59:36.293976068-07:00  \n",
       "21  2019-01-22 01:32:10.700291872-08:00  "
      ]
     },
     "execution_count": 3,
     "metadata": {},
     "output_type": "execute_result"
    }
   ],
   "source": [
    "data_path = os.path.join(os.path.split(os.getcwd())[0],'data')\n",
    "session_list = pd.read_csv(os.path.join(os.path.join(data_path,'session_list.csv')))\n",
    "active_sessions = session_list.query('session_type == \"active\"')\n",
    "active_sessions"
   ]
  },
  {
   "cell_type": "code",
   "execution_count": 4,
   "metadata": {},
   "outputs": [
    {
     "name": "stdout",
     "output_type": "stream",
     "text": [
      "on session 4 of 4   \r"
     ]
    }
   ],
   "source": [
    "session = {}\n",
    "for idx,row in active_sessions.reset_index().iterrows():\n",
    "    session[row['mouse_id']] = helper_functions.load_session(row['mouse_id'], session_type='active')\n",
    "    print('on session {} of {}   '.format(idx+1,len(active_sessions)),end='\\r')"
   ]
  },
  {
   "cell_type": "markdown",
   "metadata": {},
   "source": [
    "## build out responsiveness summary"
   ]
  },
  {
   "cell_type": "code",
   "execution_count": null,
   "metadata": {},
   "outputs": [],
   "source": [
    "figure_3_folder = os.path.join(os.path.split(os.getcwd())[0], 'figure_4')\n",
    "responsiveness_summary_all = pd.read_csv(os.path.join(figure_3_folder, 'active_responsiveness_summary.csv'))\n",
    "for mouse_id in session.keys():\n",
    "    session[mouse_id].responsiveness_summary = responsiveness_summary_all.query('mouse_id == @mouse_id').copy()"
   ]
  },
  {
   "cell_type": "code",
   "execution_count": null,
   "metadata": {},
   "outputs": [],
   "source": [
    "def make_cell_map(session, ax=None):\n",
    "    if ax is None:\n",
    "        fig,ax=plt.subplots()\n",
    "\n",
    "    cells_to_show = session.filtered_cell_ids\n",
    "\n",
    "    # create an empty RGB image to add the cell images to\n",
    "    rows, cols = np.shape(session.cell_images[session.filtered_cell_ids[0]])\n",
    "    all_cells_image = np.zeros((rows, cols, 3))\n",
    "\n",
    "    for cell_id in cells_to_show:\n",
    "        cell_img = session.cell_images[cell_id]\n",
    "        cell_img /= cell_img.max()\n",
    "        cell_img[cell_img > 0.5] = 1\n",
    "        cell_img[cell_img <= 0.5] = 0\n",
    "\n",
    "        this_cell = session.responsiveness_summary.query('cell_id == @cell_id and condition == \"hit\"').iloc[0]\n",
    "\n",
    "        if this_cell['direction_of_effect_on_means'] > 0 and this_cell['p-value_on_means'] <= significance_level:\n",
    "            # make cell red by filling only R channel\n",
    "            all_cells_image[:, :, 0] += cell_img\n",
    "        elif this_cell['direction_of_effect_on_means'] < 0 and this_cell['p-value_on_means'] <= significance_level:\n",
    "            # make cell blue by filling only B channel\n",
    "            all_cells_image[:, :, 2] += cell_img\n",
    "        else:\n",
    "            # make cell white by filling all channels equally\n",
    "            for channel in range(3):\n",
    "                all_cells_image[:, :, channel] += cell_img\n",
    "                \n",
    "    # clip at 0 and 1\n",
    "    all_cells_image[np.where(all_cells_image > 1)] = 1\n",
    "    all_cells_image[np.where(all_cells_image < 0)] = 0\n",
    "    ax.imshow(all_cells_image)    \n",
    "    ax.axis('off')\n",
    "    \n",
    "    return all_cells_image"
   ]
  },
  {
   "cell_type": "code",
   "execution_count": null,
   "metadata": {},
   "outputs": [
    {
     "data": {
      "image/png": "[encoded data removed]",
      "text/plain": [
       "<Figure size 972x720 with 4 Axes>"
      ]
     },
     "metadata": {
      "needs_background": "light"
     },
     "output_type": "display_data"
    }
   ],
   "source": [
    "def show_all_FOVs(ax = None):\n",
    "    if ax is None:\n",
    "        fig,ax=plt.subplots(2,2,figsize=(13.5,10))\n",
    "    \n",
    "    # cast axes to list to allow us to flatten\n",
    "    if isinstance(ax, list):\n",
    "        ax = np.array(ax)\n",
    "    for ii, mouse_id in enumerate(session.keys()):\n",
    "        all_cells_image = make_cell_map(session[mouse_id], ax.flatten()[ii])\n",
    "        ax.flatten()[ii].axis('off')\n",
    "        \n",
    "show_all_FOVs()"
   ]
  },
  {
   "cell_type": "code",
   "execution_count": null,
   "metadata": {},
   "outputs": [],
   "source": [
    "def get_distance(session, cell_0, cell_1):\n",
    "    x0 = session.metrics.loc[cell_0]['overallCenterInPixelsX']\n",
    "    y0 = session.metrics.loc[cell_0]['overallCenterInPixelsY']\n",
    "\n",
    "    x1 = session.metrics.loc[cell_1]['overallCenterInPixelsX']\n",
    "    y1 = session.metrics.loc[cell_1]['overallCenterInPixelsY']\n",
    "\n",
    "    return np.sqrt((x1 - x0)**2 + (y1 - y0)**2)"
   ]
  },
  {
   "cell_type": "code",
   "execution_count": null,
   "metadata": {},
   "outputs": [
    {
     "name": "stdout",
     "output_type": "stream",
     "text": [
      "C171\r"
     ]
    }
   ],
   "source": [
    "dfs = []\n",
    "for mouse_id in session.keys():\n",
    "    distances = xr.DataArray(\n",
    "        np.zeros((len(session[mouse_id].filtered_cell_ids), len(session[mouse_id].filtered_cell_ids))),\n",
    "        dims=('cell_0','cell_1'),\n",
    "        coords={'cell_0': session[mouse_id].filtered_cell_ids, 'cell_1': session[mouse_id].filtered_cell_ids}\n",
    "    )*np.nan\n",
    "\n",
    "    both_significant = xr.DataArray(\n",
    "        np.zeros((len(session[mouse_id].filtered_cell_ids), len(session[mouse_id].filtered_cell_ids))),\n",
    "        dims=('cell_0','cell_1'),\n",
    "        coords={'cell_0': session[mouse_id].filtered_cell_ids, 'cell_1': session[mouse_id].filtered_cell_ids}\n",
    "    )*np.nan\n",
    "\n",
    "    same_direction = xr.DataArray(\n",
    "        np.zeros((len(session[mouse_id].filtered_cell_ids), len(session[mouse_id].filtered_cell_ids))),\n",
    "        dims=('cell_0','cell_1'),\n",
    "        coords={'cell_0': session[mouse_id].filtered_cell_ids, 'cell_1': session[mouse_id].filtered_cell_ids}\n",
    "    )*np.nan\n",
    "\n",
    "    direction = xr.DataArray(\n",
    "        np.zeros((len(session[mouse_id].filtered_cell_ids), len(session[mouse_id].filtered_cell_ids))),\n",
    "        dims=('cell_0','cell_1'),\n",
    "        coords={'cell_0': session[mouse_id].filtered_cell_ids, 'cell_1': session[mouse_id].filtered_cell_ids}\n",
    "    )*np.nan\n",
    "\n",
    "    for row,cell_0 in enumerate(session[mouse_id].filtered_cell_ids):\n",
    "        print(cell_0, end='\\r')\n",
    "        for col,cell_1 in enumerate(session[mouse_id].filtered_cell_ids):\n",
    "            if row > col:\n",
    "                distances.loc[dict(cell_0 = cell_0, cell_1 = cell_1)] = get_distance(session[mouse_id], cell_0, cell_1)\n",
    "\n",
    "                c0_rs = session[mouse_id].responsiveness_summary.query('cell_id == @cell_0 and condition == \"hit\"').iloc[0]\n",
    "                c1_rs = session[mouse_id].responsiveness_summary.query('cell_id == @cell_1 and condition == \"hit\"').iloc[0]\n",
    "                both_significant.loc[dict(cell_0 = cell_0, cell_1 = cell_1)] = c0_rs['p-value_on_means'] <= significance_level and c1_rs['p-value_on_means'] <= significance_level\n",
    "                same_direction.loc[dict(cell_0 = cell_0, cell_1 = cell_1)] = c0_rs['direction_of_effect_on_means'] == c1_rs['direction_of_effect_on_means'] \n",
    "                if c0_rs['direction_of_effect_on_means'] == c1_rs['direction_of_effect_on_means']:\n",
    "                    direction.loc[dict(cell_0 = cell_0, cell_1 = cell_1)] = c0_rs['direction_of_effect_on_means'] \n",
    "\n",
    "\n",
    "    list_of_dicts = []\n",
    "    # build out a dataframe of values where both cells have significant responses\n",
    "    locs = np.where(both_significant == 1)\n",
    "    for x,y in zip(locs[0], locs[1]):\n",
    "        list_of_dicts.append({\n",
    "            'cell_0':str(both_significant[x,y].coords['cell_0'].values),\n",
    "            'cell_1':str(both_significant[x,y].coords['cell_1'].values),\n",
    "            'distance':float(distances[x,y].values),\n",
    "            'same_direction':bool(same_direction[x,y].values),\n",
    "            'direction':float(direction[x,y].values),\n",
    "        })\n",
    "    df = pd.DataFrame(list_of_dicts)\n",
    "    dfs.append(df)\n",
    "    print(stats.ttest_ind(df.query('same_direction == True')['distance'], df.query('same_direction == False')['distance']))\n",
    "    \n",
    "distance_df = pd.concat(dfs)    "
   ]
  },
  {
   "cell_type": "code",
   "execution_count": null,
   "metadata": {},
   "outputs": [],
   "source": [
    "distance_df"
   ]
  },
  {
   "cell_type": "code",
   "execution_count": null,
   "metadata": {},
   "outputs": [],
   "source": [
    "distances.shape"
   ]
  },
  {
   "cell_type": "code",
   "execution_count": null,
   "metadata": {},
   "outputs": [],
   "source": [
    "fig,ax=plt.subplots(1,4,figsize=(20,5))\n",
    "ax[0].imshow(distances.values)\n",
    "ax[1].imshow(both_significant.values)\n",
    "ax[2].imshow(same_direction.values)\n",
    "ax[3].imshow(direction.values)"
   ]
  },
  {
   "cell_type": "code",
   "execution_count": null,
   "metadata": {},
   "outputs": [],
   "source": [
    "print(stats.ttest_ind(distance_df.query('same_direction == True')['distance'], distance_df.query('same_direction == False')['distance']))"
   ]
  },
  {
   "cell_type": "code",
   "execution_count": null,
   "metadata": {},
   "outputs": [],
   "source": [
    "print(stats.mannwhitneyu(distance_df.query('same_direction == True')['distance'], distance_df.query('same_direction == False')['distance'], alternative='less'))"
   ]
  },
  {
   "cell_type": "code",
   "execution_count": null,
   "metadata": {},
   "outputs": [],
   "source": [
    "def distance_density_plot(ax=None):\n",
    "    if ax is None:\n",
    "        fig,ax=plt.subplots()\n",
    "    sns.histplot(\n",
    "        data=distance_df, \n",
    "        x=\"distance\", \n",
    "        hue='same_direction',\n",
    "        hue_order=[True,False],\n",
    "        kde=True,\n",
    "        stat='density',\n",
    "        common_norm=False,\n",
    "        palette=['gray','green'],\n",
    "        ax=ax,\n",
    "    )\n",
    "    ax.legend(['modulated in\\nsame direction','modulated in\\nopposite direction'], fontsize=12, frameon=False)\n",
    "    ax.set_xlabel('pairwise cell-center distance (pixels)',fontsize=14)\n",
    "    ax.set_ylabel('density',fontsize=14)\n",
    "    ax.set_yticklabels([])\n",
    "    sns.despine()\n",
    "distance_density_plot()"
   ]
  },
  {
   "cell_type": "markdown",
   "metadata": {},
   "source": [
    "## horizontal figure"
   ]
  },
  {
   "cell_type": "markdown",
   "metadata": {},
   "source": [
    "# vertical figure"
   ]
  },
  {
   "cell_type": "code",
   "execution_count": null,
   "metadata": {},
   "outputs": [],
   "source": [
    "save_fig = True\n",
    "\n",
    "figsize=(6,10)\n",
    "figure = plt.figure(figsize=figsize)\n",
    "axes = {\n",
    "    'A':plotting_utilities.placeAxesOnGrid(figure, xspan=[0.12,0.88], yspan=[0.1,0.46], dim=[2,2], hspace=0.01, wspace=0.01),\n",
    "    'B':plotting_utilities.placeAxesOnGrid(figure, xspan=[0.2,1], yspan=[0.65, 1]),\n",
    "}\n",
    "\n",
    "sample_mouse_id = list(session.keys())[0]\n",
    "all_cells_image = show_all_FOVs(ax=axes['A'])\n",
    "distance_density_plot(ax=axes['B'])\n",
    "\n",
    "# add labels\n",
    "labels = [\n",
    "    {'label_text':'A', 'xpos':0.0,   'ypos':0.00},\n",
    "    {'label_text':'B', 'xpos':0.0, 'ypos':0.51},\n",
    "]\n",
    "for label in labels:\n",
    "    plotting_utilities.add_label(\n",
    "        figure,\n",
    "        label_text = label['label_text'],\n",
    "        xpos = label['xpos'],\n",
    "        ypos = label['ypos'],\n",
    "        fontsize=20,\n",
    "        weight=\"bold\"\n",
    "    )\n",
    "    \n",
    "# add titles\n",
    "titles = [\n",
    "    {'title_text':'Fields of View\\n(red = + modulation, blue = - modulation)', 'xpos':0.5,   'ypos':0.0},\n",
    "    {'title_text':'Pairwise Distances between cell centers\\n(all sessions combined)', 'xpos':0.5, 'ypos':0.53},\n",
    "]\n",
    "for title in titles:\n",
    "    plotting_utilities.add_label(\n",
    "        figure,\n",
    "        label_text = title['title_text'],\n",
    "        xpos = title['xpos'],\n",
    "        ypos = title['ypos'],\n",
    "        fontsize=16,\n",
    "        ha='center',\n",
    "        va='top'\n",
    "    )\n",
    "\n",
    "if save_fig:\n",
    "    plotting_utilities.save_figure(figure, fname='figure_5', formats=['.png','.pdf'], size=figsize, dpi=500)"
   ]
  },
  {
   "cell_type": "markdown",
   "metadata": {},
   "source": [
    "## quantify cell counts for the sample ROI shown in A"
   ]
  },
  {
   "cell_type": "code",
   "execution_count": null,
   "metadata": {},
   "outputs": [],
   "source": [
    "len(session[sample_mouse_id].responsiveness_summary['cell_id'].unique())"
   ]
  },
  {
   "cell_type": "code",
   "execution_count": null,
   "metadata": {},
   "outputs": [],
   "source": [
    "df = session[sample_mouse_id].responsiveness_summary\n",
    "positively_driven_cells = df[\n",
    "    (df['condition']=='hit')\n",
    "    &(df['direction_of_effect_on_means']>0)\n",
    "    &(df['p-value_on_means']<=significance_level)\n",
    "]\n",
    "len(positively_driven_cells['cell_id'].unique())"
   ]
  },
  {
   "cell_type": "code",
   "execution_count": null,
   "metadata": {},
   "outputs": [],
   "source": [
    "df = session[sample_mouse_id].responsiveness_summary\n",
    "negatively_driven_cells = df[\n",
    "    (df['condition']=='hit')\n",
    "    &(df['direction_of_effect_on_means']<0)\n",
    "    &(df['p-value_on_means']<=significance_level)\n",
    "]\n",
    "len(negatively_driven_cells['cell_id'].unique())"
   ]
  },
  {
   "cell_type": "code",
   "execution_count": null,
   "metadata": {},
   "outputs": [],
   "source": [
    "df = session[sample_mouse_id].responsiveness_summary\n",
    "undriven_cells = df[\n",
    "    (df['condition']=='hit')\n",
    "    &(df['p-value_on_means']>significance_level)\n",
    "]\n",
    "len(undriven_cells['cell_id'].unique())"
   ]
  },
  {
   "cell_type": "code",
   "execution_count": null,
   "metadata": {},
   "outputs": [],
   "source": []
  }
 ],
 "metadata": {
  "kernelspec": {
   "display_name": "claustrum_imaging_manuscript",
   "language": "python",
   "name": "claustrum_imaging_manuscript"
  },
  "language_info": {
   "codemirror_mode": {
    "name": "ipython",
    "version": 3
   },
   "file_extension": ".py",
   "mimetype": "text/x-python",
   "name": "python",
   "nbconvert_exporter": "python",
   "pygments_lexer": "ipython3",
   "version": "3.7.9"
  }
 },
 "nbformat": 4,
 "nbformat_minor": 2
}
