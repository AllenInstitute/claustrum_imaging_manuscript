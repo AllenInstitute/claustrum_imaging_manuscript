{
 "cells": [
  {
   "cell_type": "code",
   "execution_count": 39,
   "metadata": {},
   "outputs": [
    {
     "data": {
      "text/html": [
       "<style>.container { width:100% !important; }</style>"
      ],
      "text/plain": [
       "<IPython.core.display.HTML object>"
      ]
     },
     "metadata": {},
     "output_type": "display_data"
    }
   ],
   "source": [
    "import numpy as np\n",
    "import pandas as pd\n",
    "import matplotlib.pyplot as plt\n",
    "from matplotlib import gridspec\n",
    "import os\n",
    "\n",
    "import seaborn as sns\n",
    "\n",
    "import imageio\n",
    "\n",
    "from mpl_toolkits.axes_grid1.inset_locator import inset_axes\n",
    "import visual_behavior.plotting as vbp\n",
    "\n",
    "# add the top level directory to allow it to be imported\n",
    "import sys\n",
    "sys.path.append(os.path.split(os.getcwd())[0])\n",
    "from utilities import plotting_utilities\n",
    "from utilities import helper_functions\n",
    "\n",
    "import xarray as xr\n",
    "from scipy import stats\n",
    "\n",
    "from IPython.core.display import display, HTML\n",
    "display(HTML(\"<style>.container { width:100% !important; }</style>\"))"
   ]
  },
  {
   "cell_type": "code",
   "execution_count": 2,
   "metadata": {},
   "outputs": [],
   "source": [
    "window_size=1.5 # number of seconds before/after each stimulus event over which to integrate activity for the purpose of calling a cell 'responsive'\n",
    "significance_level = 0.05 # level at which to declare a response 'significant'"
   ]
  },
  {
   "cell_type": "code",
   "execution_count": 3,
   "metadata": {},
   "outputs": [
    {
     "data": {
      "text/html": [
       "<div>\n",
       "<style scoped>\n",
       "    .dataframe tbody tr th:only-of-type {\n",
       "        vertical-align: middle;\n",
       "    }\n",
       "\n",
       "    .dataframe tbody tr th {\n",
       "        vertical-align: top;\n",
       "    }\n",
       "\n",
       "    .dataframe thead th {\n",
       "        text-align: right;\n",
       "    }\n",
       "</style>\n",
       "<table border=\"1\" class=\"dataframe\">\n",
       "  <thead>\n",
       "    <tr style=\"text-align: right;\">\n",
       "      <th></th>\n",
       "      <th>mouse_id</th>\n",
       "      <th>sex</th>\n",
       "      <th>genotype</th>\n",
       "      <th>AP_coord</th>\n",
       "      <th>ML_coord</th>\n",
       "      <th>DV_coord</th>\n",
       "      <th>session_type</th>\n",
       "      <th>recording_date</th>\n",
       "      <th>processing_date</th>\n",
       "    </tr>\n",
       "  </thead>\n",
       "  <tbody>\n",
       "    <tr>\n",
       "      <th>10</th>\n",
       "      <td>M332849</td>\n",
       "      <td>M</td>\n",
       "      <td>Gnb4-IRES2-CreERT2/wt;Camk2a-tTA/wt;Ai93(TITL-...</td>\n",
       "      <td>1.5</td>\n",
       "      <td>3.125</td>\n",
       "      <td>2.5</td>\n",
       "      <td>active</td>\n",
       "      <td>2018-06-14 12:44:33.658000</td>\n",
       "      <td>2018-07-26 12:11:01.983524799-07:00</td>\n",
       "    </tr>\n",
       "    <tr>\n",
       "      <th>11</th>\n",
       "      <td>M348126</td>\n",
       "      <td>F</td>\n",
       "      <td>Gnb4-IRES2-CreERT2/wt;Camk2a-tTA/wt;Ai94(TITL-...</td>\n",
       "      <td>1.5</td>\n",
       "      <td>2.625</td>\n",
       "      <td>2.5</td>\n",
       "      <td>active</td>\n",
       "      <td>2018-06-13 13:47:38.463000</td>\n",
       "      <td>2018-07-26 18:15:45.828682184-07:00</td>\n",
       "    </tr>\n",
       "    <tr>\n",
       "      <th>12</th>\n",
       "      <td>M351181</td>\n",
       "      <td>F</td>\n",
       "      <td>Gnb4-IRES2-CreERT2/wt;Camk2a-tTA/wt;Ai94(TITL-...</td>\n",
       "      <td>1.5</td>\n",
       "      <td>2.625</td>\n",
       "      <td>2.5</td>\n",
       "      <td>active</td>\n",
       "      <td>2018-03-14 14:32:15.328000</td>\n",
       "      <td>2018-07-26 18:59:36.293976068-07:00</td>\n",
       "    </tr>\n",
       "    <tr>\n",
       "      <th>13</th>\n",
       "      <td>M397408</td>\n",
       "      <td>F</td>\n",
       "      <td>Gnb4-IRES2-CreERT2/wt;Camk2a-tTA/wt;Ai93(TITL-...</td>\n",
       "      <td>1.5</td>\n",
       "      <td>2.625</td>\n",
       "      <td>2.5</td>\n",
       "      <td>active</td>\n",
       "      <td>2018-11-01 11:40:14.487000</td>\n",
       "      <td>2019-01-22 01:32:10.700291872-08:00</td>\n",
       "    </tr>\n",
       "  </tbody>\n",
       "</table>\n",
       "</div>"
      ],
      "text/plain": [
       "   mouse_id sex                                           genotype  AP_coord  \\\n",
       "10  M332849   M  Gnb4-IRES2-CreERT2/wt;Camk2a-tTA/wt;Ai93(TITL-...       1.5   \n",
       "11  M348126   F  Gnb4-IRES2-CreERT2/wt;Camk2a-tTA/wt;Ai94(TITL-...       1.5   \n",
       "12  M351181   F  Gnb4-IRES2-CreERT2/wt;Camk2a-tTA/wt;Ai94(TITL-...       1.5   \n",
       "13  M397408   F  Gnb4-IRES2-CreERT2/wt;Camk2a-tTA/wt;Ai93(TITL-...       1.5   \n",
       "\n",
       "    ML_coord  DV_coord session_type              recording_date  \\\n",
       "10     3.125       2.5       active  2018-06-14 12:44:33.658000   \n",
       "11     2.625       2.5       active  2018-06-13 13:47:38.463000   \n",
       "12     2.625       2.5       active  2018-03-14 14:32:15.328000   \n",
       "13     2.625       2.5       active  2018-11-01 11:40:14.487000   \n",
       "\n",
       "                        processing_date  \n",
       "10  2018-07-26 12:11:01.983524799-07:00  \n",
       "11  2018-07-26 18:15:45.828682184-07:00  \n",
       "12  2018-07-26 18:59:36.293976068-07:00  \n",
       "13  2019-01-22 01:32:10.700291872-08:00  "
      ]
     },
     "execution_count": 3,
     "metadata": {},
     "output_type": "execute_result"
    }
   ],
   "source": [
    "data_path = os.path.join(os.path.split(os.getcwd())[0],'data')\n",
    "session_list = pd.read_csv(os.path.join(os.path.join(data_path,'session_list.csv')))\n",
    "active_sessions = session_list.query('session_type == \"active\"')\n",
    "active_sessions"
   ]
  },
  {
   "cell_type": "code",
   "execution_count": 4,
   "metadata": {},
   "outputs": [
    {
     "name": "stdout",
     "output_type": "stream",
     "text": [
      "on session 4 of 4   \r"
     ]
    }
   ],
   "source": [
    "session = {}\n",
    "for idx,row in active_sessions.reset_index().iterrows():\n",
    "    session[row['mouse_id']] = helper_functions.load_session(row['mouse_id'], session_type='active')\n",
    "    print('on session {} of {}   '.format(idx+1,len(active_sessions)),end='\\r')"
   ]
  },
  {
   "cell_type": "markdown",
   "metadata": {},
   "source": [
    "## build out responsiveness summary"
   ]
  },
  {
   "cell_type": "code",
   "execution_count": 20,
   "metadata": {},
   "outputs": [],
   "source": [
    "figure_3_folder = os.path.join(os.path.split(os.getcwd())[0], 'figure_3')\n",
    "responsiveness_summary_all = pd.read_csv(os.path.join(figure_3_folder, 'active_responsiveness_summary.csv'))\n",
    "for mouse_id in session.keys():\n",
    "    session[mouse_id].responsiveness_summary = responsiveness_summary_all.query('mouse_id == @mouse_id').copy()"
   ]
  },
  {
   "cell_type": "code",
   "execution_count": 28,
   "metadata": {},
   "outputs": [],
   "source": [
    "def make_cell_map(session, ax=None):\n",
    "    if ax is None:\n",
    "        fig,ax=plt.subplots()\n",
    "\n",
    "    cells_to_show = session.filtered_cell_ids\n",
    "\n",
    "    # create an empty RGB image to add the cell images to\n",
    "    rows, cols = np.shape(session.cell_images[session.filtered_cell_ids[0]])\n",
    "    all_cells_image = np.zeros((rows, cols, 3))\n",
    "\n",
    "    for cell_id in cells_to_show:\n",
    "        cell_img = session.cell_images[cell_id]\n",
    "        cell_img /= cell_img.max()\n",
    "        cell_img[cell_img > 0.5] = 1\n",
    "        cell_img[cell_img <= 0.5] = 0\n",
    "\n",
    "        this_cell = session.responsiveness_summary.query('cell_id == @cell_id and condition == \"hit\"').iloc[0]\n",
    "\n",
    "        if this_cell['direction_of_effect_on_means'] > 0 and this_cell['p-value_on_means'] <= significance_level:\n",
    "            # make cell red by filling only R channel\n",
    "            all_cells_image[:, :, 0] += cell_img\n",
    "        elif this_cell['direction_of_effect_on_means'] < 0 and this_cell['p-value_on_means'] <= significance_level:\n",
    "            # make cell blue by filling only B channel\n",
    "            all_cells_image[:, :, 2] += cell_img\n",
    "        else:\n",
    "            # make cell white by filling all channels equally\n",
    "            for channel in range(3):\n",
    "                all_cells_image[:, :, channel] += cell_img\n",
    "                \n",
    "    # clip at 0 and 1\n",
    "    all_cells_image[np.where(all_cells_image > 1)] = 1\n",
    "    all_cells_image[np.where(all_cells_image < 0)] = 0\n",
    "    ax.imshow(all_cells_image)    \n",
    "    ax.axis('off')\n",
    "    \n",
    "    return all_cells_image"
   ]
  },
  {
   "cell_type": "code",
   "execution_count": 29,
   "metadata": {},
   "outputs": [
    {
     "data": {
      "image/png": "[encoded data removed]",
      "text/plain": [
       "<Figure size 1440x720 with 4 Axes>"
      ]
     },
     "metadata": {
      "needs_background": "light"
     },
     "output_type": "display_data"
    }
   ],
   "source": [
    "fig,ax=plt.subplots(2,2,figsize=(20,10))\n",
    "for ii, mouse_id in enumerate(session.keys()):\n",
    "    all_cells_image = make_cell_map(session[mouse_id], ax.flatten()[ii])\n",
    "    ax.flatten()[ii].axis('off')"
   ]
  },
  {
   "cell_type": "code",
   "execution_count": 32,
   "metadata": {},
   "outputs": [],
   "source": [
    "def get_distance(session, cell_0, cell_1):\n",
    "    x0 = session.metrics.loc[cell_0]['overallCenterInPixelsX']\n",
    "    y0 = session.metrics.loc[cell_0]['overallCenterInPixelsY']\n",
    "\n",
    "    x1 = session.metrics.loc[cell_1]['overallCenterInPixelsX']\n",
    "    y1 = session.metrics.loc[cell_1]['overallCenterInPixelsY']\n",
    "\n",
    "    return np.sqrt((x1 - x0)**2 + (y1 - y0)**2)"
   ]
  },
  {
   "cell_type": "code",
   "execution_count": 40,
   "metadata": {},
   "outputs": [
    {
     "name": "stdout",
     "output_type": "stream",
     "text": [
      "Ttest_indResult(statistic=0.5993691155174907, pvalue=0.5489799309596226)\n",
      "Ttest_indResult(statistic=0.6053573328831919, pvalue=0.5449885741457791)\n",
      "Ttest_indResult(statistic=2.148329996049898, pvalue=0.03187575204456136)\n",
      "Ttest_indResult(statistic=-4.540081008160066, pvalue=8.429780350344854e-06)\n"
     ]
    }
   ],
   "source": [
    "dfs = []\n",
    "for mouse_id in session.keys():\n",
    "    distances = xr.DataArray(\n",
    "        np.zeros((len(session[mouse_id].filtered_cell_ids), len(session[mouse_id].filtered_cell_ids))),\n",
    "        dims=('cell_0','cell_1'),\n",
    "        coords={'cell_0': session[mouse_id].filtered_cell_ids, 'cell_1': session[mouse_id].filtered_cell_ids}\n",
    "    )*np.nan\n",
    "\n",
    "    both_significant = xr.DataArray(\n",
    "        np.zeros((len(session[mouse_id].filtered_cell_ids), len(session[mouse_id].filtered_cell_ids))),\n",
    "        dims=('cell_0','cell_1'),\n",
    "        coords={'cell_0': session[mouse_id].filtered_cell_ids, 'cell_1': session[mouse_id].filtered_cell_ids}\n",
    "    )*np.nan\n",
    "\n",
    "    same_direction = xr.DataArray(\n",
    "        np.zeros((len(session[mouse_id].filtered_cell_ids), len(session[mouse_id].filtered_cell_ids))),\n",
    "        dims=('cell_0','cell_1'),\n",
    "        coords={'cell_0': session[mouse_id].filtered_cell_ids, 'cell_1': session[mouse_id].filtered_cell_ids}\n",
    "    )*np.nan\n",
    "\n",
    "    direction = xr.DataArray(\n",
    "        np.zeros((len(session[mouse_id].filtered_cell_ids), len(session[mouse_id].filtered_cell_ids))),\n",
    "        dims=('cell_0','cell_1'),\n",
    "        coords={'cell_0': session[mouse_id].filtered_cell_ids, 'cell_1': session[mouse_id].filtered_cell_ids}\n",
    "    )*np.nan\n",
    "\n",
    "    for row,cell_0 in enumerate(session[mouse_id].filtered_cell_ids):\n",
    "        print(cell_0, end='\\r')\n",
    "        for col,cell_1 in enumerate(session[mouse_id].filtered_cell_ids):\n",
    "            if row > col:\n",
    "                distances.loc[dict(cell_0 = cell_0, cell_1 = cell_1)] = get_distance(session[mouse_id], cell_0, cell_1)\n",
    "\n",
    "                c0_rs = session[mouse_id].responsiveness_summary.query('cell_id == @cell_0 and condition == \"hit\"').iloc[0]\n",
    "                c1_rs = session[mouse_id].responsiveness_summary.query('cell_id == @cell_1 and condition == \"hit\"').iloc[0]\n",
    "                both_significant.loc[dict(cell_0 = cell_0, cell_1 = cell_1)] = c0_rs['p-value_on_means'] <= significance_level and c1_rs['p-value_on_means'] <= significance_level\n",
    "                same_direction.loc[dict(cell_0 = cell_0, cell_1 = cell_1)] = c0_rs['direction_of_effect_on_means'] == c1_rs['direction_of_effect_on_means'] \n",
    "                if c0_rs['direction_of_effect_on_means'] == c1_rs['direction_of_effect_on_means']:\n",
    "                    direction.loc[dict(cell_0 = cell_0, cell_1 = cell_1)] = c0_rs['direction_of_effect_on_means'] \n",
    "\n",
    "\n",
    "    list_of_dicts = []\n",
    "    # build out a dataframe of values where both cells have significant responses\n",
    "    locs = np.where(both_significant == 1)\n",
    "    for x,y in zip(locs[0], locs[1]):\n",
    "        list_of_dicts.append({\n",
    "            'cell_0':str(both_significant[x,y].coords['cell_0'].values),\n",
    "            'cell_1':str(both_significant[x,y].coords['cell_1'].values),\n",
    "            'distance':float(distances[x,y].values),\n",
    "            'same_direction':bool(same_direction[x,y].values),\n",
    "            'direction':float(direction[x,y].values),\n",
    "        })\n",
    "    df = pd.DataFrame(list_of_dicts)\n",
    "    dfs.append(df)\n",
    "    print(stats.ttest_ind(df.query('same_direction == True')['distance'], df.query('same_direction == False')['distance']))\n",
    "    \n",
    "distance_df = pd.concat(dfs)    "
   ]
  },
  {
   "cell_type": "code",
   "execution_count": 41,
   "metadata": {},
   "outputs": [
    {
     "data": {
      "text/html": [
       "<div>\n",
       "<style scoped>\n",
       "    .dataframe tbody tr th:only-of-type {\n",
       "        vertical-align: middle;\n",
       "    }\n",
       "\n",
       "    .dataframe tbody tr th {\n",
       "        vertical-align: top;\n",
       "    }\n",
       "\n",
       "    .dataframe thead th {\n",
       "        text-align: right;\n",
       "    }\n",
       "</style>\n",
       "<table border=\"1\" class=\"dataframe\">\n",
       "  <thead>\n",
       "    <tr style=\"text-align: right;\">\n",
       "      <th></th>\n",
       "      <th>cell_0</th>\n",
       "      <th>cell_1</th>\n",
       "      <th>distance</th>\n",
       "      <th>same_direction</th>\n",
       "      <th>direction</th>\n",
       "    </tr>\n",
       "  </thead>\n",
       "  <tbody>\n",
       "    <tr>\n",
       "      <th>0</th>\n",
       "      <td>C005</td>\n",
       "      <td>C000</td>\n",
       "      <td>28.442925</td>\n",
       "      <td>True</td>\n",
       "      <td>-1.0</td>\n",
       "    </tr>\n",
       "    <tr>\n",
       "      <th>1</th>\n",
       "      <td>C006</td>\n",
       "      <td>C000</td>\n",
       "      <td>145.413204</td>\n",
       "      <td>False</td>\n",
       "      <td>NaN</td>\n",
       "    </tr>\n",
       "    <tr>\n",
       "      <th>2</th>\n",
       "      <td>C006</td>\n",
       "      <td>C005</td>\n",
       "      <td>118.726577</td>\n",
       "      <td>False</td>\n",
       "      <td>NaN</td>\n",
       "    </tr>\n",
       "    <tr>\n",
       "      <th>3</th>\n",
       "      <td>C012</td>\n",
       "      <td>C000</td>\n",
       "      <td>59.396970</td>\n",
       "      <td>True</td>\n",
       "      <td>-1.0</td>\n",
       "    </tr>\n",
       "    <tr>\n",
       "      <th>4</th>\n",
       "      <td>C012</td>\n",
       "      <td>C005</td>\n",
       "      <td>49.040799</td>\n",
       "      <td>True</td>\n",
       "      <td>-1.0</td>\n",
       "    </tr>\n",
       "    <tr>\n",
       "      <th>...</th>\n",
       "      <td>...</td>\n",
       "      <td>...</td>\n",
       "      <td>...</td>\n",
       "      <td>...</td>\n",
       "      <td>...</td>\n",
       "    </tr>\n",
       "    <tr>\n",
       "      <th>271</th>\n",
       "      <td>C165</td>\n",
       "      <td>C024</td>\n",
       "      <td>95.047357</td>\n",
       "      <td>False</td>\n",
       "      <td>NaN</td>\n",
       "    </tr>\n",
       "    <tr>\n",
       "      <th>272</th>\n",
       "      <td>C165</td>\n",
       "      <td>C070</td>\n",
       "      <td>83.294658</td>\n",
       "      <td>False</td>\n",
       "      <td>NaN</td>\n",
       "    </tr>\n",
       "    <tr>\n",
       "      <th>273</th>\n",
       "      <td>C165</td>\n",
       "      <td>C103</td>\n",
       "      <td>95.084173</td>\n",
       "      <td>False</td>\n",
       "      <td>NaN</td>\n",
       "    </tr>\n",
       "    <tr>\n",
       "      <th>274</th>\n",
       "      <td>C165</td>\n",
       "      <td>C115</td>\n",
       "      <td>21.023796</td>\n",
       "      <td>True</td>\n",
       "      <td>-1.0</td>\n",
       "    </tr>\n",
       "    <tr>\n",
       "      <th>275</th>\n",
       "      <td>C165</td>\n",
       "      <td>C158</td>\n",
       "      <td>12.041595</td>\n",
       "      <td>True</td>\n",
       "      <td>-1.0</td>\n",
       "    </tr>\n",
       "  </tbody>\n",
       "</table>\n",
       "<p>7033 rows × 5 columns</p>\n",
       "</div>"
      ],
      "text/plain": [
       "    cell_0 cell_1    distance  same_direction  direction\n",
       "0     C005   C000   28.442925            True       -1.0\n",
       "1     C006   C000  145.413204           False        NaN\n",
       "2     C006   C005  118.726577           False        NaN\n",
       "3     C012   C000   59.396970            True       -1.0\n",
       "4     C012   C005   49.040799            True       -1.0\n",
       "..     ...    ...         ...             ...        ...\n",
       "271   C165   C024   95.047357           False        NaN\n",
       "272   C165   C070   83.294658           False        NaN\n",
       "273   C165   C103   95.084173           False        NaN\n",
       "274   C165   C115   21.023796            True       -1.0\n",
       "275   C165   C158   12.041595            True       -1.0\n",
       "\n",
       "[7033 rows x 5 columns]"
      ]
     },
     "execution_count": 41,
     "metadata": {},
     "output_type": "execute_result"
    }
   ],
   "source": [
    "distance_df"
   ]
  },
  {
   "cell_type": "code",
   "execution_count": 42,
   "metadata": {},
   "outputs": [
    {
     "data": {
      "text/plain": [
       "(29, 29)"
      ]
     },
     "execution_count": 42,
     "metadata": {},
     "output_type": "execute_result"
    }
   ],
   "source": [
    "distances.shape"
   ]
  },
  {
   "cell_type": "code",
   "execution_count": 45,
   "metadata": {},
   "outputs": [
    {
     "data": {
      "text/plain": [
       "<matplotlib.image.AxesImage at 0x7f52d8216470>"
      ]
     },
     "execution_count": 45,
     "metadata": {},
     "output_type": "execute_result"
    },
    {
     "data": {
      "image/png": "[encoded data removed]",
      "text/plain": [
       "<Figure size 1440x360 with 4 Axes>"
      ]
     },
     "metadata": {
      "needs_background": "light"
     },
     "output_type": "display_data"
    }
   ],
   "source": [
    "fig,ax=plt.subplots(1,4,figsize=(20,5))\n",
    "ax[0].imshow(distances.values)\n",
    "ax[1].imshow(both_significant.values)\n",
    "ax[2].imshow(same_direction.values)\n",
    "ax[3].imshow(direction.values)"
   ]
  },
  {
   "cell_type": "code",
   "execution_count": 46,
   "metadata": {},
   "outputs": [
    {
     "name": "stdout",
     "output_type": "stream",
     "text": [
      "Ttest_indResult(statistic=1.4531419286279144, pvalue=0.14622898005971383)\n"
     ]
    }
   ],
   "source": [
    "print(stats.ttest_ind(distance_df.query('same_direction == True')['distance'], distance_df.query('same_direction == False')['distance']))"
   ]
  },
  {
   "cell_type": "code",
   "execution_count": 47,
   "metadata": {},
   "outputs": [
    {
     "name": "stdout",
     "output_type": "stream",
     "text": [
      "MannwhitneyuResult(statistic=6310045.5, pvalue=0.9523719538727892)\n"
     ]
    }
   ],
   "source": [
    "print(stats.mannwhitneyu(distance_df.query('same_direction == True')['distance'], distance_df.query('same_direction == False')['distance'], alternative='less'))"
   ]
  },
  {
   "cell_type": "code",
   "execution_count": 48,
   "metadata": {},
   "outputs": [
    {
     "data": {
      "image/png": "[encoded data removed]",
      "text/plain": [
       "<Figure size 432x288 with 1 Axes>"
      ]
     },
     "metadata": {
      "needs_background": "light"
     },
     "output_type": "display_data"
    }
   ],
   "source": [
    "def distance_density_plot(ax=None):\n",
    "    if ax is None:\n",
    "        fig,ax=plt.subplots()\n",
    "    sns.histplot(\n",
    "        data=distance_df, \n",
    "        x=\"distance\", \n",
    "        hue='same_direction',\n",
    "        hue_order=[True,False],\n",
    "        kde=True,\n",
    "        stat='density',\n",
    "        common_norm=False,\n",
    "        ax=ax,\n",
    "    )\n",
    "    ax.legend(['modulated in\\nsame direction','modulated in\\nopposite direction'],fontsize=12)\n",
    "    ax.set_xlabel('pairwise cell-center distance (pixels)',fontsize=14)\n",
    "    ax.set_ylabel('density',fontsize=14)\n",
    "    ax.set_yticklabels([])\n",
    "    sns.despine()\n",
    "distance_density_plot()"
   ]
  },
  {
   "cell_type": "code",
   "execution_count": 52,
   "metadata": {},
   "outputs": [
    {
     "data": {
      "image/png": "[encoded data removed]",
      "text/plain": [
       "<Figure size 1224x288 with 4 Axes>"
      ]
     },
     "metadata": {
      "needs_background": "light"
     },
     "output_type": "display_data"
    }
   ],
   "source": [
    "save_fig = True\n",
    "\n",
    "figsize=(2*8.5,2*2)\n",
    "figure_4 = plt.figure(figsize=figsize)\n",
    "axes = {\n",
    "    'A':plotting_utilities.placeAxesOnGrid(figure_4, xspan=[0.0,0.4], yspan=[0.1,1]),\n",
    "    'B':plotting_utilities.placeAxesOnGrid(figure_4, xspan=[0.5,1], yspan=[0.15,0.95]),\n",
    "}\n",
    "\n",
    "sample_mouse_id = list(session.keys())[0]\n",
    "all_cells_image = make_cell_map(session[sample_mouse_id], ax=axes['A'])\n",
    "axes['A'].set_title('Sample Field of View',fontsize=20)\n",
    "distance_density_plot(ax=axes['B'])\n",
    "axes['B'].set_title('Pairwise Distances between cell centers\\n(all sessions combined)',fontsize=20)\n",
    "\n",
    "# add labels\n",
    "labels = [\n",
    "    {'label_text':'A', 'xpos':0,   'ypos':0.00},\n",
    "    {'label_text':'B', 'xpos':0.45, 'ypos':0.00},\n",
    "]\n",
    "for label in labels:\n",
    "    plotting_utilities.add_label(\n",
    "        figure_4,\n",
    "        label_text = label['label_text'],\n",
    "        xpos = label['xpos'],\n",
    "        ypos = label['ypos'],\n",
    "        fontsize=20,\n",
    "        weight=\"bold\"\n",
    "    )\n",
    "\n",
    "if save_fig:\n",
    "    plotting_utilities.save_figure(figure_4, fname='figure_4', formats=['.png','.pdf'], size=figsize, dpi=500)"
   ]
  },
  {
   "cell_type": "code",
   "execution_count": null,
   "metadata": {},
   "outputs": [],
   "source": []
  }
 ],
 "metadata": {
  "kernelspec": {
   "display_name": "isxenv",
   "language": "python",
   "name": "isxenv"
  },
  "language_info": {
   "codemirror_mode": {
    "name": "ipython",
    "version": 3
   },
   "file_extension": ".py",
   "mimetype": "text/x-python",
   "name": "python",
   "nbconvert_exporter": "python",
   "pygments_lexer": "ipython3",
   "version": "3.7.2"
  }
 },
 "nbformat": 4,
 "nbformat_minor": 2
}
