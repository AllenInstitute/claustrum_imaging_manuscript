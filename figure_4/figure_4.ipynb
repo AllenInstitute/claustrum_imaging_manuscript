{
 "cells": [
  {
   "cell_type": "code",
   "execution_count": 1,
   "metadata": {},
   "outputs": [
    {
     "data": {
      "text/html": [
       "<style>.container { width:100% !important; }</style>"
      ],
      "text/plain": [
       "<IPython.core.display.HTML object>"
      ]
     },
     "metadata": {},
     "output_type": "display_data"
    }
   ],
   "source": [
    "import numpy as np\n",
    "import matplotlib.pyplot as plt\n",
    "\n",
    "import seaborn as sns\n",
    "\n",
    "from mpl_toolkits.axes_grid1.inset_locator import inset_axes\n",
    "\n",
    "import os\n",
    "import pandas as pd\n",
    "\n",
    "from scipy import stats\n",
    "import imageio\n",
    "\n",
    "# add the top level directory to allow it to be imported\n",
    "import sys\n",
    "sys.path.append(os.path.split(os.getcwd())[0])\n",
    "from utilities import plotting_utilities\n",
    "from utilities import helper_functions\n",
    "\n",
    "pd.set_option('display.max_columns', 500)\n",
    "\n",
    "from IPython.core.display import display, HTML\n",
    "display(HTML(\"<style>.container { width:100% !important; }</style>\"))"
   ]
  },
  {
   "cell_type": "code",
   "execution_count": 2,
   "metadata": {},
   "outputs": [],
   "source": [
    "window_size=1.5 # number of seconds before/after each stimulus event over which to integrate activity for the purpose of calling a cell 'responsive'\n",
    "significance_level = 0.05 # level at which to declare a response 'significant'"
   ]
  },
  {
   "cell_type": "code",
   "execution_count": 3,
   "metadata": {},
   "outputs": [
    {
     "data": {
      "text/html": [
       "<div>\n",
       "<style scoped>\n",
       "    .dataframe tbody tr th:only-of-type {\n",
       "        vertical-align: middle;\n",
       "    }\n",
       "\n",
       "    .dataframe tbody tr th {\n",
       "        vertical-align: top;\n",
       "    }\n",
       "\n",
       "    .dataframe thead th {\n",
       "        text-align: right;\n",
       "    }\n",
       "</style>\n",
       "<table border=\"1\" class=\"dataframe\">\n",
       "  <thead>\n",
       "    <tr style=\"text-align: right;\">\n",
       "      <th></th>\n",
       "      <th>mouse_id</th>\n",
       "      <th>sex</th>\n",
       "      <th>genotype</th>\n",
       "      <th>AP_coord</th>\n",
       "      <th>ML_coord</th>\n",
       "      <th>DV_coord</th>\n",
       "      <th>session_type</th>\n",
       "      <th>recording_date</th>\n",
       "      <th>processing_date</th>\n",
       "    </tr>\n",
       "  </thead>\n",
       "  <tbody>\n",
       "    <tr>\n",
       "      <th>18</th>\n",
       "      <td>M332849</td>\n",
       "      <td>M</td>\n",
       "      <td>Gnb4-IRES2-CreERT2/wt;Camk2a-tTA/wt;Ai93(TITL-...</td>\n",
       "      <td>1.5</td>\n",
       "      <td>3.125</td>\n",
       "      <td>2.5</td>\n",
       "      <td>active</td>\n",
       "      <td>2018-06-14 12:44:33.658000</td>\n",
       "      <td>2018-07-26 12:11:01.983524799-07:00</td>\n",
       "    </tr>\n",
       "    <tr>\n",
       "      <th>19</th>\n",
       "      <td>M348126</td>\n",
       "      <td>F</td>\n",
       "      <td>Gnb4-IRES2-CreERT2/wt;Camk2a-tTA/wt;Ai94(TITL-...</td>\n",
       "      <td>1.5</td>\n",
       "      <td>2.625</td>\n",
       "      <td>2.5</td>\n",
       "      <td>active</td>\n",
       "      <td>2018-06-13 13:47:38.463000</td>\n",
       "      <td>2018-07-26 18:15:45.828682184-07:00</td>\n",
       "    </tr>\n",
       "    <tr>\n",
       "      <th>20</th>\n",
       "      <td>M351181</td>\n",
       "      <td>F</td>\n",
       "      <td>Gnb4-IRES2-CreERT2/wt;Camk2a-tTA/wt;Ai94(TITL-...</td>\n",
       "      <td>1.5</td>\n",
       "      <td>2.625</td>\n",
       "      <td>2.5</td>\n",
       "      <td>active</td>\n",
       "      <td>2018-03-14 14:32:15.328000</td>\n",
       "      <td>2018-07-26 18:59:36.293976068-07:00</td>\n",
       "    </tr>\n",
       "    <tr>\n",
       "      <th>21</th>\n",
       "      <td>M397408</td>\n",
       "      <td>F</td>\n",
       "      <td>Gnb4-IRES2-CreERT2/wt;Camk2a-tTA/wt;Ai93(TITL-...</td>\n",
       "      <td>1.5</td>\n",
       "      <td>2.625</td>\n",
       "      <td>2.5</td>\n",
       "      <td>active</td>\n",
       "      <td>2018-11-01 11:40:14.487000</td>\n",
       "      <td>2019-01-22 01:32:10.700291872-08:00</td>\n",
       "    </tr>\n",
       "  </tbody>\n",
       "</table>\n",
       "</div>"
      ],
      "text/plain": [
       "   mouse_id sex                                           genotype  AP_coord  \\\n",
       "18  M332849   M  Gnb4-IRES2-CreERT2/wt;Camk2a-tTA/wt;Ai93(TITL-...       1.5   \n",
       "19  M348126   F  Gnb4-IRES2-CreERT2/wt;Camk2a-tTA/wt;Ai94(TITL-...       1.5   \n",
       "20  M351181   F  Gnb4-IRES2-CreERT2/wt;Camk2a-tTA/wt;Ai94(TITL-...       1.5   \n",
       "21  M397408   F  Gnb4-IRES2-CreERT2/wt;Camk2a-tTA/wt;Ai93(TITL-...       1.5   \n",
       "\n",
       "    ML_coord  DV_coord session_type              recording_date  \\\n",
       "18     3.125       2.5       active  2018-06-14 12:44:33.658000   \n",
       "19     2.625       2.5       active  2018-06-13 13:47:38.463000   \n",
       "20     2.625       2.5       active  2018-03-14 14:32:15.328000   \n",
       "21     2.625       2.5       active  2018-11-01 11:40:14.487000   \n",
       "\n",
       "                        processing_date  \n",
       "18  2018-07-26 12:11:01.983524799-07:00  \n",
       "19  2018-07-26 18:15:45.828682184-07:00  \n",
       "20  2018-07-26 18:59:36.293976068-07:00  \n",
       "21  2019-01-22 01:32:10.700291872-08:00  "
      ]
     },
     "execution_count": 3,
     "metadata": {},
     "output_type": "execute_result"
    }
   ],
   "source": [
    "data_path = os.path.join(os.path.split(os.getcwd())[0],'data')\n",
    "session_list = pd.read_csv(os.path.join(os.path.join(data_path,'session_list.csv')))\n",
    "active_sessions = session_list.query('session_type == \"active\"')\n",
    "active_sessions"
   ]
  },
  {
   "cell_type": "code",
   "execution_count": 4,
   "metadata": {},
   "outputs": [
    {
     "data": {
      "text/plain": [
       "count     4.00\n",
       "mean      7.25\n",
       "std       2.50\n",
       "min       6.00\n",
       "25%       6.00\n",
       "50%       6.00\n",
       "75%       7.25\n",
       "max      11.00\n",
       "dtype: float64"
      ]
     },
     "execution_count": 4,
     "metadata": {},
     "output_type": "execute_result"
    }
   ],
   "source": [
    "## training days required before reaching the final task stage\n",
    "## this is a proxy for learning rate\n",
    "training_days = {\n",
    "    'M332849': 6,\n",
    "    'M348126': 6,\n",
    "    'M351181': 6,\n",
    "    'M397408': 11,\n",
    "}\n",
    "training_days_stats = pd.Series([v for k,v in training_days.items()]).describe()\n",
    "training_days_stats"
   ]
  },
  {
   "cell_type": "code",
   "execution_count": 5,
   "metadata": {},
   "outputs": [
    {
     "name": "stdout",
     "output_type": "stream",
     "text": [
      "on session 4 of 4   \r"
     ]
    }
   ],
   "source": [
    "session = {}\n",
    "for idx,row in active_sessions.reset_index().iterrows():\n",
    "    session[row['mouse_id']] = helper_functions.load_session(row['mouse_id'], session_type='active')\n",
    "    print('on session {} of {}   '.format(idx+1,len(active_sessions)),end='\\r')"
   ]
  },
  {
   "cell_type": "code",
   "execution_count": 6,
   "metadata": {},
   "outputs": [
    {
     "data": {
      "text/plain": [
       "{'M332849': <utilities.helper_functions.Session at 0x7f5bdf36f950>,\n",
       " 'M348126': <utilities.helper_functions.Session at 0x7f5bdf2cfa90>,\n",
       " 'M351181': <utilities.helper_functions.Session at 0x7f5bdf2cfd10>,\n",
       " 'M397408': <utilities.helper_functions.Session at 0x7f5bdf2d4650>}"
      ]
     },
     "execution_count": 6,
     "metadata": {},
     "output_type": "execute_result"
    }
   ],
   "source": [
    "session"
   ]
  },
  {
   "cell_type": "markdown",
   "metadata": {},
   "source": [
    "## build out responsiveness summary"
   ]
  },
  {
   "cell_type": "code",
   "execution_count": 7,
   "metadata": {},
   "outputs": [
    {
     "name": "stdout",
     "output_type": "stream",
     "text": [
      "on 0 of 4\n",
      "on 1 of 4\n",
      "on 2 of 4\n",
      "on 3 of 4\n"
     ]
    }
   ],
   "source": [
    "# frames before and after each event to include in event-triggered averages\n",
    "frame_before=200\n",
    "frame_after=200\n",
    "\n",
    "event_types = ['hit','miss','fa','cr']   \n",
    "mean_response_dfs = {event_type:pd.DataFrame(\n",
    "    {'t':np.linspace(-frame_before*0.05,(frame_after-1)*0.05,frame_before+frame_after)}\n",
    ") for event_type in event_types}\n",
    "\n",
    "responsiveness_summary_all = []\n",
    "for ii, mouse_id in enumerate(session.keys()):\n",
    "    print('on {} of {}'.format(ii,len(session.keys())))\n",
    "\n",
    "    # set responsiveness_data as an attribute of the session:\n",
    "    session[mouse_id].responsiveness_data = helper_functions.get_responsiveness_data(\n",
    "        session[mouse_id], \n",
    "        window_size=window_size\n",
    "    )\n",
    "    \n",
    "    session[mouse_id].responsiveness_summary = helper_functions.build_responsiveness_summary(\n",
    "        session[mouse_id],\n",
    "        window_size = window_size\n",
    "    )\n",
    "    responsiveness_summary_all.append(session[mouse_id].responsiveness_summary)\n",
    "\n",
    "    # build out datatframes containing mean resonses for every cell and every event type\n",
    "    for cell_id in session[mouse_id].filtered_cell_ids:\n",
    "        for condition in ['hit','miss','fa','cr']:\n",
    "            events = session[mouse_id].event_dict['{}_events'.format(condition)]\n",
    "            dat = helper_functions.get_responses(\n",
    "                session[mouse_id],\n",
    "                cell_id,\n",
    "                events,\n",
    "                frame_before = frame_before,\n",
    "                frame_after = frame_after\n",
    "            )\n",
    "            mean_response_dfs[condition]['{}_{}'.format(mouse_id,cell_id)] = dat['trace_mean']\n",
    "\n",
    "responsiveness_summary_all = pd.concat(responsiveness_summary_all)\n",
    "responsiveness_summary_all['integral_change_magnitude'] = (\n",
    "    responsiveness_summary_all['post_stim_integral_mean'] - responsiveness_summary_all['pre_stim_integral_mean']\n",
    ")\n",
    "responsiveness_summary_all['mean_change_magnitude'] = (\n",
    "    responsiveness_summary_all['post_stim_mean_all'] - responsiveness_summary_all['pre_stim_mean_all']\n",
    ")"
   ]
  },
  {
   "cell_type": "code",
   "execution_count": 8,
   "metadata": {},
   "outputs": [],
   "source": [
    "responsiveness_summary_all.to_csv('active_responsiveness_summary.csv', index=False)"
   ]
  },
  {
   "cell_type": "code",
   "execution_count": 9,
   "metadata": {},
   "outputs": [
    {
     "data": {
      "text/html": [
       "<div>\n",
       "<style scoped>\n",
       "    .dataframe tbody tr th:only-of-type {\n",
       "        vertical-align: middle;\n",
       "    }\n",
       "\n",
       "    .dataframe tbody tr th {\n",
       "        vertical-align: top;\n",
       "    }\n",
       "\n",
       "    .dataframe thead th {\n",
       "        text-align: right;\n",
       "    }\n",
       "</style>\n",
       "<table border=\"1\" class=\"dataframe\">\n",
       "  <thead>\n",
       "    <tr style=\"text-align: right;\">\n",
       "      <th></th>\n",
       "      <th>cell_id</th>\n",
       "      <th>mouse_id</th>\n",
       "      <th>condition</th>\n",
       "      <th>number_of_trials</th>\n",
       "      <th>pre_stim_integral_mean</th>\n",
       "      <th>post_stim_integral_mean</th>\n",
       "      <th>p-value_on_integrals</th>\n",
       "      <th>direction_of_effect_on_integrals</th>\n",
       "      <th>pre_stim_mean_all</th>\n",
       "      <th>post_stim_mean_all</th>\n",
       "      <th>p-value_on_means</th>\n",
       "      <th>direction_of_effect_on_means</th>\n",
       "      <th>integral_change_magnitude</th>\n",
       "      <th>mean_change_magnitude</th>\n",
       "    </tr>\n",
       "  </thead>\n",
       "  <tbody>\n",
       "    <tr>\n",
       "      <th>141</th>\n",
       "      <td>C038</td>\n",
       "      <td>M332849</td>\n",
       "      <td>miss</td>\n",
       "      <td>67</td>\n",
       "      <td>0.953667</td>\n",
       "      <td>-3.176265</td>\n",
       "      <td>1.369025e-01</td>\n",
       "      <td>-1.0</td>\n",
       "      <td>0.032764</td>\n",
       "      <td>-0.109060</td>\n",
       "      <td>1.377952e-01</td>\n",
       "      <td>-1.0</td>\n",
       "      <td>-4.129933</td>\n",
       "      <td>-0.141823</td>\n",
       "    </tr>\n",
       "    <tr>\n",
       "      <th>370</th>\n",
       "      <td>C140</td>\n",
       "      <td>M348126</td>\n",
       "      <td>fa</td>\n",
       "      <td>324</td>\n",
       "      <td>-8.423627</td>\n",
       "      <td>15.970880</td>\n",
       "      <td>8.949800e-52</td>\n",
       "      <td>1.0</td>\n",
       "      <td>-0.287273</td>\n",
       "      <td>0.538999</td>\n",
       "      <td>3.555556e-51</td>\n",
       "      <td>1.0</td>\n",
       "      <td>24.394507</td>\n",
       "      <td>0.826271</td>\n",
       "    </tr>\n",
       "    <tr>\n",
       "      <th>126</th>\n",
       "      <td>C035</td>\n",
       "      <td>M348126</td>\n",
       "      <td>fa</td>\n",
       "      <td>324</td>\n",
       "      <td>-4.080550</td>\n",
       "      <td>-0.784695</td>\n",
       "      <td>5.144099e-04</td>\n",
       "      <td>1.0</td>\n",
       "      <td>-0.138554</td>\n",
       "      <td>-0.026806</td>\n",
       "      <td>6.334980e-04</td>\n",
       "      <td>1.0</td>\n",
       "      <td>3.295854</td>\n",
       "      <td>0.111748</td>\n",
       "    </tr>\n",
       "    <tr>\n",
       "      <th>263</th>\n",
       "      <td>C082</td>\n",
       "      <td>M332849</td>\n",
       "      <td>cr</td>\n",
       "      <td>72</td>\n",
       "      <td>-1.234377</td>\n",
       "      <td>-2.007162</td>\n",
       "      <td>5.049427e-01</td>\n",
       "      <td>-1.0</td>\n",
       "      <td>-0.041716</td>\n",
       "      <td>-0.070302</td>\n",
       "      <td>4.729550e-01</td>\n",
       "      <td>-1.0</td>\n",
       "      <td>-0.772785</td>\n",
       "      <td>-0.028586</td>\n",
       "    </tr>\n",
       "    <tr>\n",
       "      <th>22</th>\n",
       "      <td>C005</td>\n",
       "      <td>M348126</td>\n",
       "      <td>fa</td>\n",
       "      <td>324</td>\n",
       "      <td>4.175551</td>\n",
       "      <td>-3.885871</td>\n",
       "      <td>6.081169e-05</td>\n",
       "      <td>-1.0</td>\n",
       "      <td>0.141604</td>\n",
       "      <td>-0.131285</td>\n",
       "      <td>6.826599e-05</td>\n",
       "      <td>-1.0</td>\n",
       "      <td>-8.061421</td>\n",
       "      <td>-0.272890</td>\n",
       "    </tr>\n",
       "  </tbody>\n",
       "</table>\n",
       "</div>"
      ],
      "text/plain": [
       "    cell_id mouse_id condition  number_of_trials  pre_stim_integral_mean  \\\n",
       "141    C038  M332849      miss                67                0.953667   \n",
       "370    C140  M348126        fa               324               -8.423627   \n",
       "126    C035  M348126        fa               324               -4.080550   \n",
       "263    C082  M332849        cr                72               -1.234377   \n",
       "22     C005  M348126        fa               324                4.175551   \n",
       "\n",
       "     post_stim_integral_mean  p-value_on_integrals  \\\n",
       "141                -3.176265          1.369025e-01   \n",
       "370                15.970880          8.949800e-52   \n",
       "126                -0.784695          5.144099e-04   \n",
       "263                -2.007162          5.049427e-01   \n",
       "22                 -3.885871          6.081169e-05   \n",
       "\n",
       "     direction_of_effect_on_integrals  pre_stim_mean_all  post_stim_mean_all  \\\n",
       "141                              -1.0           0.032764           -0.109060   \n",
       "370                               1.0          -0.287273            0.538999   \n",
       "126                               1.0          -0.138554           -0.026806   \n",
       "263                              -1.0          -0.041716           -0.070302   \n",
       "22                               -1.0           0.141604           -0.131285   \n",
       "\n",
       "     p-value_on_means  direction_of_effect_on_means  \\\n",
       "141      1.377952e-01                          -1.0   \n",
       "370      3.555556e-51                           1.0   \n",
       "126      6.334980e-04                           1.0   \n",
       "263      4.729550e-01                          -1.0   \n",
       "22       6.826599e-05                          -1.0   \n",
       "\n",
       "     integral_change_magnitude  mean_change_magnitude  \n",
       "141                  -4.129933              -0.141823  \n",
       "370                  24.394507               0.826271  \n",
       "126                   3.295854               0.111748  \n",
       "263                  -0.772785              -0.028586  \n",
       "22                   -8.061421              -0.272890  "
      ]
     },
     "execution_count": 9,
     "metadata": {},
     "output_type": "execute_result"
    }
   ],
   "source": [
    "responsiveness_summary_all.sample(5)"
   ]
  },
  {
   "cell_type": "markdown",
   "metadata": {},
   "source": [
    "## plot responsiveness histograms"
   ]
  },
  {
   "cell_type": "code",
   "execution_count": 10,
   "metadata": {},
   "outputs": [],
   "source": [
    "def plot_mod_index_hist(index_vals, significant, ax, bin_edges=np.arange(-2,2,0.1)):\n",
    "    '''\n",
    "    index_vals (array of float): values of the index you want to plot\n",
    "    significant (array of bool): whether each index val is significant or not\n",
    "    '''\n",
    "    \n",
    "    ax.hist([index_vals[significant],index_vals[~significant]], \n",
    "             color=['k','darkgrey'], edgecolor='None', stacked=True, \n",
    "             bins=bin_edges, rwidth=0.8, density=True)\n",
    "\n",
    "\n",
    "def plot_response_histograms(ax=None, significance_threshold=0.05):\n",
    "    '''\n",
    "    ax should be a 1x4 array of axis handles if passed\n",
    "    '''\n",
    "    if ax is None:\n",
    "        fig,ax=plt.subplots(1,4,figsize=(20,5),sharex=True, sharey=False)\n",
    "        \n",
    "    titles = ['Hits','False Alarms','Misses','Correct Rejects']\n",
    "    for ii,condition in enumerate(['hit','fa','miss','cr']):\n",
    "        magnitude = responsiveness_summary_all.query('condition == @condition')['mean_change_magnitude']\n",
    "#         magnitude = responsiveness_summary_all.query('condition == @condition')['integral_change_magnitude']\n",
    "        significant = responsiveness_summary_all.query('condition == @condition')['p-value_on_means'] < significance_threshold\n",
    "        plot_mod_index_hist(\n",
    "            magnitude,\n",
    "            significant,\n",
    "            ax[ii]\n",
    "        )\n",
    "\n",
    "        axins = inset_axes(ax[ii], width=\"40%\", height=\"40%\", loc=1)\n",
    "\n",
    "        ax[ii].set_title('{}\\nfraction modulated cells: {:0.2f}'.format(titles[ii],significant.mean()))\n",
    "\n",
    "    #     ax[ii].axvline(0,linestyle=':',color='k',)\n",
    "        axins.pie(\n",
    "            [significant.sum(),len(significant)-significant.sum()],\n",
    "            colors=['black','gray'],\n",
    "            labels=['','']\n",
    "        )\n",
    "        ax[ii].set_xlabel('change in mean (z-score)', fontsize=16)\n",
    "        ax[ii].set_yticks([])\n",
    "    ax[0].set_ylabel('fraction')\n",
    "    sns.despine()"
   ]
  },
  {
   "cell_type": "code",
   "execution_count": 11,
   "metadata": {},
   "outputs": [
    {
     "data": {
      "text/plain": [
       "0.6281690140845071"
      ]
     },
     "execution_count": 11,
     "metadata": {},
     "output_type": "execute_result"
    }
   ],
   "source": [
    "condition='hit'\n",
    "significance_threshold=0.05\n",
    "significant = responsiveness_summary_all.query('condition == @condition')['p-value_on_means'] < significance_threshold\n",
    "np.mean(significant)"
   ]
  },
  {
   "cell_type": "code",
   "execution_count": 12,
   "metadata": {},
   "outputs": [
    {
     "data": {
      "text/html": [
       "<div>\n",
       "<style scoped>\n",
       "    .dataframe tbody tr th:only-of-type {\n",
       "        vertical-align: middle;\n",
       "    }\n",
       "\n",
       "    .dataframe tbody tr th {\n",
       "        vertical-align: top;\n",
       "    }\n",
       "\n",
       "    .dataframe thead th {\n",
       "        text-align: right;\n",
       "    }\n",
       "</style>\n",
       "<table border=\"1\" class=\"dataframe\">\n",
       "  <thead>\n",
       "    <tr style=\"text-align: right;\">\n",
       "      <th></th>\n",
       "      <th>cell_id</th>\n",
       "      <th>mouse_id</th>\n",
       "      <th>condition</th>\n",
       "      <th>number_of_trials</th>\n",
       "      <th>pre_stim_integral_mean</th>\n",
       "      <th>post_stim_integral_mean</th>\n",
       "      <th>p-value_on_integrals</th>\n",
       "      <th>direction_of_effect_on_integrals</th>\n",
       "      <th>pre_stim_mean_all</th>\n",
       "      <th>post_stim_mean_all</th>\n",
       "      <th>p-value_on_means</th>\n",
       "      <th>direction_of_effect_on_means</th>\n",
       "      <th>integral_change_magnitude</th>\n",
       "      <th>mean_change_magnitude</th>\n",
       "    </tr>\n",
       "  </thead>\n",
       "  <tbody>\n",
       "    <tr>\n",
       "      <th>0</th>\n",
       "      <td>C000</td>\n",
       "      <td>M332849</td>\n",
       "      <td>hit</td>\n",
       "      <td>52</td>\n",
       "      <td>1.319359</td>\n",
       "      <td>-18.435498</td>\n",
       "      <td>2.614153e-62</td>\n",
       "      <td>-1.0</td>\n",
       "      <td>0.046859</td>\n",
       "      <td>-0.642261</td>\n",
       "      <td>2.998179e-62</td>\n",
       "      <td>-1.0</td>\n",
       "      <td>-19.754857</td>\n",
       "      <td>-0.689120</td>\n",
       "    </tr>\n",
       "    <tr>\n",
       "      <th>1</th>\n",
       "      <td>C000</td>\n",
       "      <td>M332849</td>\n",
       "      <td>miss</td>\n",
       "      <td>67</td>\n",
       "      <td>1.319359</td>\n",
       "      <td>0.020795</td>\n",
       "      <td>9.413594e-02</td>\n",
       "      <td>-1.0</td>\n",
       "      <td>0.046859</td>\n",
       "      <td>0.003840</td>\n",
       "      <td>1.128578e-01</td>\n",
       "      <td>-1.0</td>\n",
       "      <td>-1.298564</td>\n",
       "      <td>-0.043019</td>\n",
       "    </tr>\n",
       "    <tr>\n",
       "      <th>2</th>\n",
       "      <td>C000</td>\n",
       "      <td>M332849</td>\n",
       "      <td>fa</td>\n",
       "      <td>193</td>\n",
       "      <td>1.319359</td>\n",
       "      <td>1.075905</td>\n",
       "      <td>6.597235e-01</td>\n",
       "      <td>-1.0</td>\n",
       "      <td>0.046859</td>\n",
       "      <td>0.038185</td>\n",
       "      <td>6.579041e-01</td>\n",
       "      <td>-1.0</td>\n",
       "      <td>-0.243454</td>\n",
       "      <td>-0.008674</td>\n",
       "    </tr>\n",
       "    <tr>\n",
       "      <th>3</th>\n",
       "      <td>C000</td>\n",
       "      <td>M332849</td>\n",
       "      <td>cr</td>\n",
       "      <td>72</td>\n",
       "      <td>1.319359</td>\n",
       "      <td>1.599180</td>\n",
       "      <td>7.130157e-01</td>\n",
       "      <td>1.0</td>\n",
       "      <td>0.046859</td>\n",
       "      <td>0.057014</td>\n",
       "      <td>7.027604e-01</td>\n",
       "      <td>1.0</td>\n",
       "      <td>0.279821</td>\n",
       "      <td>0.010155</td>\n",
       "    </tr>\n",
       "    <tr>\n",
       "      <th>4</th>\n",
       "      <td>C001</td>\n",
       "      <td>M332849</td>\n",
       "      <td>hit</td>\n",
       "      <td>52</td>\n",
       "      <td>-0.039754</td>\n",
       "      <td>-1.058261</td>\n",
       "      <td>7.294250e-01</td>\n",
       "      <td>-1.0</td>\n",
       "      <td>-0.000529</td>\n",
       "      <td>-0.036923</td>\n",
       "      <td>7.186270e-01</td>\n",
       "      <td>-1.0</td>\n",
       "      <td>-1.018507</td>\n",
       "      <td>-0.036394</td>\n",
       "    </tr>\n",
       "    <tr>\n",
       "      <th>...</th>\n",
       "      <td>...</td>\n",
       "      <td>...</td>\n",
       "      <td>...</td>\n",
       "      <td>...</td>\n",
       "      <td>...</td>\n",
       "      <td>...</td>\n",
       "      <td>...</td>\n",
       "      <td>...</td>\n",
       "      <td>...</td>\n",
       "      <td>...</td>\n",
       "      <td>...</td>\n",
       "      <td>...</td>\n",
       "      <td>...</td>\n",
       "      <td>...</td>\n",
       "    </tr>\n",
       "    <tr>\n",
       "      <th>107</th>\n",
       "      <td>C158</td>\n",
       "      <td>M397408</td>\n",
       "      <td>cr</td>\n",
       "      <td>66</td>\n",
       "      <td>-1.499286</td>\n",
       "      <td>-2.616868</td>\n",
       "      <td>3.950994e-01</td>\n",
       "      <td>-1.0</td>\n",
       "      <td>-0.051200</td>\n",
       "      <td>-0.091397</td>\n",
       "      <td>3.728829e-01</td>\n",
       "      <td>-1.0</td>\n",
       "      <td>-1.117582</td>\n",
       "      <td>-0.040197</td>\n",
       "    </tr>\n",
       "    <tr>\n",
       "      <th>108</th>\n",
       "      <td>C165</td>\n",
       "      <td>M397408</td>\n",
       "      <td>hit</td>\n",
       "      <td>51</td>\n",
       "      <td>3.137193</td>\n",
       "      <td>-4.038393</td>\n",
       "      <td>6.457627e-04</td>\n",
       "      <td>-1.0</td>\n",
       "      <td>0.106194</td>\n",
       "      <td>-0.146150</td>\n",
       "      <td>4.877292e-04</td>\n",
       "      <td>-1.0</td>\n",
       "      <td>-7.175585</td>\n",
       "      <td>-0.252344</td>\n",
       "    </tr>\n",
       "    <tr>\n",
       "      <th>109</th>\n",
       "      <td>C165</td>\n",
       "      <td>M397408</td>\n",
       "      <td>miss</td>\n",
       "      <td>40</td>\n",
       "      <td>3.137193</td>\n",
       "      <td>1.763943</td>\n",
       "      <td>5.587569e-01</td>\n",
       "      <td>-1.0</td>\n",
       "      <td>0.106194</td>\n",
       "      <td>0.062907</td>\n",
       "      <td>5.918370e-01</td>\n",
       "      <td>-1.0</td>\n",
       "      <td>-1.373250</td>\n",
       "      <td>-0.043287</td>\n",
       "    </tr>\n",
       "    <tr>\n",
       "      <th>110</th>\n",
       "      <td>C165</td>\n",
       "      <td>M397408</td>\n",
       "      <td>fa</td>\n",
       "      <td>300</td>\n",
       "      <td>3.137193</td>\n",
       "      <td>-3.914768</td>\n",
       "      <td>6.280911e-12</td>\n",
       "      <td>-1.0</td>\n",
       "      <td>0.106194</td>\n",
       "      <td>-0.133257</td>\n",
       "      <td>1.133583e-11</td>\n",
       "      <td>-1.0</td>\n",
       "      <td>-7.051961</td>\n",
       "      <td>-0.239452</td>\n",
       "    </tr>\n",
       "    <tr>\n",
       "      <th>111</th>\n",
       "      <td>C165</td>\n",
       "      <td>M397408</td>\n",
       "      <td>cr</td>\n",
       "      <td>66</td>\n",
       "      <td>3.137193</td>\n",
       "      <td>3.100556</td>\n",
       "      <td>9.848155e-01</td>\n",
       "      <td>-1.0</td>\n",
       "      <td>0.106194</td>\n",
       "      <td>0.107400</td>\n",
       "      <td>9.854401e-01</td>\n",
       "      <td>1.0</td>\n",
       "      <td>-0.036637</td>\n",
       "      <td>0.001206</td>\n",
       "    </tr>\n",
       "  </tbody>\n",
       "</table>\n",
       "<p>1420 rows × 14 columns</p>\n",
       "</div>"
      ],
      "text/plain": [
       "    cell_id mouse_id condition  number_of_trials  pre_stim_integral_mean  \\\n",
       "0      C000  M332849       hit                52                1.319359   \n",
       "1      C000  M332849      miss                67                1.319359   \n",
       "2      C000  M332849        fa               193                1.319359   \n",
       "3      C000  M332849        cr                72                1.319359   \n",
       "4      C001  M332849       hit                52               -0.039754   \n",
       "..      ...      ...       ...               ...                     ...   \n",
       "107    C158  M397408        cr                66               -1.499286   \n",
       "108    C165  M397408       hit                51                3.137193   \n",
       "109    C165  M397408      miss                40                3.137193   \n",
       "110    C165  M397408        fa               300                3.137193   \n",
       "111    C165  M397408        cr                66                3.137193   \n",
       "\n",
       "     post_stim_integral_mean  p-value_on_integrals  \\\n",
       "0                 -18.435498          2.614153e-62   \n",
       "1                   0.020795          9.413594e-02   \n",
       "2                   1.075905          6.597235e-01   \n",
       "3                   1.599180          7.130157e-01   \n",
       "4                  -1.058261          7.294250e-01   \n",
       "..                       ...                   ...   \n",
       "107                -2.616868          3.950994e-01   \n",
       "108                -4.038393          6.457627e-04   \n",
       "109                 1.763943          5.587569e-01   \n",
       "110                -3.914768          6.280911e-12   \n",
       "111                 3.100556          9.848155e-01   \n",
       "\n",
       "     direction_of_effect_on_integrals  pre_stim_mean_all  post_stim_mean_all  \\\n",
       "0                                -1.0           0.046859           -0.642261   \n",
       "1                                -1.0           0.046859            0.003840   \n",
       "2                                -1.0           0.046859            0.038185   \n",
       "3                                 1.0           0.046859            0.057014   \n",
       "4                                -1.0          -0.000529           -0.036923   \n",
       "..                                ...                ...                 ...   \n",
       "107                              -1.0          -0.051200           -0.091397   \n",
       "108                              -1.0           0.106194           -0.146150   \n",
       "109                              -1.0           0.106194            0.062907   \n",
       "110                              -1.0           0.106194           -0.133257   \n",
       "111                              -1.0           0.106194            0.107400   \n",
       "\n",
       "     p-value_on_means  direction_of_effect_on_means  \\\n",
       "0        2.998179e-62                          -1.0   \n",
       "1        1.128578e-01                          -1.0   \n",
       "2        6.579041e-01                          -1.0   \n",
       "3        7.027604e-01                           1.0   \n",
       "4        7.186270e-01                          -1.0   \n",
       "..                ...                           ...   \n",
       "107      3.728829e-01                          -1.0   \n",
       "108      4.877292e-04                          -1.0   \n",
       "109      5.918370e-01                          -1.0   \n",
       "110      1.133583e-11                          -1.0   \n",
       "111      9.854401e-01                           1.0   \n",
       "\n",
       "     integral_change_magnitude  mean_change_magnitude  \n",
       "0                   -19.754857              -0.689120  \n",
       "1                    -1.298564              -0.043019  \n",
       "2                    -0.243454              -0.008674  \n",
       "3                     0.279821               0.010155  \n",
       "4                    -1.018507              -0.036394  \n",
       "..                         ...                    ...  \n",
       "107                  -1.117582              -0.040197  \n",
       "108                  -7.175585              -0.252344  \n",
       "109                  -1.373250              -0.043287  \n",
       "110                  -7.051961              -0.239452  \n",
       "111                  -0.036637               0.001206  \n",
       "\n",
       "[1420 rows x 14 columns]"
      ]
     },
     "execution_count": 12,
     "metadata": {},
     "output_type": "execute_result"
    }
   ],
   "source": [
    "responsiveness_summary_all"
   ]
  },
  {
   "cell_type": "code",
   "execution_count": 13,
   "metadata": {},
   "outputs": [
    {
     "data": {
      "image/png": "[encoded data removed]",
      "text/plain": [
       "<Figure size 1440x360 with 8 Axes>"
      ]
     },
     "metadata": {
      "needs_background": "light"
     },
     "output_type": "display_data"
    }
   ],
   "source": [
    "plot_response_histograms(ax=None, significance_threshold=0.05)"
   ]
  },
  {
   "cell_type": "markdown",
   "metadata": {},
   "source": [
    "## plot response heatmaps"
   ]
  },
  {
   "cell_type": "code",
   "execution_count": 78,
   "metadata": {},
   "outputs": [],
   "source": [
    "def plot_heatmaps(ax=None, order_by_hits=False, heatmap_lims=[-5,5]):\n",
    "    if ax is None:\n",
    "        fig,ax=plt.subplots(1,4,figsize=(12,5))\n",
    "\n",
    "    tmin = mean_response_dfs['hit']['t'].min()\n",
    "    tmax = mean_response_dfs['hit']['t'].max()\n",
    "\n",
    "    titles = ['Hits','False Alarms','Misses','Correct Rejects']\n",
    "    event_type_order = ['hit','fa','miss','cr']\n",
    "    for ii,event_type in enumerate(event_type_order):\n",
    "        idx_for_mean = mean_response_dfs[event_type][['t']].query('t>0 and t<1').index\n",
    "        if order_by_hits == False:\n",
    "            responsiveness_summary_all.query('condition == @event_type').sort_values(by='mean_change_magnitude',ascending=False)\n",
    "            col_order = []\n",
    "            for idx,row in responsiveness_summary_all.query('condition == \"hit\"').sort_values(by='mean_change_magnitude',ascending=False).iterrows():\n",
    "                col_order.append(row['mouse_id']+'_'+row['cell_id'])\n",
    "        else:\n",
    "            responsiveness_summary_all.query('condition == @event_type').sort_values(by='mean_change_magnitude',ascending=False)\n",
    "            col_order = []\n",
    "            for idx,row in responsiveness_summary_all.query('condition == \"hit\"').sort_values(by='mean_change_magnitude',ascending=False).iterrows():\n",
    "                col_order.append(row['mouse_id']+'_'+row['cell_id'])\n",
    "        arr = mean_response_dfs[event_type][col_order].values\n",
    "\n",
    "        ax[ii].imshow(\n",
    "            arr.T,\n",
    "            clim = heatmap_lims,\n",
    "            cmap = 'seismic',\n",
    "            aspect = 'auto',\n",
    "            extent = (tmin,tmax,0,len(col_order)),\n",
    "            interpolation = 'none'\n",
    "        )\n",
    "\n",
    "        ax[ii].set_title(titles[ii])\n",
    "        ax[ii].set_yticks([])\n",
    "        ax[ii].set_xticks([0,2,4])\n",
    "        ax[ii].set_xlabel('time from\\nevent (s)')\n",
    "        ax[ii].axvline(0,color='black', alpha=0.5, linewidth=3, linestyle=':')\n",
    "\n",
    "        ax[ii].set_xlim(-1,5)\n",
    "        \n",
    "    ax[0].set_ylabel('Neurons (N = {})'.format(len(responsiveness_summary_all.query('condition == \"hit\"'))))\n",
    "    ax[0].set_xlabel('Time relative to\\nimage change (s)')\n",
    "    ax[1].set_xlabel('Time relative to\\nsham change (s)')\n",
    "    ax[2].set_xlabel('Time relative to\\nimage change (s)')\n",
    "    ax[3].set_xlabel('Time relative to\\nsham change (s)')\n",
    "\n",
    "#     ax[3].plot([4.45, 4.45], [10, 60], color = 'black', linewidth = 3)\n",
    "#     ax[3].text(4.25, 35, '50\\nneurons', color = 'black', ha = 'right', va = 'center')"
   ]
  },
  {
   "cell_type": "code",
   "execution_count": 157,
   "metadata": {},
   "outputs": [],
   "source": [
    "def make_colorbar(ax, image_axis, vmin, vmax, cmap, label, tick_locs, tick_labels=None, label_fontsize=None, ticklabel_fontsize=11):\n",
    "\n",
    "    cbar = fig.colorbar(image_axis.images[0], cax=ax, label=label)\n",
    "    if ticklabel_fontsize:\n",
    "        cbar.ax.tick_params(labelsize=ticklabel_fontsize)\n",
    "    if label_fontsize:\n",
    "        cbar.set_label(label=label, size=label_fontsize)\n",
    "\n",
    "    cbar.set_ticks(tick_locs)\n",
    "    if tick_labels:\n",
    "        cbar.set_ticklabels(tick_labels)"
   ]
  },
  {
   "cell_type": "code",
   "execution_count": 56,
   "metadata": {},
   "outputs": [],
   "source": [
    "responsiveness_summary_all.query('condition == \"hit\"').sort_values(by='mean_change_magnitude',ascending=False)\n",
    "col_order = []\n",
    "for idx,row in responsiveness_summary_all.query('condition == \"hit\"').sort_values(by='mean_change_magnitude',ascending=False).iterrows():\n",
    "    col_order.append(row['mouse_id']+'_'+row['cell_id'])"
   ]
  },
  {
   "cell_type": "code",
   "execution_count": 148,
   "metadata": {},
   "outputs": [
    {
     "data": {
      "image/png": "[encoded data removed]",
      "text/plain": [
       "<Figure size 576x288 with 5 Axes>"
      ]
     },
     "metadata": {
      "needs_background": "light"
     },
     "output_type": "display_data"
    }
   ],
   "source": [
    "figure = plt.figure(figsize=(8,4))\n",
    "ax = {}\n",
    "ax['heatmaps'] = plotting_utilities.placeAxesOnGrid(figure,  xspan=[0.02,0.95],   yspan=[0,1], dim=[1,4], sharex=True, sharey=True, wspace=0.04)\n",
    "ax['colorbar'] = plotting_utilities.placeAxesOnGrid(figure,  xspan=[0.96,0.98],   yspan=[0,1])\n",
    "\n",
    "plot_heatmaps(ax['heatmaps'], order_by_hits=True)\n",
    "make_colorbar(ax['colorbar'], image_axis=ax['heatmaps'][0], vmin=-5, vmax=5, cmap='seismic', label='z score', tick_locs=[-5, 0, 5], label_fontsize=19)"
   ]
  },
  {
   "cell_type": "code",
   "execution_count": 17,
   "metadata": {},
   "outputs": [
    {
     "data": {
      "text/plain": [
       "hit     355\n",
       "cr      355\n",
       "fa      355\n",
       "miss    355\n",
       "Name: condition, dtype: int64"
      ]
     },
     "execution_count": 17,
     "metadata": {},
     "output_type": "execute_result"
    }
   ],
   "source": [
    "responsiveness_summary_all['condition'].value_counts()"
   ]
  },
  {
   "cell_type": "markdown",
   "metadata": {},
   "source": [
    "## plot example cells"
   ]
  },
  {
   "cell_type": "code",
   "execution_count": 18,
   "metadata": {},
   "outputs": [
    {
     "data": {
      "text/html": [
       "<div>\n",
       "<style scoped>\n",
       "    .dataframe tbody tr th:only-of-type {\n",
       "        vertical-align: middle;\n",
       "    }\n",
       "\n",
       "    .dataframe tbody tr th {\n",
       "        vertical-align: top;\n",
       "    }\n",
       "\n",
       "    .dataframe thead th {\n",
       "        text-align: right;\n",
       "    }\n",
       "</style>\n",
       "<table border=\"1\" class=\"dataframe\">\n",
       "  <thead>\n",
       "    <tr style=\"text-align: right;\">\n",
       "      <th></th>\n",
       "      <th>index</th>\n",
       "      <th>cell_id</th>\n",
       "      <th>mouse_id</th>\n",
       "      <th>condition</th>\n",
       "      <th>number_of_trials</th>\n",
       "      <th>pre_stim_integral_mean</th>\n",
       "      <th>post_stim_integral_mean</th>\n",
       "      <th>p-value_on_integrals</th>\n",
       "      <th>direction_of_effect_on_integrals</th>\n",
       "      <th>pre_stim_mean_all</th>\n",
       "      <th>post_stim_mean_all</th>\n",
       "      <th>p-value_on_means</th>\n",
       "      <th>direction_of_effect_on_means</th>\n",
       "      <th>integral_change_magnitude</th>\n",
       "      <th>mean_change_magnitude</th>\n",
       "    </tr>\n",
       "  </thead>\n",
       "  <tbody>\n",
       "    <tr>\n",
       "      <th>27</th>\n",
       "      <td>172</td>\n",
       "      <td>C048</td>\n",
       "      <td>M348126</td>\n",
       "      <td>hit</td>\n",
       "      <td>48</td>\n",
       "      <td>-9.952482</td>\n",
       "      <td>47.797517</td>\n",
       "      <td>1.024952e-97</td>\n",
       "      <td>1.0</td>\n",
       "      <td>-0.343450</td>\n",
       "      <td>1.590181</td>\n",
       "      <td>9.601645e-96</td>\n",
       "      <td>1.0</td>\n",
       "      <td>57.749999</td>\n",
       "      <td>1.933632</td>\n",
       "    </tr>\n",
       "    <tr>\n",
       "      <th>34</th>\n",
       "      <td>344</td>\n",
       "      <td>C110</td>\n",
       "      <td>M348126</td>\n",
       "      <td>hit</td>\n",
       "      <td>48</td>\n",
       "      <td>-7.991606</td>\n",
       "      <td>27.110599</td>\n",
       "      <td>3.319953e-17</td>\n",
       "      <td>1.0</td>\n",
       "      <td>-0.272026</td>\n",
       "      <td>0.930768</td>\n",
       "      <td>2.390414e-17</td>\n",
       "      <td>1.0</td>\n",
       "      <td>35.102206</td>\n",
       "      <td>1.202794</td>\n",
       "    </tr>\n",
       "    <tr>\n",
       "      <th>39</th>\n",
       "      <td>196</td>\n",
       "      <td>C054</td>\n",
       "      <td>M351181</td>\n",
       "      <td>hit</td>\n",
       "      <td>48</td>\n",
       "      <td>-1.310219</td>\n",
       "      <td>26.462475</td>\n",
       "      <td>2.762130e-12</td>\n",
       "      <td>1.0</td>\n",
       "      <td>-0.044667</td>\n",
       "      <td>0.883957</td>\n",
       "      <td>7.060754e-12</td>\n",
       "      <td>1.0</td>\n",
       "      <td>27.772694</td>\n",
       "      <td>0.928624</td>\n",
       "    </tr>\n",
       "    <tr>\n",
       "      <th>48</th>\n",
       "      <td>92</td>\n",
       "      <td>C103</td>\n",
       "      <td>M397408</td>\n",
       "      <td>hit</td>\n",
       "      <td>51</td>\n",
       "      <td>-2.693514</td>\n",
       "      <td>31.459251</td>\n",
       "      <td>1.929735e-62</td>\n",
       "      <td>1.0</td>\n",
       "      <td>-0.091752</td>\n",
       "      <td>1.078568</td>\n",
       "      <td>3.041721e-63</td>\n",
       "      <td>1.0</td>\n",
       "      <td>34.152765</td>\n",
       "      <td>1.170320</td>\n",
       "    </tr>\n",
       "    <tr>\n",
       "      <th>2</th>\n",
       "      <td>80</td>\n",
       "      <td>C020</td>\n",
       "      <td>M332849</td>\n",
       "      <td>hit</td>\n",
       "      <td>52</td>\n",
       "      <td>-6.997729</td>\n",
       "      <td>44.530853</td>\n",
       "      <td>1.064030e-139</td>\n",
       "      <td>1.0</td>\n",
       "      <td>-0.241436</td>\n",
       "      <td>1.554262</td>\n",
       "      <td>6.866368e-142</td>\n",
       "      <td>1.0</td>\n",
       "      <td>51.528581</td>\n",
       "      <td>1.795698</td>\n",
       "    </tr>\n",
       "  </tbody>\n",
       "</table>\n",
       "</div>"
      ],
      "text/plain": [
       "    index cell_id mouse_id condition  number_of_trials  \\\n",
       "27    172    C048  M348126       hit                48   \n",
       "34    344    C110  M348126       hit                48   \n",
       "39    196    C054  M351181       hit                48   \n",
       "48     92    C103  M397408       hit                51   \n",
       "2      80    C020  M332849       hit                52   \n",
       "\n",
       "    pre_stim_integral_mean  post_stim_integral_mean  p-value_on_integrals  \\\n",
       "27               -9.952482                47.797517          1.024952e-97   \n",
       "34               -7.991606                27.110599          3.319953e-17   \n",
       "39               -1.310219                26.462475          2.762130e-12   \n",
       "48               -2.693514                31.459251          1.929735e-62   \n",
       "2                -6.997729                44.530853         1.064030e-139   \n",
       "\n",
       "    direction_of_effect_on_integrals  pre_stim_mean_all  post_stim_mean_all  \\\n",
       "27                               1.0          -0.343450            1.590181   \n",
       "34                               1.0          -0.272026            0.930768   \n",
       "39                               1.0          -0.044667            0.883957   \n",
       "48                               1.0          -0.091752            1.078568   \n",
       "2                                1.0          -0.241436            1.554262   \n",
       "\n",
       "    p-value_on_means  direction_of_effect_on_means  integral_change_magnitude  \\\n",
       "27      9.601645e-96                           1.0                  57.749999   \n",
       "34      2.390414e-17                           1.0                  35.102206   \n",
       "39      7.060754e-12                           1.0                  27.772694   \n",
       "48      3.041721e-63                           1.0                  34.152765   \n",
       "2      6.866368e-142                           1.0                  51.528581   \n",
       "\n",
       "    mean_change_magnitude  \n",
       "27               1.933632  \n",
       "34               1.202794  \n",
       "39               0.928624  \n",
       "48               1.170320  \n",
       "2                1.795698  "
      ]
     },
     "execution_count": 18,
     "metadata": {},
     "output_type": "execute_result"
    }
   ],
   "source": [
    "facilitated = responsiveness_summary_all[\n",
    "    (responsiveness_summary_all['condition'] == 'hit')\n",
    "    &(responsiveness_summary_all['p-value_on_means'] < significance_level)\n",
    "    &(responsiveness_summary_all['direction_of_effect_on_means'] > 0)\n",
    "    &(responsiveness_summary_all['mean_change_magnitude'] > 0.75)\n",
    "].reset_index()\n",
    "facilitated.sample(5,random_state=1)"
   ]
  },
  {
   "cell_type": "code",
   "execution_count": 19,
   "metadata": {},
   "outputs": [
    {
     "name": "stderr",
     "output_type": "stream",
     "text": [
      "/allen/programs/braintv/workgroups/nc-ophys/Doug/code/claustrum_imaging_manuscript/utilities/helper_functions.py:133: RuntimeWarning: invalid value encountered in multiply\n",
      "  all_traces = np.empty((len(events), int(frame_before+frame_after)))*np.NAN\n"
     ]
    },
    {
     "data": {
      "image/png": "[encoded data removed]",
      "text/plain": [
       "<Figure size 432x288 with 20 Axes>"
      ]
     },
     "metadata": {
      "needs_background": "light"
     },
     "output_type": "display_data"
    }
   ],
   "source": [
    "to_plot = facilitated.sample(5,random_state=3)\n",
    "fig,ax=plt.subplots(len(to_plot),4,figsize=(6,4),sharex=True,sharey=True)\n",
    "\n",
    "helper_functions.plot_examples(to_plot, session, ax, xlim=(-2,4), ylim=(-1,3), first_index=1)"
   ]
  },
  {
   "cell_type": "code",
   "execution_count": 20,
   "metadata": {},
   "outputs": [
    {
     "data": {
      "text/html": [
       "<div>\n",
       "<style scoped>\n",
       "    .dataframe tbody tr th:only-of-type {\n",
       "        vertical-align: middle;\n",
       "    }\n",
       "\n",
       "    .dataframe tbody tr th {\n",
       "        vertical-align: top;\n",
       "    }\n",
       "\n",
       "    .dataframe thead th {\n",
       "        text-align: right;\n",
       "    }\n",
       "</style>\n",
       "<table border=\"1\" class=\"dataframe\">\n",
       "  <thead>\n",
       "    <tr style=\"text-align: right;\">\n",
       "      <th></th>\n",
       "      <th>index</th>\n",
       "      <th>cell_id</th>\n",
       "      <th>mouse_id</th>\n",
       "      <th>condition</th>\n",
       "      <th>number_of_trials</th>\n",
       "      <th>pre_stim_integral_mean</th>\n",
       "      <th>post_stim_integral_mean</th>\n",
       "      <th>p-value_on_integrals</th>\n",
       "      <th>direction_of_effect_on_integrals</th>\n",
       "      <th>pre_stim_mean_all</th>\n",
       "      <th>post_stim_mean_all</th>\n",
       "      <th>p-value_on_means</th>\n",
       "      <th>direction_of_effect_on_means</th>\n",
       "      <th>integral_change_magnitude</th>\n",
       "      <th>mean_change_magnitude</th>\n",
       "    </tr>\n",
       "  </thead>\n",
       "  <tbody>\n",
       "    <tr>\n",
       "      <th>2</th>\n",
       "      <td>48</td>\n",
       "      <td>C012</td>\n",
       "      <td>M332849</td>\n",
       "      <td>hit</td>\n",
       "      <td>52</td>\n",
       "      <td>0.076458</td>\n",
       "      <td>-10.732862</td>\n",
       "      <td>0.000476</td>\n",
       "      <td>-1.0</td>\n",
       "      <td>0.000949</td>\n",
       "      <td>-0.360863</td>\n",
       "      <td>0.000631</td>\n",
       "      <td>-1.0</td>\n",
       "      <td>-10.809320</td>\n",
       "      <td>-0.361811</td>\n",
       "    </tr>\n",
       "    <tr>\n",
       "      <th>13</th>\n",
       "      <td>272</td>\n",
       "      <td>C087</td>\n",
       "      <td>M332849</td>\n",
       "      <td>hit</td>\n",
       "      <td>52</td>\n",
       "      <td>1.039994</td>\n",
       "      <td>-12.905667</td>\n",
       "      <td>0.000002</td>\n",
       "      <td>-1.0</td>\n",
       "      <td>0.033299</td>\n",
       "      <td>-0.443336</td>\n",
       "      <td>0.000002</td>\n",
       "      <td>-1.0</td>\n",
       "      <td>-13.945661</td>\n",
       "      <td>-0.476635</td>\n",
       "    </tr>\n",
       "    <tr>\n",
       "      <th>63</th>\n",
       "      <td>348</td>\n",
       "      <td>C111</td>\n",
       "      <td>M348126</td>\n",
       "      <td>hit</td>\n",
       "      <td>48</td>\n",
       "      <td>7.675072</td>\n",
       "      <td>-6.159764</td>\n",
       "      <td>0.000894</td>\n",
       "      <td>-1.0</td>\n",
       "      <td>0.261042</td>\n",
       "      <td>-0.217843</td>\n",
       "      <td>0.000786</td>\n",
       "      <td>-1.0</td>\n",
       "      <td>-13.834836</td>\n",
       "      <td>-0.478885</td>\n",
       "    </tr>\n",
       "    <tr>\n",
       "      <th>41</th>\n",
       "      <td>116</td>\n",
       "      <td>C033</td>\n",
       "      <td>M348126</td>\n",
       "      <td>hit</td>\n",
       "      <td>48</td>\n",
       "      <td>3.689646</td>\n",
       "      <td>-14.367576</td>\n",
       "      <td>0.000010</td>\n",
       "      <td>-1.0</td>\n",
       "      <td>0.125539</td>\n",
       "      <td>-0.491890</td>\n",
       "      <td>0.000011</td>\n",
       "      <td>-1.0</td>\n",
       "      <td>-18.057221</td>\n",
       "      <td>-0.617429</td>\n",
       "    </tr>\n",
       "    <tr>\n",
       "      <th>48</th>\n",
       "      <td>196</td>\n",
       "      <td>C058</td>\n",
       "      <td>M348126</td>\n",
       "      <td>hit</td>\n",
       "      <td>48</td>\n",
       "      <td>2.716957</td>\n",
       "      <td>-9.442507</td>\n",
       "      <td>0.001286</td>\n",
       "      <td>-1.0</td>\n",
       "      <td>0.093324</td>\n",
       "      <td>-0.326375</td>\n",
       "      <td>0.001188</td>\n",
       "      <td>-1.0</td>\n",
       "      <td>-12.159465</td>\n",
       "      <td>-0.419699</td>\n",
       "    </tr>\n",
       "  </tbody>\n",
       "</table>\n",
       "</div>"
      ],
      "text/plain": [
       "    index cell_id mouse_id condition  number_of_trials  \\\n",
       "2      48    C012  M332849       hit                52   \n",
       "13    272    C087  M332849       hit                52   \n",
       "63    348    C111  M348126       hit                48   \n",
       "41    116    C033  M348126       hit                48   \n",
       "48    196    C058  M348126       hit                48   \n",
       "\n",
       "    pre_stim_integral_mean  post_stim_integral_mean  p-value_on_integrals  \\\n",
       "2                 0.076458               -10.732862              0.000476   \n",
       "13                1.039994               -12.905667              0.000002   \n",
       "63                7.675072                -6.159764              0.000894   \n",
       "41                3.689646               -14.367576              0.000010   \n",
       "48                2.716957                -9.442507              0.001286   \n",
       "\n",
       "    direction_of_effect_on_integrals  pre_stim_mean_all  post_stim_mean_all  \\\n",
       "2                               -1.0           0.000949           -0.360863   \n",
       "13                              -1.0           0.033299           -0.443336   \n",
       "63                              -1.0           0.261042           -0.217843   \n",
       "41                              -1.0           0.125539           -0.491890   \n",
       "48                              -1.0           0.093324           -0.326375   \n",
       "\n",
       "    p-value_on_means  direction_of_effect_on_means  integral_change_magnitude  \\\n",
       "2           0.000631                          -1.0                 -10.809320   \n",
       "13          0.000002                          -1.0                 -13.945661   \n",
       "63          0.000786                          -1.0                 -13.834836   \n",
       "41          0.000011                          -1.0                 -18.057221   \n",
       "48          0.001188                          -1.0                 -12.159465   \n",
       "\n",
       "    mean_change_magnitude  \n",
       "2               -0.361811  \n",
       "13              -0.476635  \n",
       "63              -0.478885  \n",
       "41              -0.617429  \n",
       "48              -0.419699  "
      ]
     },
     "execution_count": 20,
     "metadata": {},
     "output_type": "execute_result"
    }
   ],
   "source": [
    "suppressed = responsiveness_summary_all[\n",
    "    (responsiveness_summary_all['condition'] == 'hit')\n",
    "    &(responsiveness_summary_all['p-value_on_means'] < significance_level)\n",
    "    &(responsiveness_summary_all['direction_of_effect_on_means'] < 0)\n",
    "    &(responsiveness_summary_all['mean_change_magnitude'] < -0.25)\n",
    "].reset_index()\n",
    "suppressed.sample(5,random_state=0)"
   ]
  },
  {
   "cell_type": "code",
   "execution_count": 21,
   "metadata": {},
   "outputs": [
    {
     "data": {
      "image/png": "[encoded data removed]",
      "text/plain": [
       "<Figure size 432x288 with 20 Axes>"
      ]
     },
     "metadata": {
      "needs_background": "light"
     },
     "output_type": "display_data"
    }
   ],
   "source": [
    "to_plot = suppressed.sample(5,random_state=3)\n",
    "fig,ax=plt.subplots(len(to_plot),4,figsize=(6,4),sharex=True,sharey=True)\n",
    "\n",
    "helper_functions.plot_examples(to_plot, session, ax, first_index=6)"
   ]
  },
  {
   "cell_type": "markdown",
   "metadata": {},
   "source": [
    "## show schematics"
   ]
  },
  {
   "cell_type": "code",
   "execution_count": 22,
   "metadata": {},
   "outputs": [],
   "source": [
    "def show_schematic(filename, ax=None,):\n",
    "    if ax is None:\n",
    "        fig,ax=plt.subplots()\n",
    "    image = imageio.imread(filename)\n",
    "    ax.imshow(image,interpolation='nearest')\n",
    "    ax.axis('off')"
   ]
  },
  {
   "cell_type": "code",
   "execution_count": 23,
   "metadata": {},
   "outputs": [
    {
     "data": {
      "image/png": "[encoded data removed]",
      "text/plain": [
       "<Figure size 432x288 with 1 Axes>"
      ]
     },
     "metadata": {
      "needs_background": "light"
     },
     "output_type": "display_data"
    }
   ],
   "source": [
    "show_schematic('flashing_image_schematic.png')"
   ]
  },
  {
   "cell_type": "code",
   "execution_count": 24,
   "metadata": {},
   "outputs": [
    {
     "data": {
      "image/png": "[encoded data removed]",
      "text/plain": [
       "<Figure size 432x288 with 1 Axes>"
      ]
     },
     "metadata": {
      "needs_background": "light"
     },
     "output_type": "display_data"
    }
   ],
   "source": [
    "show_schematic('mouse_schematic.png')"
   ]
  },
  {
   "cell_type": "code",
   "execution_count": 25,
   "metadata": {},
   "outputs": [
    {
     "data": {
      "image/png": "[encoded data removed]",
      "text/plain": [
       "<Figure size 432x288 with 1 Axes>"
      ]
     },
     "metadata": {
      "needs_background": "light"
     },
     "output_type": "display_data"
    }
   ],
   "source": [
    "show_schematic('task_schematic.png')"
   ]
  },
  {
   "cell_type": "code",
   "execution_count": 26,
   "metadata": {},
   "outputs": [
    {
     "data": {
      "text/html": [
       "<div>\n",
       "<style scoped>\n",
       "    .dataframe tbody tr th:only-of-type {\n",
       "        vertical-align: middle;\n",
       "    }\n",
       "\n",
       "    .dataframe tbody tr th {\n",
       "        vertical-align: top;\n",
       "    }\n",
       "\n",
       "    .dataframe thead th {\n",
       "        text-align: right;\n",
       "    }\n",
       "</style>\n",
       "<table border=\"1\" class=\"dataframe\">\n",
       "  <thead>\n",
       "    <tr style=\"text-align: right;\">\n",
       "      <th></th>\n",
       "      <th>cell_id</th>\n",
       "      <th>mouse_id</th>\n",
       "      <th>condition</th>\n",
       "      <th>number_of_trials</th>\n",
       "      <th>pre_stim_integral_mean</th>\n",
       "      <th>post_stim_integral_mean</th>\n",
       "      <th>p-value_on_integrals</th>\n",
       "      <th>direction_of_effect_on_integrals</th>\n",
       "      <th>pre_stim_mean_all</th>\n",
       "      <th>post_stim_mean_all</th>\n",
       "      <th>p-value_on_means</th>\n",
       "      <th>direction_of_effect_on_means</th>\n",
       "      <th>integral_change_magnitude</th>\n",
       "      <th>mean_change_magnitude</th>\n",
       "    </tr>\n",
       "  </thead>\n",
       "  <tbody>\n",
       "    <tr>\n",
       "      <th>0</th>\n",
       "      <td>C000</td>\n",
       "      <td>M332849</td>\n",
       "      <td>hit</td>\n",
       "      <td>52</td>\n",
       "      <td>1.319359</td>\n",
       "      <td>-18.435498</td>\n",
       "      <td>2.614153e-62</td>\n",
       "      <td>-1.0</td>\n",
       "      <td>0.046859</td>\n",
       "      <td>-0.642261</td>\n",
       "      <td>2.998179e-62</td>\n",
       "      <td>-1.0</td>\n",
       "      <td>-19.754857</td>\n",
       "      <td>-0.689120</td>\n",
       "    </tr>\n",
       "    <tr>\n",
       "      <th>1</th>\n",
       "      <td>C000</td>\n",
       "      <td>M332849</td>\n",
       "      <td>miss</td>\n",
       "      <td>67</td>\n",
       "      <td>1.319359</td>\n",
       "      <td>0.020795</td>\n",
       "      <td>9.413594e-02</td>\n",
       "      <td>-1.0</td>\n",
       "      <td>0.046859</td>\n",
       "      <td>0.003840</td>\n",
       "      <td>1.128578e-01</td>\n",
       "      <td>-1.0</td>\n",
       "      <td>-1.298564</td>\n",
       "      <td>-0.043019</td>\n",
       "    </tr>\n",
       "    <tr>\n",
       "      <th>2</th>\n",
       "      <td>C000</td>\n",
       "      <td>M332849</td>\n",
       "      <td>fa</td>\n",
       "      <td>193</td>\n",
       "      <td>1.319359</td>\n",
       "      <td>1.075905</td>\n",
       "      <td>6.597235e-01</td>\n",
       "      <td>-1.0</td>\n",
       "      <td>0.046859</td>\n",
       "      <td>0.038185</td>\n",
       "      <td>6.579041e-01</td>\n",
       "      <td>-1.0</td>\n",
       "      <td>-0.243454</td>\n",
       "      <td>-0.008674</td>\n",
       "    </tr>\n",
       "    <tr>\n",
       "      <th>3</th>\n",
       "      <td>C000</td>\n",
       "      <td>M332849</td>\n",
       "      <td>cr</td>\n",
       "      <td>72</td>\n",
       "      <td>1.319359</td>\n",
       "      <td>1.599180</td>\n",
       "      <td>7.130157e-01</td>\n",
       "      <td>1.0</td>\n",
       "      <td>0.046859</td>\n",
       "      <td>0.057014</td>\n",
       "      <td>7.027604e-01</td>\n",
       "      <td>1.0</td>\n",
       "      <td>0.279821</td>\n",
       "      <td>0.010155</td>\n",
       "    </tr>\n",
       "    <tr>\n",
       "      <th>4</th>\n",
       "      <td>C001</td>\n",
       "      <td>M332849</td>\n",
       "      <td>hit</td>\n",
       "      <td>52</td>\n",
       "      <td>-0.039754</td>\n",
       "      <td>-1.058261</td>\n",
       "      <td>7.294250e-01</td>\n",
       "      <td>-1.0</td>\n",
       "      <td>-0.000529</td>\n",
       "      <td>-0.036923</td>\n",
       "      <td>7.186270e-01</td>\n",
       "      <td>-1.0</td>\n",
       "      <td>-1.018507</td>\n",
       "      <td>-0.036394</td>\n",
       "    </tr>\n",
       "    <tr>\n",
       "      <th>...</th>\n",
       "      <td>...</td>\n",
       "      <td>...</td>\n",
       "      <td>...</td>\n",
       "      <td>...</td>\n",
       "      <td>...</td>\n",
       "      <td>...</td>\n",
       "      <td>...</td>\n",
       "      <td>...</td>\n",
       "      <td>...</td>\n",
       "      <td>...</td>\n",
       "      <td>...</td>\n",
       "      <td>...</td>\n",
       "      <td>...</td>\n",
       "      <td>...</td>\n",
       "    </tr>\n",
       "    <tr>\n",
       "      <th>107</th>\n",
       "      <td>C158</td>\n",
       "      <td>M397408</td>\n",
       "      <td>cr</td>\n",
       "      <td>66</td>\n",
       "      <td>-1.499286</td>\n",
       "      <td>-2.616868</td>\n",
       "      <td>3.950994e-01</td>\n",
       "      <td>-1.0</td>\n",
       "      <td>-0.051200</td>\n",
       "      <td>-0.091397</td>\n",
       "      <td>3.728829e-01</td>\n",
       "      <td>-1.0</td>\n",
       "      <td>-1.117582</td>\n",
       "      <td>-0.040197</td>\n",
       "    </tr>\n",
       "    <tr>\n",
       "      <th>108</th>\n",
       "      <td>C165</td>\n",
       "      <td>M397408</td>\n",
       "      <td>hit</td>\n",
       "      <td>51</td>\n",
       "      <td>3.137193</td>\n",
       "      <td>-4.038393</td>\n",
       "      <td>6.457627e-04</td>\n",
       "      <td>-1.0</td>\n",
       "      <td>0.106194</td>\n",
       "      <td>-0.146150</td>\n",
       "      <td>4.877292e-04</td>\n",
       "      <td>-1.0</td>\n",
       "      <td>-7.175585</td>\n",
       "      <td>-0.252344</td>\n",
       "    </tr>\n",
       "    <tr>\n",
       "      <th>109</th>\n",
       "      <td>C165</td>\n",
       "      <td>M397408</td>\n",
       "      <td>miss</td>\n",
       "      <td>40</td>\n",
       "      <td>3.137193</td>\n",
       "      <td>1.763943</td>\n",
       "      <td>5.587569e-01</td>\n",
       "      <td>-1.0</td>\n",
       "      <td>0.106194</td>\n",
       "      <td>0.062907</td>\n",
       "      <td>5.918370e-01</td>\n",
       "      <td>-1.0</td>\n",
       "      <td>-1.373250</td>\n",
       "      <td>-0.043287</td>\n",
       "    </tr>\n",
       "    <tr>\n",
       "      <th>110</th>\n",
       "      <td>C165</td>\n",
       "      <td>M397408</td>\n",
       "      <td>fa</td>\n",
       "      <td>300</td>\n",
       "      <td>3.137193</td>\n",
       "      <td>-3.914768</td>\n",
       "      <td>6.280911e-12</td>\n",
       "      <td>-1.0</td>\n",
       "      <td>0.106194</td>\n",
       "      <td>-0.133257</td>\n",
       "      <td>1.133583e-11</td>\n",
       "      <td>-1.0</td>\n",
       "      <td>-7.051961</td>\n",
       "      <td>-0.239452</td>\n",
       "    </tr>\n",
       "    <tr>\n",
       "      <th>111</th>\n",
       "      <td>C165</td>\n",
       "      <td>M397408</td>\n",
       "      <td>cr</td>\n",
       "      <td>66</td>\n",
       "      <td>3.137193</td>\n",
       "      <td>3.100556</td>\n",
       "      <td>9.848155e-01</td>\n",
       "      <td>-1.0</td>\n",
       "      <td>0.106194</td>\n",
       "      <td>0.107400</td>\n",
       "      <td>9.854401e-01</td>\n",
       "      <td>1.0</td>\n",
       "      <td>-0.036637</td>\n",
       "      <td>0.001206</td>\n",
       "    </tr>\n",
       "  </tbody>\n",
       "</table>\n",
       "<p>1420 rows × 14 columns</p>\n",
       "</div>"
      ],
      "text/plain": [
       "    cell_id mouse_id condition  number_of_trials  pre_stim_integral_mean  \\\n",
       "0      C000  M332849       hit                52                1.319359   \n",
       "1      C000  M332849      miss                67                1.319359   \n",
       "2      C000  M332849        fa               193                1.319359   \n",
       "3      C000  M332849        cr                72                1.319359   \n",
       "4      C001  M332849       hit                52               -0.039754   \n",
       "..      ...      ...       ...               ...                     ...   \n",
       "107    C158  M397408        cr                66               -1.499286   \n",
       "108    C165  M397408       hit                51                3.137193   \n",
       "109    C165  M397408      miss                40                3.137193   \n",
       "110    C165  M397408        fa               300                3.137193   \n",
       "111    C165  M397408        cr                66                3.137193   \n",
       "\n",
       "     post_stim_integral_mean  p-value_on_integrals  \\\n",
       "0                 -18.435498          2.614153e-62   \n",
       "1                   0.020795          9.413594e-02   \n",
       "2                   1.075905          6.597235e-01   \n",
       "3                   1.599180          7.130157e-01   \n",
       "4                  -1.058261          7.294250e-01   \n",
       "..                       ...                   ...   \n",
       "107                -2.616868          3.950994e-01   \n",
       "108                -4.038393          6.457627e-04   \n",
       "109                 1.763943          5.587569e-01   \n",
       "110                -3.914768          6.280911e-12   \n",
       "111                 3.100556          9.848155e-01   \n",
       "\n",
       "     direction_of_effect_on_integrals  pre_stim_mean_all  post_stim_mean_all  \\\n",
       "0                                -1.0           0.046859           -0.642261   \n",
       "1                                -1.0           0.046859            0.003840   \n",
       "2                                -1.0           0.046859            0.038185   \n",
       "3                                 1.0           0.046859            0.057014   \n",
       "4                                -1.0          -0.000529           -0.036923   \n",
       "..                                ...                ...                 ...   \n",
       "107                              -1.0          -0.051200           -0.091397   \n",
       "108                              -1.0           0.106194           -0.146150   \n",
       "109                              -1.0           0.106194            0.062907   \n",
       "110                              -1.0           0.106194           -0.133257   \n",
       "111                              -1.0           0.106194            0.107400   \n",
       "\n",
       "     p-value_on_means  direction_of_effect_on_means  \\\n",
       "0        2.998179e-62                          -1.0   \n",
       "1        1.128578e-01                          -1.0   \n",
       "2        6.579041e-01                          -1.0   \n",
       "3        7.027604e-01                           1.0   \n",
       "4        7.186270e-01                          -1.0   \n",
       "..                ...                           ...   \n",
       "107      3.728829e-01                          -1.0   \n",
       "108      4.877292e-04                          -1.0   \n",
       "109      5.918370e-01                          -1.0   \n",
       "110      1.133583e-11                          -1.0   \n",
       "111      9.854401e-01                           1.0   \n",
       "\n",
       "     integral_change_magnitude  mean_change_magnitude  \n",
       "0                   -19.754857              -0.689120  \n",
       "1                    -1.298564              -0.043019  \n",
       "2                    -0.243454              -0.008674  \n",
       "3                     0.279821               0.010155  \n",
       "4                    -1.018507              -0.036394  \n",
       "..                         ...                    ...  \n",
       "107                  -1.117582              -0.040197  \n",
       "108                  -7.175585              -0.252344  \n",
       "109                  -1.373250              -0.043287  \n",
       "110                  -7.051961              -0.239452  \n",
       "111                  -0.036637               0.001206  \n",
       "\n",
       "[1420 rows x 14 columns]"
      ]
     },
     "execution_count": 26,
     "metadata": {},
     "output_type": "execute_result"
    }
   ],
   "source": [
    "responsiveness_summary_all"
   ]
  },
  {
   "cell_type": "code",
   "execution_count": 27,
   "metadata": {},
   "outputs": [],
   "source": [
    "def get_direction_if_responsive(row):\n",
    "    if row['p-value_on_means'] < significance_level:\n",
    "        return row['direction_of_effect_on_means']\n",
    "    else:\n",
    "        return 0\n",
    "responsiveness_summary_all['direction_if_signficant'] = responsiveness_summary_all.apply(\n",
    "    get_direction_if_responsive,\n",
    "    axis=1\n",
    ")"
   ]
  },
  {
   "cell_type": "code",
   "execution_count": 28,
   "metadata": {},
   "outputs": [
    {
     "data": {
      "text/plain": [
       " 1.0    0.556054\n",
       "-1.0    0.443946\n",
       "Name: direction_of_effect_on_means, dtype: float64"
      ]
     },
     "execution_count": 28,
     "metadata": {},
     "output_type": "execute_result"
    }
   ],
   "source": [
    "significant_hit_cells = responsiveness_summary_all[\n",
    "    (responsiveness_summary_all['condition'] == 'hit')\n",
    "    &(responsiveness_summary_all['p-value_on_means'] < significance_level)\n",
    "]\n",
    "significant_hit_cells['direction_of_effect_on_means'].value_counts(normalize=True)"
   ]
  },
  {
   "cell_type": "code",
   "execution_count": 29,
   "metadata": {},
   "outputs": [
    {
     "data": {
      "text/plain": [
       "True     0.628169\n",
       "False    0.371831\n",
       "Name: is_significant, dtype: float64"
      ]
     },
     "execution_count": 29,
     "metadata": {},
     "output_type": "execute_result"
    }
   ],
   "source": [
    "responsiveness_summary_all['is_significant'] = responsiveness_summary_all['p-value_on_means'] < significance_level\n",
    "responsiveness_summary_all[\n",
    "    (responsiveness_summary_all['condition'] == 'hit')\n",
    "]['is_significant'].value_counts(normalize=True)"
   ]
  },
  {
   "cell_type": "code",
   "execution_count": 30,
   "metadata": {},
   "outputs": [
    {
     "data": {
      "text/plain": [
       "True     223\n",
       "False    132\n",
       "Name: is_significant, dtype: int64"
      ]
     },
     "execution_count": 30,
     "metadata": {},
     "output_type": "execute_result"
    }
   ],
   "source": [
    "responsiveness_summary_all[\n",
    "    (responsiveness_summary_all['condition'] == 'hit')\n",
    "]['is_significant'].value_counts(normalize=False)"
   ]
  },
  {
   "cell_type": "code",
   "execution_count": 31,
   "metadata": {},
   "outputs": [
    {
     "data": {
      "text/plain": [
       "True     0.611268\n",
       "False    0.388732\n",
       "Name: is_significant, dtype: float64"
      ]
     },
     "execution_count": 31,
     "metadata": {},
     "output_type": "execute_result"
    }
   ],
   "source": [
    "responsiveness_summary_all[\n",
    "    (responsiveness_summary_all['condition'] == 'fa')\n",
    "]['is_significant'].value_counts(normalize=True)"
   ]
  },
  {
   "cell_type": "code",
   "execution_count": 32,
   "metadata": {},
   "outputs": [
    {
     "data": {
      "text/plain": [
       "True     217\n",
       "False    138\n",
       "Name: is_significant, dtype: int64"
      ]
     },
     "execution_count": 32,
     "metadata": {},
     "output_type": "execute_result"
    }
   ],
   "source": [
    "responsiveness_summary_all[\n",
    "    (responsiveness_summary_all['condition'] == 'fa')\n",
    "]['is_significant'].value_counts(normalize=False)"
   ]
  },
  {
   "cell_type": "code",
   "execution_count": 33,
   "metadata": {},
   "outputs": [
    {
     "data": {
      "text/plain": [
       " 0.0    0.371831\n",
       " 1.0    0.349296\n",
       "-1.0    0.278873\n",
       "Name: direction_if_signficant, dtype: float64"
      ]
     },
     "execution_count": 33,
     "metadata": {},
     "output_type": "execute_result"
    }
   ],
   "source": [
    "responsiveness_summary_all[\n",
    "    (responsiveness_summary_all['condition'] == 'hit')\n",
    "]['direction_if_signficant'].value_counts(normalize=True)"
   ]
  },
  {
   "cell_type": "code",
   "execution_count": 34,
   "metadata": {},
   "outputs": [
    {
     "data": {
      "text/plain": [
       "223"
      ]
     },
     "execution_count": 34,
     "metadata": {},
     "output_type": "execute_result"
    }
   ],
   "source": [
    "len(significant_hit_cells)"
   ]
  },
  {
   "cell_type": "code",
   "execution_count": 35,
   "metadata": {},
   "outputs": [
    {
     "data": {
      "text/plain": [
       " 1.0    0.556054\n",
       "-1.0    0.443946\n",
       "Name: direction_of_effect_on_means, dtype: float64"
      ]
     },
     "execution_count": 35,
     "metadata": {},
     "output_type": "execute_result"
    }
   ],
   "source": [
    "significant_hit_cells['direction_of_effect_on_means'].value_counts(normalize=True)"
   ]
  },
  {
   "cell_type": "code",
   "execution_count": 36,
   "metadata": {},
   "outputs": [
    {
     "data": {
      "text/plain": [
       " 1.0    124\n",
       "-1.0     99\n",
       "Name: direction_of_effect_on_means, dtype: int64"
      ]
     },
     "execution_count": 36,
     "metadata": {},
     "output_type": "execute_result"
    }
   ],
   "source": [
    "significant_hit_cells['direction_of_effect_on_means'].value_counts(normalize=False)"
   ]
  },
  {
   "cell_type": "code",
   "execution_count": 37,
   "metadata": {},
   "outputs": [],
   "source": [
    "significant_hit_cells = responsiveness_summary_all[\n",
    "    (responsiveness_summary_all['condition'] == 'hit')\n",
    "    &(responsiveness_summary_all['p-value_on_means'] < significance_level)\n",
    "]\n",
    "significant_fa_cells = responsiveness_summary_all[\n",
    "    (responsiveness_summary_all['condition'] == 'fa')\n",
    "    &(responsiveness_summary_all['p-value_on_means'] < significance_level)\n",
    "]"
   ]
  },
  {
   "cell_type": "code",
   "execution_count": 38,
   "metadata": {},
   "outputs": [],
   "source": [
    "significant_hit_cells = responsiveness_summary_all[\n",
    "    (responsiveness_summary_all['condition'] == 'hit')\n",
    "    &(responsiveness_summary_all['p-value_on_means'] < significance_level)\n",
    "]"
   ]
  },
  {
   "cell_type": "code",
   "execution_count": 39,
   "metadata": {},
   "outputs": [
    {
     "data": {
      "text/plain": [
       "count    223.000000\n",
       "mean       0.643171\n",
       "std        0.504148\n",
       "min        0.098183\n",
       "25%        0.319568\n",
       "50%        0.478885\n",
       "75%        0.787052\n",
       "max        3.091397\n",
       "Name: mean_change_magnitude, dtype: float64"
      ]
     },
     "execution_count": 39,
     "metadata": {},
     "output_type": "execute_result"
    }
   ],
   "source": [
    "significant_hit_cells['mean_change_magnitude'].abs().describe()"
   ]
  },
  {
   "cell_type": "code",
   "execution_count": 40,
   "metadata": {},
   "outputs": [
    {
     "data": {
      "text/plain": [
       "count    217.000000\n",
       "mean       0.372906\n",
       "std        0.274119\n",
       "min        0.036264\n",
       "25%        0.192234\n",
       "50%        0.271270\n",
       "75%        0.457388\n",
       "max        1.412736\n",
       "Name: mean_change_magnitude, dtype: float64"
      ]
     },
     "execution_count": 40,
     "metadata": {},
     "output_type": "execute_result"
    }
   ],
   "source": [
    "significant_fa_cells['mean_change_magnitude'].abs().describe()"
   ]
  },
  {
   "cell_type": "code",
   "execution_count": 41,
   "metadata": {},
   "outputs": [
    {
     "data": {
      "text/plain": [
       "Ttest_indResult(statistic=6.95905619523582, pvalue=1.2562527506729098e-11)"
      ]
     },
     "execution_count": 41,
     "metadata": {},
     "output_type": "execute_result"
    }
   ],
   "source": [
    "stats.ttest_ind(\n",
    "    significant_hit_cells['mean_change_magnitude'].abs(),\n",
    "    significant_fa_cells['mean_change_magnitude'].abs()\n",
    ")"
   ]
  },
  {
   "cell_type": "markdown",
   "metadata": {},
   "source": [
    "# Final Figure"
   ]
  },
  {
   "cell_type": "code",
   "execution_count": 158,
   "metadata": {
    "scrolled": false
   },
   "outputs": [
    {
     "name": "stderr",
     "output_type": "stream",
     "text": [
      "/allen/programs/braintv/workgroups/nc-ophys/Doug/code/claustrum_imaging_manuscript/utilities/helper_functions.py:133: RuntimeWarning: invalid value encountered in multiply\n",
      "  all_traces = np.empty((len(events), int(frame_before+frame_after)))*np.NAN\n"
     ]
    },
    {
     "data": {
      "image/png": "[encoded data removed]",
      "text/plain": [
       "<Figure size 1224x1152 with 64 Axes>"
      ]
     },
     "metadata": {
      "needs_background": "light"
     },
     "output_type": "display_data"
    }
   ],
   "source": [
    "save_fig = True\n",
    "\n",
    "figsize=(2*8.5,2*8)\n",
    "figure = plt.figure(figsize=figsize)\n",
    "n_example_cells = 5\n",
    "axes = {\n",
    "    'A1':plotting_utilities.placeAxesOnGrid(figure, xspan=[0.0,0.25], yspan=[0,0.2]),\n",
    "    'A2':plotting_utilities.placeAxesOnGrid(figure, xspan=[0.25,0.5], yspan=[0,0.2]),\n",
    "    'B':plotting_utilities.placeAxesOnGrid(figure,  xspan=[0.5,1],    yspan=[0,0.2]),\n",
    "    'C':plotting_utilities.placeAxesOnGrid(figure,  xspan=[0.02,0.94],   yspan=[0.22,0.38], dim=[1,4], sharex=True, sharey=True, wspace=0.04),\n",
    "    'C_colorbar':plotting_utilities.placeAxesOnGrid(figure,  xspan=[0.95,0.96],   yspan=[0.22,0.38]),\n",
    "    'D':plotting_utilities.placeAxesOnGrid(figure,  xspan=[0.02,0.48],   yspan=[0.52,0.75], dim=[n_example_cells,4], sharex=False, sharey=True, wspace=0.04, hspace=0.04),\n",
    "    'E':plotting_utilities.placeAxesOnGrid(figure,  xspan=[0.52,0.98],   yspan=[0.52,0.75], dim=[n_example_cells,4], sharex=False, sharey=True, wspace=0.04, hspace=0.04),\n",
    "    'F':plotting_utilities.placeAxesOnGrid(figure,  xspan=[0.02,1],   yspan=[0.81,1],    dim=[1,4], sharex=True, sharey=True, wspace=0.02),\n",
    "}\n",
    "\n",
    "\n",
    "show_schematic('flashing_image_schematic.png', ax=axes['A1'])\n",
    "show_schematic('mouse_schematic.png', ax=axes['A2'])\n",
    "show_schematic('task_schematic.png', ax=axes['B'])\n",
    "plot_heatmaps(ax=axes['C'], order_by_hits=True)\n",
    "make_colorbar(axes['C_colorbar'], image_axis=ax['heatmaps'][0], vmin=-5, vmax=5, cmap='seismic', label='z score', tick_locs=[-5, 0, 5], label_fontsize=12)\n",
    "\n",
    "helper_functions.plot_examples(facilitated.sample(5,random_state=3), session, ax=axes['D'], xlim=(-2,4), ylim=(-1,3), first_index=1)\n",
    "helper_functions.plot_examples(suppressed.sample(5,random_state=3), session, ax=axes['E'], xlim=(-2,4), ylim=(-1,3), first_index=6)\n",
    "\n",
    "plot_response_histograms(ax=axes['F'], significance_threshold=0.05)\n",
    "\n",
    "# add labels\n",
    "labels = [\n",
    "    {'label_text':'A', 'xpos':0,   'ypos':0.0},\n",
    "    {'label_text':'B', 'xpos':0.5, 'ypos':0.0},\n",
    "    {'label_text':'C', 'xpos':0,   'ypos':0.18},\n",
    "    {'label_text':'D', 'xpos':0,   'ypos':0.45},\n",
    "    {'label_text':'E', 'xpos':0.5, 'ypos':0.45},\n",
    "    {'label_text':'F', 'xpos':0,   'ypos':0.78},\n",
    "]\n",
    "for label in labels:\n",
    "    plotting_utilities.add_label(\n",
    "        figure,\n",
    "        label_text = label['label_text'],\n",
    "        xpos = label['xpos'],\n",
    "        ypos = label['ypos'],\n",
    "        fontsize=20,\n",
    "        weight=\"bold\"\n",
    "    )\n",
    "    \n",
    "# add titles\n",
    "titles = [\n",
    "    {'title_text':'Cells with activity increase', 'xpos':0.25,   'ypos':0.45},\n",
    "    {'title_text':'Cells with activity decrease', 'xpos':0.75, 'ypos':0.45},\n",
    "]\n",
    "for title in titles:\n",
    "    plotting_utilities.add_label(\n",
    "        figure,\n",
    "        label_text = title['title_text'],\n",
    "        xpos = title['xpos'],\n",
    "        ypos = title['ypos'],\n",
    "        fontsize=16,\n",
    "        ha='center',\n",
    "        va='top'\n",
    "    )\n",
    "\n",
    "if save_fig:\n",
    "    plotting_utilities.save_figure(figure, fname='figure_4', formats=['.png','.pdf'], size=figsize, dpi=500)"
   ]
  },
  {
   "cell_type": "markdown",
   "metadata": {},
   "source": [
    "## address overlap in hit/fa population"
   ]
  },
  {
   "cell_type": "markdown",
   "metadata": {},
   "source": [
    "### first build a pivot table containing the boolean 'is_significant' with the trial condition as the column"
   ]
  },
  {
   "cell_type": "code",
   "execution_count": 43,
   "metadata": {},
   "outputs": [
    {
     "data": {
      "text/html": [
       "<div>\n",
       "<style scoped>\n",
       "    .dataframe tbody tr th:only-of-type {\n",
       "        vertical-align: middle;\n",
       "    }\n",
       "\n",
       "    .dataframe tbody tr th {\n",
       "        vertical-align: top;\n",
       "    }\n",
       "\n",
       "    .dataframe thead th {\n",
       "        text-align: right;\n",
       "    }\n",
       "</style>\n",
       "<table border=\"1\" class=\"dataframe\">\n",
       "  <thead>\n",
       "    <tr style=\"text-align: right;\">\n",
       "      <th>condition</th>\n",
       "      <th>cr</th>\n",
       "      <th>fa</th>\n",
       "      <th>hit</th>\n",
       "      <th>miss</th>\n",
       "    </tr>\n",
       "    <tr>\n",
       "      <th>unique_id</th>\n",
       "      <th></th>\n",
       "      <th></th>\n",
       "      <th></th>\n",
       "      <th></th>\n",
       "    </tr>\n",
       "  </thead>\n",
       "  <tbody>\n",
       "    <tr>\n",
       "      <th>M332849_C000</th>\n",
       "      <td>False</td>\n",
       "      <td>False</td>\n",
       "      <td>True</td>\n",
       "      <td>False</td>\n",
       "    </tr>\n",
       "    <tr>\n",
       "      <th>M332849_C001</th>\n",
       "      <td>False</td>\n",
       "      <td>False</td>\n",
       "      <td>False</td>\n",
       "      <td>True</td>\n",
       "    </tr>\n",
       "    <tr>\n",
       "      <th>M332849_C002</th>\n",
       "      <td>False</td>\n",
       "      <td>False</td>\n",
       "      <td>False</td>\n",
       "      <td>False</td>\n",
       "    </tr>\n",
       "    <tr>\n",
       "      <th>M332849_C003</th>\n",
       "      <td>False</td>\n",
       "      <td>False</td>\n",
       "      <td>False</td>\n",
       "      <td>False</td>\n",
       "    </tr>\n",
       "    <tr>\n",
       "      <th>M332849_C004</th>\n",
       "      <td>False</td>\n",
       "      <td>True</td>\n",
       "      <td>False</td>\n",
       "      <td>False</td>\n",
       "    </tr>\n",
       "    <tr>\n",
       "      <th>...</th>\n",
       "      <td>...</td>\n",
       "      <td>...</td>\n",
       "      <td>...</td>\n",
       "      <td>...</td>\n",
       "    </tr>\n",
       "    <tr>\n",
       "      <th>M397408_C103</th>\n",
       "      <td>False</td>\n",
       "      <td>True</td>\n",
       "      <td>True</td>\n",
       "      <td>False</td>\n",
       "    </tr>\n",
       "    <tr>\n",
       "      <th>M397408_C112</th>\n",
       "      <td>True</td>\n",
       "      <td>True</td>\n",
       "      <td>False</td>\n",
       "      <td>True</td>\n",
       "    </tr>\n",
       "    <tr>\n",
       "      <th>M397408_C115</th>\n",
       "      <td>False</td>\n",
       "      <td>True</td>\n",
       "      <td>True</td>\n",
       "      <td>False</td>\n",
       "    </tr>\n",
       "    <tr>\n",
       "      <th>M397408_C158</th>\n",
       "      <td>False</td>\n",
       "      <td>True</td>\n",
       "      <td>True</td>\n",
       "      <td>False</td>\n",
       "    </tr>\n",
       "    <tr>\n",
       "      <th>M397408_C165</th>\n",
       "      <td>False</td>\n",
       "      <td>True</td>\n",
       "      <td>True</td>\n",
       "      <td>False</td>\n",
       "    </tr>\n",
       "  </tbody>\n",
       "</table>\n",
       "<p>355 rows × 4 columns</p>\n",
       "</div>"
      ],
      "text/plain": [
       "condition        cr     fa    hit   miss\n",
       "unique_id                               \n",
       "M332849_C000  False  False   True  False\n",
       "M332849_C001  False  False  False   True\n",
       "M332849_C002  False  False  False  False\n",
       "M332849_C003  False  False  False  False\n",
       "M332849_C004  False   True  False  False\n",
       "...             ...    ...    ...    ...\n",
       "M397408_C103  False   True   True  False\n",
       "M397408_C112   True   True  False   True\n",
       "M397408_C115  False   True   True  False\n",
       "M397408_C158  False   True   True  False\n",
       "M397408_C165  False   True   True  False\n",
       "\n",
       "[355 rows x 4 columns]"
      ]
     },
     "execution_count": 43,
     "metadata": {},
     "output_type": "execute_result"
    }
   ],
   "source": [
    "responsiveness_summary_all['unique_id'] = responsiveness_summary_all['mouse_id'] + '_' + responsiveness_summary_all['cell_id']\n",
    "significance_by_condition = responsiveness_summary_all.pivot(index='unique_id', columns='condition',values='is_significant')\n",
    "significance_by_condition"
   ]
  },
  {
   "cell_type": "markdown",
   "metadata": {},
   "source": [
    "### how many total cells?"
   ]
  },
  {
   "cell_type": "code",
   "execution_count": 44,
   "metadata": {},
   "outputs": [
    {
     "data": {
      "text/plain": [
       "355"
      ]
     },
     "execution_count": 44,
     "metadata": {},
     "output_type": "execute_result"
    }
   ],
   "source": [
    "len(significance_by_condition)"
   ]
  },
  {
   "cell_type": "markdown",
   "metadata": {},
   "source": [
    "### how many hit cells"
   ]
  },
  {
   "cell_type": "code",
   "execution_count": 45,
   "metadata": {},
   "outputs": [
    {
     "data": {
      "text/plain": [
       "223"
      ]
     },
     "execution_count": 45,
     "metadata": {},
     "output_type": "execute_result"
    }
   ],
   "source": [
    "len(significance_by_condition[significance_by_condition['hit']])"
   ]
  },
  {
   "cell_type": "markdown",
   "metadata": {},
   "source": [
    "### of the hit cells, what fraction are also fa responsive?"
   ]
  },
  {
   "cell_type": "code",
   "execution_count": 46,
   "metadata": {},
   "outputs": [
    {
     "data": {
      "text/plain": [
       "0.7040358744394619"
      ]
     },
     "execution_count": 46,
     "metadata": {},
     "output_type": "execute_result"
    }
   ],
   "source": [
    "significance_by_condition[significance_by_condition['hit']]['fa'].mean()"
   ]
  },
  {
   "cell_type": "markdown",
   "metadata": {},
   "source": [
    "### how many fa cells?"
   ]
  },
  {
   "cell_type": "code",
   "execution_count": 47,
   "metadata": {},
   "outputs": [
    {
     "data": {
      "text/plain": [
       "217"
      ]
     },
     "execution_count": 47,
     "metadata": {},
     "output_type": "execute_result"
    }
   ],
   "source": [
    "len(significance_by_condition[significance_by_condition['fa']])"
   ]
  },
  {
   "cell_type": "markdown",
   "metadata": {},
   "source": [
    "### of the fa cells, how many are also hit responsive?"
   ]
  },
  {
   "cell_type": "code",
   "execution_count": 48,
   "metadata": {},
   "outputs": [
    {
     "data": {
      "text/plain": [
       "0.7235023041474654"
      ]
     },
     "execution_count": 48,
     "metadata": {},
     "output_type": "execute_result"
    }
   ],
   "source": [
    "significance_by_condition[significance_by_condition['fa']]['hit'].mean()"
   ]
  },
  {
   "cell_type": "markdown",
   "metadata": {},
   "source": [
    "### of the cells that are either hit or fa responsive, how many are responsive to both?"
   ]
  },
  {
   "cell_type": "code",
   "execution_count": 49,
   "metadata": {},
   "outputs": [
    {
     "data": {
      "text/plain": [
       "0.5547703180212014"
      ]
     },
     "execution_count": 49,
     "metadata": {},
     "output_type": "execute_result"
    }
   ],
   "source": [
    "significance_by_condition['hit_and_fa'] = significance_by_condition['hit'] & significance_by_condition['fa']\n",
    "significance_by_condition[significance_by_condition['fa'] | significance_by_condition['hit']]['hit_and_fa'].mean()"
   ]
  },
  {
   "cell_type": "markdown",
   "metadata": {},
   "source": [
    "## heatmaps of individual cells"
   ]
  },
  {
   "cell_type": "code",
   "execution_count": 50,
   "metadata": {},
   "outputs": [],
   "source": [
    "def make_heatmaps(session, mouse_id, cell_id, save_or_show='save'):\n",
    "    fig,ax = plt.subplots(1,4,figsize=(22,4))\n",
    "\n",
    "    for col,stim_condition in enumerate(['hit','fa','miss','cr']):\n",
    "        p_val = responsiveness_summary_all.query('mouse_id == @mouse_id and cell_id == @cell_id and condition == @stim_condition')['p-value_on_means'].iloc[0]\n",
    "        title = 'condition = {}, p-value = {:0.2e}'.format(stim_condition, p_val)\n",
    "        helper_functions.single_cell_heatmap(\n",
    "            session = session[mouse_id],\n",
    "            cell_id = cell_id,\n",
    "            events = session[mouse_id].event_dict['{}_events'.format(stim_condition)],\n",
    "            ax=ax[col],\n",
    "            cbar = True,\n",
    "            title=title\n",
    "        )\n",
    "\n",
    "    fig.tight_layout()\n",
    "    plt.subplots_adjust(top=0.85)\n",
    "    fig.suptitle('mouse_id = {}, cell_id = {}'.format(mouse_id, cell_id),fontweight='bold')\n",
    "    if save_or_show == 'save':\n",
    "        folder = os.path.join(os.getcwd(), 'single_cell_heatmaps')\n",
    "        helper_functions.make_folder(folder)\n",
    "        plotting_utilities.save_figure(fig, os.path.join(folder, 'mouse_{}_cell_{}'.format(mouse_id, cell_id)))\n",
    "        fig.clf()"
   ]
  },
  {
   "cell_type": "code",
   "execution_count": 51,
   "metadata": {
    "scrolled": false
   },
   "outputs": [
    {
     "name": "stderr",
     "output_type": "stream",
     "text": [
      "/allen/programs/braintv/workgroups/nc-ophys/Doug/code/claustrum_imaging_manuscript/utilities/helper_functions.py:133: RuntimeWarning: invalid value encountered in multiply\n",
      "  all_traces = np.empty((len(events), int(frame_before+frame_after)))*np.NAN\n",
      "/home/dougo/.local/lib/python3.7/site-packages/ipykernel_launcher.py:2: RuntimeWarning: More than 20 figures have been opened. Figures created through the pyplot interface (`matplotlib.pyplot.figure`) are retained until explicitly closed and may consume too much memory. (To control this warning, see the rcParam `figure.max_open_warning`).\n",
      "  \n"
     ]
    },
    {
     "data": {
      "text/plain": [
       "<Figure size 1584x288 with 0 Axes>"
      ]
     },
     "metadata": {},
     "output_type": "display_data"
    },
    {
     "data": {
      "text/plain": [
       "<Figure size 1584x288 with 0 Axes>"
      ]
     },
     "metadata": {},
     "output_type": "display_data"
    },
    {
     "data": {
      "text/plain": [
       "<Figure size 1584x288 with 0 Axes>"
      ]
     },
     "metadata": {},
     "output_type": "display_data"
    },
    {
     "data": {
      "text/plain": [
       "<Figure size 1584x288 with 0 Axes>"
      ]
     },
     "metadata": {},
     "output_type": "display_data"
    },
    {
     "data": {
      "text/plain": [
       "<Figure size 1584x288 with 0 Axes>"
      ]
     },
     "metadata": {},
     "output_type": "display_data"
    },
    {
     "data": {
      "text/plain": [
       "<Figure size 1584x288 with 0 Axes>"
      ]
     },
     "metadata": {},
     "output_type": "display_data"
    },
    {
     "data": {
      "text/plain": [
       "<Figure size 1584x288 with 0 Axes>"
      ]
     },
     "metadata": {},
     "output_type": "display_data"
    },
    {
     "data": {
      "text/plain": [
       "<Figure size 1584x288 with 0 Axes>"
      ]
     },
     "metadata": {},
     "output_type": "display_data"
    },
    {
     "data": {
      "text/plain": [
       "<Figure size 1584x288 with 0 Axes>"
      ]
     },
     "metadata": {},
     "output_type": "display_data"
    },
    {
     "data": {
      "text/plain": [
       "<Figure size 1584x288 with 0 Axes>"
      ]
     },
     "metadata": {},
     "output_type": "display_data"
    },
    {
     "data": {
      "text/plain": [
       "<Figure size 1584x288 with 0 Axes>"
      ]
     },
     "metadata": {},
     "output_type": "display_data"
    },
    {
     "data": {
      "text/plain": [
       "<Figure size 1584x288 with 0 Axes>"
      ]
     },
     "metadata": {},
     "output_type": "display_data"
    },
    {
     "data": {
      "text/plain": [
       "<Figure size 1584x288 with 0 Axes>"
      ]
     },
     "metadata": {},
     "output_type": "display_data"
    },
    {
     "data": {
      "text/plain": [
       "<Figure size 1584x288 with 0 Axes>"
      ]
     },
     "metadata": {},
     "output_type": "display_data"
    },
    {
     "data": {
      "text/plain": [
       "<Figure size 1584x288 with 0 Axes>"
      ]
     },
     "metadata": {},
     "output_type": "display_data"
    },
    {
     "data": {
      "text/plain": [
       "<Figure size 1584x288 with 0 Axes>"
      ]
     },
     "metadata": {},
     "output_type": "display_data"
    },
    {
     "data": {
      "text/plain": [
       "<Figure size 1584x288 with 0 Axes>"
      ]
     },
     "metadata": {},
     "output_type": "display_data"
    },
    {
     "data": {
      "text/plain": [
       "<Figure size 1584x288 with 0 Axes>"
      ]
     },
     "metadata": {},
     "output_type": "display_data"
    },
    {
     "data": {
      "text/plain": [
       "<Figure size 1584x288 with 0 Axes>"
      ]
     },
     "metadata": {},
     "output_type": "display_data"
    },
    {
     "data": {
      "text/plain": [
       "<Figure size 1584x288 with 0 Axes>"
      ]
     },
     "metadata": {},
     "output_type": "display_data"
    },
    {
     "data": {
      "text/plain": [
       "<Figure size 1584x288 with 0 Axes>"
      ]
     },
     "metadata": {},
     "output_type": "display_data"
    },
    {
     "data": {
      "text/plain": [
       "<Figure size 1584x288 with 0 Axes>"
      ]
     },
     "metadata": {},
     "output_type": "display_data"
    },
    {
     "data": {
      "text/plain": [
       "<Figure size 1584x288 with 0 Axes>"
      ]
     },
     "metadata": {},
     "output_type": "display_data"
    },
    {
     "data": {
      "text/plain": [
       "<Figure size 1584x288 with 0 Axes>"
      ]
     },
     "metadata": {},
     "output_type": "display_data"
    },
    {
     "data": {
      "text/plain": [
       "<Figure size 1584x288 with 0 Axes>"
      ]
     },
     "metadata": {},
     "output_type": "display_data"
    },
    {
     "data": {
      "text/plain": [
       "<Figure size 1584x288 with 0 Axes>"
      ]
     },
     "metadata": {},
     "output_type": "display_data"
    },
    {
     "data": {
      "text/plain": [
       "<Figure size 1584x288 with 0 Axes>"
      ]
     },
     "metadata": {},
     "output_type": "display_data"
    },
    {
     "data": {
      "text/plain": [
       "<Figure size 1584x288 with 0 Axes>"
      ]
     },
     "metadata": {},
     "output_type": "display_data"
    },
    {
     "data": {
      "text/plain": [
       "<Figure size 1584x288 with 0 Axes>"
      ]
     },
     "metadata": {},
     "output_type": "display_data"
    },
    {
     "data": {
      "text/plain": [
       "<Figure size 1584x288 with 0 Axes>"
      ]
     },
     "metadata": {},
     "output_type": "display_data"
    },
    {
     "data": {
      "text/plain": [
       "<Figure size 1584x288 with 0 Axes>"
      ]
     },
     "metadata": {},
     "output_type": "display_data"
    },
    {
     "data": {
      "text/plain": [
       "<Figure size 1584x288 with 0 Axes>"
      ]
     },
     "metadata": {},
     "output_type": "display_data"
    },
    {
     "data": {
      "text/plain": [
       "<Figure size 1584x288 with 0 Axes>"
      ]
     },
     "metadata": {},
     "output_type": "display_data"
    },
    {
     "data": {
      "text/plain": [
       "<Figure size 1584x288 with 0 Axes>"
      ]
     },
     "metadata": {},
     "output_type": "display_data"
    },
    {
     "data": {
      "text/plain": [
       "<Figure size 1584x288 with 0 Axes>"
      ]
     },
     "metadata": {},
     "output_type": "display_data"
    },
    {
     "data": {
      "text/plain": [
       "<Figure size 1584x288 with 0 Axes>"
      ]
     },
     "metadata": {},
     "output_type": "display_data"
    },
    {
     "data": {
      "text/plain": [
       "<Figure size 1584x288 with 0 Axes>"
      ]
     },
     "metadata": {},
     "output_type": "display_data"
    },
    {
     "data": {
      "text/plain": [
       "<Figure size 1584x288 with 0 Axes>"
      ]
     },
     "metadata": {},
     "output_type": "display_data"
    },
    {
     "data": {
      "text/plain": [
       "<Figure size 1584x288 with 0 Axes>"
      ]
     },
     "metadata": {},
     "output_type": "display_data"
    },
    {
     "data": {
      "text/plain": [
       "<Figure size 1584x288 with 0 Axes>"
      ]
     },
     "metadata": {},
     "output_type": "display_data"
    },
    {
     "data": {
      "text/plain": [
       "<Figure size 1584x288 with 0 Axes>"
      ]
     },
     "metadata": {},
     "output_type": "display_data"
    },
    {
     "data": {
      "text/plain": [
       "<Figure size 1584x288 with 0 Axes>"
      ]
     },
     "metadata": {},
     "output_type": "display_data"
    },
    {
     "data": {
      "text/plain": [
       "<Figure size 1584x288 with 0 Axes>"
      ]
     },
     "metadata": {},
     "output_type": "display_data"
    },
    {
     "data": {
      "text/plain": [
       "<Figure size 1584x288 with 0 Axes>"
      ]
     },
     "metadata": {},
     "output_type": "display_data"
    },
    {
     "data": {
      "text/plain": [
       "<Figure size 1584x288 with 0 Axes>"
      ]
     },
     "metadata": {},
     "output_type": "display_data"
    },
    {
     "data": {
      "text/plain": [
       "<Figure size 1584x288 with 0 Axes>"
      ]
     },
     "metadata": {},
     "output_type": "display_data"
    },
    {
     "data": {
      "text/plain": [
       "<Figure size 1584x288 with 0 Axes>"
      ]
     },
     "metadata": {},
     "output_type": "display_data"
    },
    {
     "data": {
      "text/plain": [
       "<Figure size 1584x288 with 0 Axes>"
      ]
     },
     "metadata": {},
     "output_type": "display_data"
    },
    {
     "data": {
      "text/plain": [
       "<Figure size 1584x288 with 0 Axes>"
      ]
     },
     "metadata": {},
     "output_type": "display_data"
    },
    {
     "data": {
      "text/plain": [
       "<Figure size 1584x288 with 0 Axes>"
      ]
     },
     "metadata": {},
     "output_type": "display_data"
    },
    {
     "data": {
      "text/plain": [
       "<Figure size 1584x288 with 0 Axes>"
      ]
     },
     "metadata": {},
     "output_type": "display_data"
    },
    {
     "data": {
      "text/plain": [
       "<Figure size 1584x288 with 0 Axes>"
      ]
     },
     "metadata": {},
     "output_type": "display_data"
    },
    {
     "data": {
      "text/plain": [
       "<Figure size 1584x288 with 0 Axes>"
      ]
     },
     "metadata": {},
     "output_type": "display_data"
    },
    {
     "data": {
      "text/plain": [
       "<Figure size 1584x288 with 0 Axes>"
      ]
     },
     "metadata": {},
     "output_type": "display_data"
    },
    {
     "data": {
      "text/plain": [
       "<Figure size 1584x288 with 0 Axes>"
      ]
     },
     "metadata": {},
     "output_type": "display_data"
    },
    {
     "data": {
      "text/plain": [
       "<Figure size 1584x288 with 0 Axes>"
      ]
     },
     "metadata": {},
     "output_type": "display_data"
    },
    {
     "data": {
      "text/plain": [
       "<Figure size 1584x288 with 0 Axes>"
      ]
     },
     "metadata": {},
     "output_type": "display_data"
    },
    {
     "data": {
      "text/plain": [
       "<Figure size 1584x288 with 0 Axes>"
      ]
     },
     "metadata": {},
     "output_type": "display_data"
    },
    {
     "data": {
      "text/plain": [
       "<Figure size 1584x288 with 0 Axes>"
      ]
     },
     "metadata": {},
     "output_type": "display_data"
    },
    {
     "data": {
      "text/plain": [
       "<Figure size 1584x288 with 0 Axes>"
      ]
     },
     "metadata": {},
     "output_type": "display_data"
    },
    {
     "data": {
      "text/plain": [
       "<Figure size 1584x288 with 0 Axes>"
      ]
     },
     "metadata": {},
     "output_type": "display_data"
    },
    {
     "data": {
      "text/plain": [
       "<Figure size 1584x288 with 0 Axes>"
      ]
     },
     "metadata": {},
     "output_type": "display_data"
    },
    {
     "data": {
      "text/plain": [
       "<Figure size 1584x288 with 0 Axes>"
      ]
     },
     "metadata": {},
     "output_type": "display_data"
    },
    {
     "data": {
      "text/plain": [
       "<Figure size 1584x288 with 0 Axes>"
      ]
     },
     "metadata": {},
     "output_type": "display_data"
    },
    {
     "data": {
      "text/plain": [
       "<Figure size 1584x288 with 0 Axes>"
      ]
     },
     "metadata": {},
     "output_type": "display_data"
    },
    {
     "data": {
      "text/plain": [
       "<Figure size 1584x288 with 0 Axes>"
      ]
     },
     "metadata": {},
     "output_type": "display_data"
    },
    {
     "data": {
      "text/plain": [
       "<Figure size 1584x288 with 0 Axes>"
      ]
     },
     "metadata": {},
     "output_type": "display_data"
    },
    {
     "data": {
      "text/plain": [
       "<Figure size 1584x288 with 0 Axes>"
      ]
     },
     "metadata": {},
     "output_type": "display_data"
    },
    {
     "data": {
      "text/plain": [
       "<Figure size 1584x288 with 0 Axes>"
      ]
     },
     "metadata": {},
     "output_type": "display_data"
    },
    {
     "data": {
      "text/plain": [
       "<Figure size 1584x288 with 0 Axes>"
      ]
     },
     "metadata": {},
     "output_type": "display_data"
    },
    {
     "data": {
      "text/plain": [
       "<Figure size 1584x288 with 0 Axes>"
      ]
     },
     "metadata": {},
     "output_type": "display_data"
    },
    {
     "data": {
      "text/plain": [
       "<Figure size 1584x288 with 0 Axes>"
      ]
     },
     "metadata": {},
     "output_type": "display_data"
    },
    {
     "data": {
      "text/plain": [
       "<Figure size 1584x288 with 0 Axes>"
      ]
     },
     "metadata": {},
     "output_type": "display_data"
    },
    {
     "data": {
      "text/plain": [
       "<Figure size 1584x288 with 0 Axes>"
      ]
     },
     "metadata": {},
     "output_type": "display_data"
    },
    {
     "data": {
      "text/plain": [
       "<Figure size 1584x288 with 0 Axes>"
      ]
     },
     "metadata": {},
     "output_type": "display_data"
    },
    {
     "data": {
      "text/plain": [
       "<Figure size 1584x288 with 0 Axes>"
      ]
     },
     "metadata": {},
     "output_type": "display_data"
    },
    {
     "data": {
      "text/plain": [
       "<Figure size 1584x288 with 0 Axes>"
      ]
     },
     "metadata": {},
     "output_type": "display_data"
    },
    {
     "data": {
      "text/plain": [
       "<Figure size 1584x288 with 0 Axes>"
      ]
     },
     "metadata": {},
     "output_type": "display_data"
    },
    {
     "data": {
      "text/plain": [
       "<Figure size 1584x288 with 0 Axes>"
      ]
     },
     "metadata": {},
     "output_type": "display_data"
    },
    {
     "data": {
      "text/plain": [
       "<Figure size 1584x288 with 0 Axes>"
      ]
     },
     "metadata": {},
     "output_type": "display_data"
    },
    {
     "data": {
      "text/plain": [
       "<Figure size 1584x288 with 0 Axes>"
      ]
     },
     "metadata": {},
     "output_type": "display_data"
    },
    {
     "data": {
      "text/plain": [
       "<Figure size 1584x288 with 0 Axes>"
      ]
     },
     "metadata": {},
     "output_type": "display_data"
    },
    {
     "data": {
      "text/plain": [
       "<Figure size 1584x288 with 0 Axes>"
      ]
     },
     "metadata": {},
     "output_type": "display_data"
    },
    {
     "data": {
      "text/plain": [
       "<Figure size 1584x288 with 0 Axes>"
      ]
     },
     "metadata": {},
     "output_type": "display_data"
    },
    {
     "data": {
      "text/plain": [
       "<Figure size 1584x288 with 0 Axes>"
      ]
     },
     "metadata": {},
     "output_type": "display_data"
    },
    {
     "data": {
      "text/plain": [
       "<Figure size 1584x288 with 0 Axes>"
      ]
     },
     "metadata": {},
     "output_type": "display_data"
    },
    {
     "data": {
      "text/plain": [
       "<Figure size 1584x288 with 0 Axes>"
      ]
     },
     "metadata": {},
     "output_type": "display_data"
    },
    {
     "data": {
      "text/plain": [
       "<Figure size 1584x288 with 0 Axes>"
      ]
     },
     "metadata": {},
     "output_type": "display_data"
    },
    {
     "data": {
      "text/plain": [
       "<Figure size 1584x288 with 0 Axes>"
      ]
     },
     "metadata": {},
     "output_type": "display_data"
    },
    {
     "data": {
      "text/plain": [
       "<Figure size 1584x288 with 0 Axes>"
      ]
     },
     "metadata": {},
     "output_type": "display_data"
    },
    {
     "data": {
      "text/plain": [
       "<Figure size 1584x288 with 0 Axes>"
      ]
     },
     "metadata": {},
     "output_type": "display_data"
    },
    {
     "data": {
      "text/plain": [
       "<Figure size 1584x288 with 0 Axes>"
      ]
     },
     "metadata": {},
     "output_type": "display_data"
    },
    {
     "data": {
      "text/plain": [
       "<Figure size 1584x288 with 0 Axes>"
      ]
     },
     "metadata": {},
     "output_type": "display_data"
    },
    {
     "data": {
      "text/plain": [
       "<Figure size 1584x288 with 0 Axes>"
      ]
     },
     "metadata": {},
     "output_type": "display_data"
    },
    {
     "data": {
      "text/plain": [
       "<Figure size 1584x288 with 0 Axes>"
      ]
     },
     "metadata": {},
     "output_type": "display_data"
    },
    {
     "data": {
      "text/plain": [
       "<Figure size 1584x288 with 0 Axes>"
      ]
     },
     "metadata": {},
     "output_type": "display_data"
    },
    {
     "data": {
      "text/plain": [
       "<Figure size 1584x288 with 0 Axes>"
      ]
     },
     "metadata": {},
     "output_type": "display_data"
    },
    {
     "data": {
      "text/plain": [
       "<Figure size 1584x288 with 0 Axes>"
      ]
     },
     "metadata": {},
     "output_type": "display_data"
    },
    {
     "data": {
      "text/plain": [
       "<Figure size 1584x288 with 0 Axes>"
      ]
     },
     "metadata": {},
     "output_type": "display_data"
    },
    {
     "data": {
      "text/plain": [
       "<Figure size 1584x288 with 0 Axes>"
      ]
     },
     "metadata": {},
     "output_type": "display_data"
    },
    {
     "data": {
      "text/plain": [
       "<Figure size 1584x288 with 0 Axes>"
      ]
     },
     "metadata": {},
     "output_type": "display_data"
    },
    {
     "data": {
      "text/plain": [
       "<Figure size 1584x288 with 0 Axes>"
      ]
     },
     "metadata": {},
     "output_type": "display_data"
    },
    {
     "data": {
      "text/plain": [
       "<Figure size 1584x288 with 0 Axes>"
      ]
     },
     "metadata": {},
     "output_type": "display_data"
    },
    {
     "data": {
      "text/plain": [
       "<Figure size 1584x288 with 0 Axes>"
      ]
     },
     "metadata": {},
     "output_type": "display_data"
    },
    {
     "data": {
      "text/plain": [
       "<Figure size 1584x288 with 0 Axes>"
      ]
     },
     "metadata": {},
     "output_type": "display_data"
    },
    {
     "data": {
      "text/plain": [
       "<Figure size 1584x288 with 0 Axes>"
      ]
     },
     "metadata": {},
     "output_type": "display_data"
    },
    {
     "data": {
      "text/plain": [
       "<Figure size 1584x288 with 0 Axes>"
      ]
     },
     "metadata": {},
     "output_type": "display_data"
    },
    {
     "data": {
      "text/plain": [
       "<Figure size 1584x288 with 0 Axes>"
      ]
     },
     "metadata": {},
     "output_type": "display_data"
    },
    {
     "data": {
      "text/plain": [
       "<Figure size 1584x288 with 0 Axes>"
      ]
     },
     "metadata": {},
     "output_type": "display_data"
    },
    {
     "data": {
      "text/plain": [
       "<Figure size 1584x288 with 0 Axes>"
      ]
     },
     "metadata": {},
     "output_type": "display_data"
    },
    {
     "data": {
      "text/plain": [
       "<Figure size 1584x288 with 0 Axes>"
      ]
     },
     "metadata": {},
     "output_type": "display_data"
    },
    {
     "data": {
      "text/plain": [
       "<Figure size 1584x288 with 0 Axes>"
      ]
     },
     "metadata": {},
     "output_type": "display_data"
    },
    {
     "data": {
      "text/plain": [
       "<Figure size 1584x288 with 0 Axes>"
      ]
     },
     "metadata": {},
     "output_type": "display_data"
    },
    {
     "data": {
      "text/plain": [
       "<Figure size 1584x288 with 0 Axes>"
      ]
     },
     "metadata": {},
     "output_type": "display_data"
    },
    {
     "data": {
      "text/plain": [
       "<Figure size 1584x288 with 0 Axes>"
      ]
     },
     "metadata": {},
     "output_type": "display_data"
    },
    {
     "data": {
      "text/plain": [
       "<Figure size 1584x288 with 0 Axes>"
      ]
     },
     "metadata": {},
     "output_type": "display_data"
    },
    {
     "data": {
      "text/plain": [
       "<Figure size 1584x288 with 0 Axes>"
      ]
     },
     "metadata": {},
     "output_type": "display_data"
    },
    {
     "data": {
      "text/plain": [
       "<Figure size 1584x288 with 0 Axes>"
      ]
     },
     "metadata": {},
     "output_type": "display_data"
    },
    {
     "data": {
      "text/plain": [
       "<Figure size 1584x288 with 0 Axes>"
      ]
     },
     "metadata": {},
     "output_type": "display_data"
    },
    {
     "data": {
      "text/plain": [
       "<Figure size 1584x288 with 0 Axes>"
      ]
     },
     "metadata": {},
     "output_type": "display_data"
    },
    {
     "data": {
      "text/plain": [
       "<Figure size 1584x288 with 0 Axes>"
      ]
     },
     "metadata": {},
     "output_type": "display_data"
    },
    {
     "data": {
      "text/plain": [
       "<Figure size 1584x288 with 0 Axes>"
      ]
     },
     "metadata": {},
     "output_type": "display_data"
    },
    {
     "data": {
      "text/plain": [
       "<Figure size 1584x288 with 0 Axes>"
      ]
     },
     "metadata": {},
     "output_type": "display_data"
    },
    {
     "data": {
      "text/plain": [
       "<Figure size 1584x288 with 0 Axes>"
      ]
     },
     "metadata": {},
     "output_type": "display_data"
    },
    {
     "data": {
      "text/plain": [
       "<Figure size 1584x288 with 0 Axes>"
      ]
     },
     "metadata": {},
     "output_type": "display_data"
    },
    {
     "data": {
      "text/plain": [
       "<Figure size 1584x288 with 0 Axes>"
      ]
     },
     "metadata": {},
     "output_type": "display_data"
    },
    {
     "data": {
      "text/plain": [
       "<Figure size 1584x288 with 0 Axes>"
      ]
     },
     "metadata": {},
     "output_type": "display_data"
    },
    {
     "data": {
      "text/plain": [
       "<Figure size 1584x288 with 0 Axes>"
      ]
     },
     "metadata": {},
     "output_type": "display_data"
    },
    {
     "data": {
      "text/plain": [
       "<Figure size 1584x288 with 0 Axes>"
      ]
     },
     "metadata": {},
     "output_type": "display_data"
    },
    {
     "data": {
      "text/plain": [
       "<Figure size 1584x288 with 0 Axes>"
      ]
     },
     "metadata": {},
     "output_type": "display_data"
    },
    {
     "data": {
      "text/plain": [
       "<Figure size 1584x288 with 0 Axes>"
      ]
     },
     "metadata": {},
     "output_type": "display_data"
    },
    {
     "data": {
      "text/plain": [
       "<Figure size 1584x288 with 0 Axes>"
      ]
     },
     "metadata": {},
     "output_type": "display_data"
    },
    {
     "data": {
      "text/plain": [
       "<Figure size 1584x288 with 0 Axes>"
      ]
     },
     "metadata": {},
     "output_type": "display_data"
    },
    {
     "data": {
      "text/plain": [
       "<Figure size 1584x288 with 0 Axes>"
      ]
     },
     "metadata": {},
     "output_type": "display_data"
    },
    {
     "data": {
      "text/plain": [
       "<Figure size 1584x288 with 0 Axes>"
      ]
     },
     "metadata": {},
     "output_type": "display_data"
    },
    {
     "data": {
      "text/plain": [
       "<Figure size 1584x288 with 0 Axes>"
      ]
     },
     "metadata": {},
     "output_type": "display_data"
    },
    {
     "data": {
      "text/plain": [
       "<Figure size 1584x288 with 0 Axes>"
      ]
     },
     "metadata": {},
     "output_type": "display_data"
    },
    {
     "data": {
      "text/plain": [
       "<Figure size 1584x288 with 0 Axes>"
      ]
     },
     "metadata": {},
     "output_type": "display_data"
    },
    {
     "data": {
      "text/plain": [
       "<Figure size 1584x288 with 0 Axes>"
      ]
     },
     "metadata": {},
     "output_type": "display_data"
    },
    {
     "data": {
      "text/plain": [
       "<Figure size 1584x288 with 0 Axes>"
      ]
     },
     "metadata": {},
     "output_type": "display_data"
    },
    {
     "data": {
      "text/plain": [
       "<Figure size 1584x288 with 0 Axes>"
      ]
     },
     "metadata": {},
     "output_type": "display_data"
    },
    {
     "data": {
      "text/plain": [
       "<Figure size 1584x288 with 0 Axes>"
      ]
     },
     "metadata": {},
     "output_type": "display_data"
    },
    {
     "data": {
      "text/plain": [
       "<Figure size 1584x288 with 0 Axes>"
      ]
     },
     "metadata": {},
     "output_type": "display_data"
    },
    {
     "data": {
      "text/plain": [
       "<Figure size 1584x288 with 0 Axes>"
      ]
     },
     "metadata": {},
     "output_type": "display_data"
    },
    {
     "data": {
      "text/plain": [
       "<Figure size 1584x288 with 0 Axes>"
      ]
     },
     "metadata": {},
     "output_type": "display_data"
    },
    {
     "data": {
      "text/plain": [
       "<Figure size 1584x288 with 0 Axes>"
      ]
     },
     "metadata": {},
     "output_type": "display_data"
    },
    {
     "data": {
      "text/plain": [
       "<Figure size 1584x288 with 0 Axes>"
      ]
     },
     "metadata": {},
     "output_type": "display_data"
    },
    {
     "data": {
      "text/plain": [
       "<Figure size 1584x288 with 0 Axes>"
      ]
     },
     "metadata": {},
     "output_type": "display_data"
    },
    {
     "data": {
      "text/plain": [
       "<Figure size 1584x288 with 0 Axes>"
      ]
     },
     "metadata": {},
     "output_type": "display_data"
    },
    {
     "data": {
      "text/plain": [
       "<Figure size 1584x288 with 0 Axes>"
      ]
     },
     "metadata": {},
     "output_type": "display_data"
    },
    {
     "data": {
      "text/plain": [
       "<Figure size 1584x288 with 0 Axes>"
      ]
     },
     "metadata": {},
     "output_type": "display_data"
    },
    {
     "data": {
      "text/plain": [
       "<Figure size 1584x288 with 0 Axes>"
      ]
     },
     "metadata": {},
     "output_type": "display_data"
    },
    {
     "data": {
      "text/plain": [
       "<Figure size 1584x288 with 0 Axes>"
      ]
     },
     "metadata": {},
     "output_type": "display_data"
    },
    {
     "data": {
      "text/plain": [
       "<Figure size 1584x288 with 0 Axes>"
      ]
     },
     "metadata": {},
     "output_type": "display_data"
    },
    {
     "data": {
      "text/plain": [
       "<Figure size 1584x288 with 0 Axes>"
      ]
     },
     "metadata": {},
     "output_type": "display_data"
    },
    {
     "data": {
      "text/plain": [
       "<Figure size 1584x288 with 0 Axes>"
      ]
     },
     "metadata": {},
     "output_type": "display_data"
    },
    {
     "data": {
      "text/plain": [
       "<Figure size 1584x288 with 0 Axes>"
      ]
     },
     "metadata": {},
     "output_type": "display_data"
    },
    {
     "data": {
      "text/plain": [
       "<Figure size 1584x288 with 0 Axes>"
      ]
     },
     "metadata": {},
     "output_type": "display_data"
    },
    {
     "data": {
      "text/plain": [
       "<Figure size 1584x288 with 0 Axes>"
      ]
     },
     "metadata": {},
     "output_type": "display_data"
    },
    {
     "data": {
      "text/plain": [
       "<Figure size 1584x288 with 0 Axes>"
      ]
     },
     "metadata": {},
     "output_type": "display_data"
    },
    {
     "data": {
      "text/plain": [
       "<Figure size 1584x288 with 0 Axes>"
      ]
     },
     "metadata": {},
     "output_type": "display_data"
    },
    {
     "data": {
      "text/plain": [
       "<Figure size 1584x288 with 0 Axes>"
      ]
     },
     "metadata": {},
     "output_type": "display_data"
    },
    {
     "data": {
      "text/plain": [
       "<Figure size 1584x288 with 0 Axes>"
      ]
     },
     "metadata": {},
     "output_type": "display_data"
    },
    {
     "data": {
      "text/plain": [
       "<Figure size 1584x288 with 0 Axes>"
      ]
     },
     "metadata": {},
     "output_type": "display_data"
    },
    {
     "data": {
      "text/plain": [
       "<Figure size 1584x288 with 0 Axes>"
      ]
     },
     "metadata": {},
     "output_type": "display_data"
    },
    {
     "data": {
      "text/plain": [
       "<Figure size 1584x288 with 0 Axes>"
      ]
     },
     "metadata": {},
     "output_type": "display_data"
    },
    {
     "data": {
      "text/plain": [
       "<Figure size 1584x288 with 0 Axes>"
      ]
     },
     "metadata": {},
     "output_type": "display_data"
    },
    {
     "data": {
      "text/plain": [
       "<Figure size 1584x288 with 0 Axes>"
      ]
     },
     "metadata": {},
     "output_type": "display_data"
    },
    {
     "data": {
      "text/plain": [
       "<Figure size 1584x288 with 0 Axes>"
      ]
     },
     "metadata": {},
     "output_type": "display_data"
    },
    {
     "data": {
      "text/plain": [
       "<Figure size 1584x288 with 0 Axes>"
      ]
     },
     "metadata": {},
     "output_type": "display_data"
    },
    {
     "data": {
      "text/plain": [
       "<Figure size 1584x288 with 0 Axes>"
      ]
     },
     "metadata": {},
     "output_type": "display_data"
    },
    {
     "data": {
      "text/plain": [
       "<Figure size 1584x288 with 0 Axes>"
      ]
     },
     "metadata": {},
     "output_type": "display_data"
    },
    {
     "data": {
      "text/plain": [
       "<Figure size 1584x288 with 0 Axes>"
      ]
     },
     "metadata": {},
     "output_type": "display_data"
    },
    {
     "data": {
      "text/plain": [
       "<Figure size 1584x288 with 0 Axes>"
      ]
     },
     "metadata": {},
     "output_type": "display_data"
    },
    {
     "data": {
      "text/plain": [
       "<Figure size 1584x288 with 0 Axes>"
      ]
     },
     "metadata": {},
     "output_type": "display_data"
    },
    {
     "data": {
      "text/plain": [
       "<Figure size 1584x288 with 0 Axes>"
      ]
     },
     "metadata": {},
     "output_type": "display_data"
    },
    {
     "data": {
      "text/plain": [
       "<Figure size 1584x288 with 0 Axes>"
      ]
     },
     "metadata": {},
     "output_type": "display_data"
    },
    {
     "data": {
      "text/plain": [
       "<Figure size 1584x288 with 0 Axes>"
      ]
     },
     "metadata": {},
     "output_type": "display_data"
    },
    {
     "data": {
      "text/plain": [
       "<Figure size 1584x288 with 0 Axes>"
      ]
     },
     "metadata": {},
     "output_type": "display_data"
    },
    {
     "data": {
      "text/plain": [
       "<Figure size 1584x288 with 0 Axes>"
      ]
     },
     "metadata": {},
     "output_type": "display_data"
    },
    {
     "data": {
      "text/plain": [
       "<Figure size 1584x288 with 0 Axes>"
      ]
     },
     "metadata": {},
     "output_type": "display_data"
    },
    {
     "data": {
      "text/plain": [
       "<Figure size 1584x288 with 0 Axes>"
      ]
     },
     "metadata": {},
     "output_type": "display_data"
    },
    {
     "data": {
      "text/plain": [
       "<Figure size 1584x288 with 0 Axes>"
      ]
     },
     "metadata": {},
     "output_type": "display_data"
    },
    {
     "data": {
      "text/plain": [
       "<Figure size 1584x288 with 0 Axes>"
      ]
     },
     "metadata": {},
     "output_type": "display_data"
    },
    {
     "data": {
      "text/plain": [
       "<Figure size 1584x288 with 0 Axes>"
      ]
     },
     "metadata": {},
     "output_type": "display_data"
    },
    {
     "data": {
      "text/plain": [
       "<Figure size 1584x288 with 0 Axes>"
      ]
     },
     "metadata": {},
     "output_type": "display_data"
    },
    {
     "data": {
      "text/plain": [
       "<Figure size 1584x288 with 0 Axes>"
      ]
     },
     "metadata": {},
     "output_type": "display_data"
    },
    {
     "data": {
      "text/plain": [
       "<Figure size 1584x288 with 0 Axes>"
      ]
     },
     "metadata": {},
     "output_type": "display_data"
    },
    {
     "data": {
      "text/plain": [
       "<Figure size 1584x288 with 0 Axes>"
      ]
     },
     "metadata": {},
     "output_type": "display_data"
    },
    {
     "data": {
      "text/plain": [
       "<Figure size 1584x288 with 0 Axes>"
      ]
     },
     "metadata": {},
     "output_type": "display_data"
    },
    {
     "data": {
      "text/plain": [
       "<Figure size 1584x288 with 0 Axes>"
      ]
     },
     "metadata": {},
     "output_type": "display_data"
    },
    {
     "data": {
      "text/plain": [
       "<Figure size 1584x288 with 0 Axes>"
      ]
     },
     "metadata": {},
     "output_type": "display_data"
    },
    {
     "data": {
      "text/plain": [
       "<Figure size 1584x288 with 0 Axes>"
      ]
     },
     "metadata": {},
     "output_type": "display_data"
    },
    {
     "data": {
      "text/plain": [
       "<Figure size 1584x288 with 0 Axes>"
      ]
     },
     "metadata": {},
     "output_type": "display_data"
    },
    {
     "data": {
      "text/plain": [
       "<Figure size 1584x288 with 0 Axes>"
      ]
     },
     "metadata": {},
     "output_type": "display_data"
    },
    {
     "data": {
      "text/plain": [
       "<Figure size 1584x288 with 0 Axes>"
      ]
     },
     "metadata": {},
     "output_type": "display_data"
    },
    {
     "data": {
      "text/plain": [
       "<Figure size 1584x288 with 0 Axes>"
      ]
     },
     "metadata": {},
     "output_type": "display_data"
    },
    {
     "data": {
      "text/plain": [
       "<Figure size 1584x288 with 0 Axes>"
      ]
     },
     "metadata": {},
     "output_type": "display_data"
    },
    {
     "data": {
      "text/plain": [
       "<Figure size 1584x288 with 0 Axes>"
      ]
     },
     "metadata": {},
     "output_type": "display_data"
    },
    {
     "data": {
      "text/plain": [
       "<Figure size 1584x288 with 0 Axes>"
      ]
     },
     "metadata": {},
     "output_type": "display_data"
    },
    {
     "data": {
      "text/plain": [
       "<Figure size 1584x288 with 0 Axes>"
      ]
     },
     "metadata": {},
     "output_type": "display_data"
    },
    {
     "data": {
      "text/plain": [
       "<Figure size 1584x288 with 0 Axes>"
      ]
     },
     "metadata": {},
     "output_type": "display_data"
    },
    {
     "data": {
      "text/plain": [
       "<Figure size 1584x288 with 0 Axes>"
      ]
     },
     "metadata": {},
     "output_type": "display_data"
    },
    {
     "data": {
      "text/plain": [
       "<Figure size 1584x288 with 0 Axes>"
      ]
     },
     "metadata": {},
     "output_type": "display_data"
    },
    {
     "data": {
      "text/plain": [
       "<Figure size 1584x288 with 0 Axes>"
      ]
     },
     "metadata": {},
     "output_type": "display_data"
    },
    {
     "data": {
      "text/plain": [
       "<Figure size 1584x288 with 0 Axes>"
      ]
     },
     "metadata": {},
     "output_type": "display_data"
    },
    {
     "data": {
      "text/plain": [
       "<Figure size 1584x288 with 0 Axes>"
      ]
     },
     "metadata": {},
     "output_type": "display_data"
    },
    {
     "data": {
      "text/plain": [
       "<Figure size 1584x288 with 0 Axes>"
      ]
     },
     "metadata": {},
     "output_type": "display_data"
    },
    {
     "data": {
      "text/plain": [
       "<Figure size 1584x288 with 0 Axes>"
      ]
     },
     "metadata": {},
     "output_type": "display_data"
    },
    {
     "data": {
      "text/plain": [
       "<Figure size 1584x288 with 0 Axes>"
      ]
     },
     "metadata": {},
     "output_type": "display_data"
    },
    {
     "data": {
      "text/plain": [
       "<Figure size 1584x288 with 0 Axes>"
      ]
     },
     "metadata": {},
     "output_type": "display_data"
    },
    {
     "data": {
      "text/plain": [
       "<Figure size 1584x288 with 0 Axes>"
      ]
     },
     "metadata": {},
     "output_type": "display_data"
    },
    {
     "data": {
      "text/plain": [
       "<Figure size 1584x288 with 0 Axes>"
      ]
     },
     "metadata": {},
     "output_type": "display_data"
    },
    {
     "data": {
      "text/plain": [
       "<Figure size 1584x288 with 0 Axes>"
      ]
     },
     "metadata": {},
     "output_type": "display_data"
    },
    {
     "data": {
      "text/plain": [
       "<Figure size 1584x288 with 0 Axes>"
      ]
     },
     "metadata": {},
     "output_type": "display_data"
    },
    {
     "data": {
      "text/plain": [
       "<Figure size 1584x288 with 0 Axes>"
      ]
     },
     "metadata": {},
     "output_type": "display_data"
    },
    {
     "data": {
      "text/plain": [
       "<Figure size 1584x288 with 0 Axes>"
      ]
     },
     "metadata": {},
     "output_type": "display_data"
    },
    {
     "data": {
      "text/plain": [
       "<Figure size 1584x288 with 0 Axes>"
      ]
     },
     "metadata": {},
     "output_type": "display_data"
    },
    {
     "data": {
      "text/plain": [
       "<Figure size 1584x288 with 0 Axes>"
      ]
     },
     "metadata": {},
     "output_type": "display_data"
    },
    {
     "data": {
      "text/plain": [
       "<Figure size 1584x288 with 0 Axes>"
      ]
     },
     "metadata": {},
     "output_type": "display_data"
    },
    {
     "data": {
      "text/plain": [
       "<Figure size 1584x288 with 0 Axes>"
      ]
     },
     "metadata": {},
     "output_type": "display_data"
    },
    {
     "data": {
      "text/plain": [
       "<Figure size 1584x288 with 0 Axes>"
      ]
     },
     "metadata": {},
     "output_type": "display_data"
    },
    {
     "data": {
      "text/plain": [
       "<Figure size 1584x288 with 0 Axes>"
      ]
     },
     "metadata": {},
     "output_type": "display_data"
    },
    {
     "data": {
      "text/plain": [
       "<Figure size 1584x288 with 0 Axes>"
      ]
     },
     "metadata": {},
     "output_type": "display_data"
    },
    {
     "data": {
      "text/plain": [
       "<Figure size 1584x288 with 0 Axes>"
      ]
     },
     "metadata": {},
     "output_type": "display_data"
    },
    {
     "data": {
      "text/plain": [
       "<Figure size 1584x288 with 0 Axes>"
      ]
     },
     "metadata": {},
     "output_type": "display_data"
    },
    {
     "data": {
      "text/plain": [
       "<Figure size 1584x288 with 0 Axes>"
      ]
     },
     "metadata": {},
     "output_type": "display_data"
    },
    {
     "data": {
      "text/plain": [
       "<Figure size 1584x288 with 0 Axes>"
      ]
     },
     "metadata": {},
     "output_type": "display_data"
    },
    {
     "data": {
      "text/plain": [
       "<Figure size 1584x288 with 0 Axes>"
      ]
     },
     "metadata": {},
     "output_type": "display_data"
    },
    {
     "data": {
      "text/plain": [
       "<Figure size 1584x288 with 0 Axes>"
      ]
     },
     "metadata": {},
     "output_type": "display_data"
    },
    {
     "data": {
      "text/plain": [
       "<Figure size 1584x288 with 0 Axes>"
      ]
     },
     "metadata": {},
     "output_type": "display_data"
    },
    {
     "data": {
      "text/plain": [
       "<Figure size 1584x288 with 0 Axes>"
      ]
     },
     "metadata": {},
     "output_type": "display_data"
    },
    {
     "data": {
      "text/plain": [
       "<Figure size 1584x288 with 0 Axes>"
      ]
     },
     "metadata": {},
     "output_type": "display_data"
    },
    {
     "data": {
      "text/plain": [
       "<Figure size 1584x288 with 0 Axes>"
      ]
     },
     "metadata": {},
     "output_type": "display_data"
    },
    {
     "data": {
      "text/plain": [
       "<Figure size 1584x288 with 0 Axes>"
      ]
     },
     "metadata": {},
     "output_type": "display_data"
    },
    {
     "data": {
      "text/plain": [
       "<Figure size 1584x288 with 0 Axes>"
      ]
     },
     "metadata": {},
     "output_type": "display_data"
    },
    {
     "data": {
      "text/plain": [
       "<Figure size 1584x288 with 0 Axes>"
      ]
     },
     "metadata": {},
     "output_type": "display_data"
    },
    {
     "data": {
      "text/plain": [
       "<Figure size 1584x288 with 0 Axes>"
      ]
     },
     "metadata": {},
     "output_type": "display_data"
    },
    {
     "data": {
      "text/plain": [
       "<Figure size 1584x288 with 0 Axes>"
      ]
     },
     "metadata": {},
     "output_type": "display_data"
    },
    {
     "data": {
      "text/plain": [
       "<Figure size 1584x288 with 0 Axes>"
      ]
     },
     "metadata": {},
     "output_type": "display_data"
    },
    {
     "data": {
      "text/plain": [
       "<Figure size 1584x288 with 0 Axes>"
      ]
     },
     "metadata": {},
     "output_type": "display_data"
    },
    {
     "data": {
      "text/plain": [
       "<Figure size 1584x288 with 0 Axes>"
      ]
     },
     "metadata": {},
     "output_type": "display_data"
    },
    {
     "data": {
      "text/plain": [
       "<Figure size 1584x288 with 0 Axes>"
      ]
     },
     "metadata": {},
     "output_type": "display_data"
    },
    {
     "data": {
      "text/plain": [
       "<Figure size 1584x288 with 0 Axes>"
      ]
     },
     "metadata": {},
     "output_type": "display_data"
    },
    {
     "data": {
      "text/plain": [
       "<Figure size 1584x288 with 0 Axes>"
      ]
     },
     "metadata": {},
     "output_type": "display_data"
    },
    {
     "data": {
      "text/plain": [
       "<Figure size 1584x288 with 0 Axes>"
      ]
     },
     "metadata": {},
     "output_type": "display_data"
    },
    {
     "data": {
      "text/plain": [
       "<Figure size 1584x288 with 0 Axes>"
      ]
     },
     "metadata": {},
     "output_type": "display_data"
    },
    {
     "data": {
      "text/plain": [
       "<Figure size 1584x288 with 0 Axes>"
      ]
     },
     "metadata": {},
     "output_type": "display_data"
    },
    {
     "data": {
      "text/plain": [
       "<Figure size 1584x288 with 0 Axes>"
      ]
     },
     "metadata": {},
     "output_type": "display_data"
    },
    {
     "data": {
      "text/plain": [
       "<Figure size 1584x288 with 0 Axes>"
      ]
     },
     "metadata": {},
     "output_type": "display_data"
    },
    {
     "data": {
      "text/plain": [
       "<Figure size 1584x288 with 0 Axes>"
      ]
     },
     "metadata": {},
     "output_type": "display_data"
    },
    {
     "data": {
      "text/plain": [
       "<Figure size 1584x288 with 0 Axes>"
      ]
     },
     "metadata": {},
     "output_type": "display_data"
    },
    {
     "data": {
      "text/plain": [
       "<Figure size 1584x288 with 0 Axes>"
      ]
     },
     "metadata": {},
     "output_type": "display_data"
    },
    {
     "data": {
      "text/plain": [
       "<Figure size 1584x288 with 0 Axes>"
      ]
     },
     "metadata": {},
     "output_type": "display_data"
    },
    {
     "data": {
      "text/plain": [
       "<Figure size 1584x288 with 0 Axes>"
      ]
     },
     "metadata": {},
     "output_type": "display_data"
    },
    {
     "data": {
      "text/plain": [
       "<Figure size 1584x288 with 0 Axes>"
      ]
     },
     "metadata": {},
     "output_type": "display_data"
    },
    {
     "data": {
      "text/plain": [
       "<Figure size 1584x288 with 0 Axes>"
      ]
     },
     "metadata": {},
     "output_type": "display_data"
    },
    {
     "data": {
      "text/plain": [
       "<Figure size 1584x288 with 0 Axes>"
      ]
     },
     "metadata": {},
     "output_type": "display_data"
    },
    {
     "data": {
      "text/plain": [
       "<Figure size 1584x288 with 0 Axes>"
      ]
     },
     "metadata": {},
     "output_type": "display_data"
    },
    {
     "data": {
      "text/plain": [
       "<Figure size 1584x288 with 0 Axes>"
      ]
     },
     "metadata": {},
     "output_type": "display_data"
    },
    {
     "data": {
      "text/plain": [
       "<Figure size 1584x288 with 0 Axes>"
      ]
     },
     "metadata": {},
     "output_type": "display_data"
    },
    {
     "data": {
      "text/plain": [
       "<Figure size 1584x288 with 0 Axes>"
      ]
     },
     "metadata": {},
     "output_type": "display_data"
    },
    {
     "data": {
      "text/plain": [
       "<Figure size 1584x288 with 0 Axes>"
      ]
     },
     "metadata": {},
     "output_type": "display_data"
    },
    {
     "data": {
      "text/plain": [
       "<Figure size 1584x288 with 0 Axes>"
      ]
     },
     "metadata": {},
     "output_type": "display_data"
    },
    {
     "data": {
      "text/plain": [
       "<Figure size 1584x288 with 0 Axes>"
      ]
     },
     "metadata": {},
     "output_type": "display_data"
    },
    {
     "data": {
      "text/plain": [
       "<Figure size 1584x288 with 0 Axes>"
      ]
     },
     "metadata": {},
     "output_type": "display_data"
    },
    {
     "data": {
      "text/plain": [
       "<Figure size 1584x288 with 0 Axes>"
      ]
     },
     "metadata": {},
     "output_type": "display_data"
    },
    {
     "data": {
      "text/plain": [
       "<Figure size 1584x288 with 0 Axes>"
      ]
     },
     "metadata": {},
     "output_type": "display_data"
    },
    {
     "data": {
      "text/plain": [
       "<Figure size 1584x288 with 0 Axes>"
      ]
     },
     "metadata": {},
     "output_type": "display_data"
    },
    {
     "data": {
      "text/plain": [
       "<Figure size 1584x288 with 0 Axes>"
      ]
     },
     "metadata": {},
     "output_type": "display_data"
    },
    {
     "data": {
      "text/plain": [
       "<Figure size 1584x288 with 0 Axes>"
      ]
     },
     "metadata": {},
     "output_type": "display_data"
    },
    {
     "data": {
      "text/plain": [
       "<Figure size 1584x288 with 0 Axes>"
      ]
     },
     "metadata": {},
     "output_type": "display_data"
    },
    {
     "data": {
      "text/plain": [
       "<Figure size 1584x288 with 0 Axes>"
      ]
     },
     "metadata": {},
     "output_type": "display_data"
    },
    {
     "data": {
      "text/plain": [
       "<Figure size 1584x288 with 0 Axes>"
      ]
     },
     "metadata": {},
     "output_type": "display_data"
    },
    {
     "data": {
      "text/plain": [
       "<Figure size 1584x288 with 0 Axes>"
      ]
     },
     "metadata": {},
     "output_type": "display_data"
    },
    {
     "data": {
      "text/plain": [
       "<Figure size 1584x288 with 0 Axes>"
      ]
     },
     "metadata": {},
     "output_type": "display_data"
    },
    {
     "data": {
      "text/plain": [
       "<Figure size 1584x288 with 0 Axes>"
      ]
     },
     "metadata": {},
     "output_type": "display_data"
    },
    {
     "data": {
      "text/plain": [
       "<Figure size 1584x288 with 0 Axes>"
      ]
     },
     "metadata": {},
     "output_type": "display_data"
    },
    {
     "data": {
      "text/plain": [
       "<Figure size 1584x288 with 0 Axes>"
      ]
     },
     "metadata": {},
     "output_type": "display_data"
    },
    {
     "data": {
      "text/plain": [
       "<Figure size 1584x288 with 0 Axes>"
      ]
     },
     "metadata": {},
     "output_type": "display_data"
    },
    {
     "data": {
      "text/plain": [
       "<Figure size 1584x288 with 0 Axes>"
      ]
     },
     "metadata": {},
     "output_type": "display_data"
    },
    {
     "data": {
      "text/plain": [
       "<Figure size 1584x288 with 0 Axes>"
      ]
     },
     "metadata": {},
     "output_type": "display_data"
    },
    {
     "data": {
      "text/plain": [
       "<Figure size 1584x288 with 0 Axes>"
      ]
     },
     "metadata": {},
     "output_type": "display_data"
    },
    {
     "data": {
      "text/plain": [
       "<Figure size 1584x288 with 0 Axes>"
      ]
     },
     "metadata": {},
     "output_type": "display_data"
    },
    {
     "data": {
      "text/plain": [
       "<Figure size 1584x288 with 0 Axes>"
      ]
     },
     "metadata": {},
     "output_type": "display_data"
    },
    {
     "data": {
      "text/plain": [
       "<Figure size 1584x288 with 0 Axes>"
      ]
     },
     "metadata": {},
     "output_type": "display_data"
    },
    {
     "data": {
      "text/plain": [
       "<Figure size 1584x288 with 0 Axes>"
      ]
     },
     "metadata": {},
     "output_type": "display_data"
    },
    {
     "data": {
      "text/plain": [
       "<Figure size 1584x288 with 0 Axes>"
      ]
     },
     "metadata": {},
     "output_type": "display_data"
    },
    {
     "data": {
      "text/plain": [
       "<Figure size 1584x288 with 0 Axes>"
      ]
     },
     "metadata": {},
     "output_type": "display_data"
    },
    {
     "data": {
      "text/plain": [
       "<Figure size 1584x288 with 0 Axes>"
      ]
     },
     "metadata": {},
     "output_type": "display_data"
    },
    {
     "data": {
      "text/plain": [
       "<Figure size 1584x288 with 0 Axes>"
      ]
     },
     "metadata": {},
     "output_type": "display_data"
    },
    {
     "data": {
      "text/plain": [
       "<Figure size 1584x288 with 0 Axes>"
      ]
     },
     "metadata": {},
     "output_type": "display_data"
    },
    {
     "data": {
      "text/plain": [
       "<Figure size 1584x288 with 0 Axes>"
      ]
     },
     "metadata": {},
     "output_type": "display_data"
    },
    {
     "data": {
      "text/plain": [
       "<Figure size 1584x288 with 0 Axes>"
      ]
     },
     "metadata": {},
     "output_type": "display_data"
    },
    {
     "data": {
      "text/plain": [
       "<Figure size 1584x288 with 0 Axes>"
      ]
     },
     "metadata": {},
     "output_type": "display_data"
    },
    {
     "data": {
      "text/plain": [
       "<Figure size 1584x288 with 0 Axes>"
      ]
     },
     "metadata": {},
     "output_type": "display_data"
    },
    {
     "data": {
      "text/plain": [
       "<Figure size 1584x288 with 0 Axes>"
      ]
     },
     "metadata": {},
     "output_type": "display_data"
    },
    {
     "data": {
      "text/plain": [
       "<Figure size 1584x288 with 0 Axes>"
      ]
     },
     "metadata": {},
     "output_type": "display_data"
    },
    {
     "data": {
      "text/plain": [
       "<Figure size 1584x288 with 0 Axes>"
      ]
     },
     "metadata": {},
     "output_type": "display_data"
    },
    {
     "data": {
      "text/plain": [
       "<Figure size 1584x288 with 0 Axes>"
      ]
     },
     "metadata": {},
     "output_type": "display_data"
    },
    {
     "data": {
      "text/plain": [
       "<Figure size 1584x288 with 0 Axes>"
      ]
     },
     "metadata": {},
     "output_type": "display_data"
    },
    {
     "data": {
      "text/plain": [
       "<Figure size 1584x288 with 0 Axes>"
      ]
     },
     "metadata": {},
     "output_type": "display_data"
    },
    {
     "data": {
      "text/plain": [
       "<Figure size 1584x288 with 0 Axes>"
      ]
     },
     "metadata": {},
     "output_type": "display_data"
    },
    {
     "data": {
      "text/plain": [
       "<Figure size 1584x288 with 0 Axes>"
      ]
     },
     "metadata": {},
     "output_type": "display_data"
    },
    {
     "data": {
      "text/plain": [
       "<Figure size 1584x288 with 0 Axes>"
      ]
     },
     "metadata": {},
     "output_type": "display_data"
    },
    {
     "data": {
      "text/plain": [
       "<Figure size 1584x288 with 0 Axes>"
      ]
     },
     "metadata": {},
     "output_type": "display_data"
    },
    {
     "data": {
      "text/plain": [
       "<Figure size 1584x288 with 0 Axes>"
      ]
     },
     "metadata": {},
     "output_type": "display_data"
    },
    {
     "data": {
      "text/plain": [
       "<Figure size 1584x288 with 0 Axes>"
      ]
     },
     "metadata": {},
     "output_type": "display_data"
    },
    {
     "data": {
      "text/plain": [
       "<Figure size 1584x288 with 0 Axes>"
      ]
     },
     "metadata": {},
     "output_type": "display_data"
    },
    {
     "data": {
      "text/plain": [
       "<Figure size 1584x288 with 0 Axes>"
      ]
     },
     "metadata": {},
     "output_type": "display_data"
    },
    {
     "data": {
      "text/plain": [
       "<Figure size 1584x288 with 0 Axes>"
      ]
     },
     "metadata": {},
     "output_type": "display_data"
    },
    {
     "data": {
      "text/plain": [
       "<Figure size 1584x288 with 0 Axes>"
      ]
     },
     "metadata": {},
     "output_type": "display_data"
    },
    {
     "data": {
      "text/plain": [
       "<Figure size 1584x288 with 0 Axes>"
      ]
     },
     "metadata": {},
     "output_type": "display_data"
    },
    {
     "data": {
      "text/plain": [
       "<Figure size 1584x288 with 0 Axes>"
      ]
     },
     "metadata": {},
     "output_type": "display_data"
    },
    {
     "data": {
      "text/plain": [
       "<Figure size 1584x288 with 0 Axes>"
      ]
     },
     "metadata": {},
     "output_type": "display_data"
    },
    {
     "data": {
      "text/plain": [
       "<Figure size 1584x288 with 0 Axes>"
      ]
     },
     "metadata": {},
     "output_type": "display_data"
    },
    {
     "data": {
      "text/plain": [
       "<Figure size 1584x288 with 0 Axes>"
      ]
     },
     "metadata": {},
     "output_type": "display_data"
    },
    {
     "data": {
      "text/plain": [
       "<Figure size 1584x288 with 0 Axes>"
      ]
     },
     "metadata": {},
     "output_type": "display_data"
    },
    {
     "data": {
      "text/plain": [
       "<Figure size 1584x288 with 0 Axes>"
      ]
     },
     "metadata": {},
     "output_type": "display_data"
    },
    {
     "data": {
      "text/plain": [
       "<Figure size 1584x288 with 0 Axes>"
      ]
     },
     "metadata": {},
     "output_type": "display_data"
    },
    {
     "data": {
      "text/plain": [
       "<Figure size 1584x288 with 0 Axes>"
      ]
     },
     "metadata": {},
     "output_type": "display_data"
    },
    {
     "data": {
      "text/plain": [
       "<Figure size 1584x288 with 0 Axes>"
      ]
     },
     "metadata": {},
     "output_type": "display_data"
    },
    {
     "data": {
      "text/plain": [
       "<Figure size 1584x288 with 0 Axes>"
      ]
     },
     "metadata": {},
     "output_type": "display_data"
    },
    {
     "data": {
      "text/plain": [
       "<Figure size 1584x288 with 0 Axes>"
      ]
     },
     "metadata": {},
     "output_type": "display_data"
    },
    {
     "data": {
      "text/plain": [
       "<Figure size 1584x288 with 0 Axes>"
      ]
     },
     "metadata": {},
     "output_type": "display_data"
    },
    {
     "data": {
      "text/plain": [
       "<Figure size 1584x288 with 0 Axes>"
      ]
     },
     "metadata": {},
     "output_type": "display_data"
    },
    {
     "data": {
      "text/plain": [
       "<Figure size 1584x288 with 0 Axes>"
      ]
     },
     "metadata": {},
     "output_type": "display_data"
    },
    {
     "data": {
      "text/plain": [
       "<Figure size 1584x288 with 0 Axes>"
      ]
     },
     "metadata": {},
     "output_type": "display_data"
    },
    {
     "data": {
      "text/plain": [
       "<Figure size 1584x288 with 0 Axes>"
      ]
     },
     "metadata": {},
     "output_type": "display_data"
    },
    {
     "data": {
      "text/plain": [
       "<Figure size 1584x288 with 0 Axes>"
      ]
     },
     "metadata": {},
     "output_type": "display_data"
    },
    {
     "data": {
      "text/plain": [
       "<Figure size 1584x288 with 0 Axes>"
      ]
     },
     "metadata": {},
     "output_type": "display_data"
    },
    {
     "data": {
      "text/plain": [
       "<Figure size 1584x288 with 0 Axes>"
      ]
     },
     "metadata": {},
     "output_type": "display_data"
    },
    {
     "data": {
      "text/plain": [
       "<Figure size 1584x288 with 0 Axes>"
      ]
     },
     "metadata": {},
     "output_type": "display_data"
    },
    {
     "data": {
      "text/plain": [
       "<Figure size 1584x288 with 0 Axes>"
      ]
     },
     "metadata": {},
     "output_type": "display_data"
    },
    {
     "data": {
      "text/plain": [
       "<Figure size 1584x288 with 0 Axes>"
      ]
     },
     "metadata": {},
     "output_type": "display_data"
    },
    {
     "data": {
      "text/plain": [
       "<Figure size 1584x288 with 0 Axes>"
      ]
     },
     "metadata": {},
     "output_type": "display_data"
    },
    {
     "data": {
      "text/plain": [
       "<Figure size 1584x288 with 0 Axes>"
      ]
     },
     "metadata": {},
     "output_type": "display_data"
    },
    {
     "data": {
      "text/plain": [
       "<Figure size 1584x288 with 0 Axes>"
      ]
     },
     "metadata": {},
     "output_type": "display_data"
    },
    {
     "data": {
      "text/plain": [
       "<Figure size 1584x288 with 0 Axes>"
      ]
     },
     "metadata": {},
     "output_type": "display_data"
    },
    {
     "data": {
      "text/plain": [
       "<Figure size 1584x288 with 0 Axes>"
      ]
     },
     "metadata": {},
     "output_type": "display_data"
    },
    {
     "data": {
      "text/plain": [
       "<Figure size 1584x288 with 0 Axes>"
      ]
     },
     "metadata": {},
     "output_type": "display_data"
    },
    {
     "data": {
      "text/plain": [
       "<Figure size 1584x288 with 0 Axes>"
      ]
     },
     "metadata": {},
     "output_type": "display_data"
    },
    {
     "data": {
      "text/plain": [
       "<Figure size 1584x288 with 0 Axes>"
      ]
     },
     "metadata": {},
     "output_type": "display_data"
    },
    {
     "data": {
      "text/plain": [
       "<Figure size 1584x288 with 0 Axes>"
      ]
     },
     "metadata": {},
     "output_type": "display_data"
    },
    {
     "data": {
      "text/plain": [
       "<Figure size 1584x288 with 0 Axes>"
      ]
     },
     "metadata": {},
     "output_type": "display_data"
    },
    {
     "data": {
      "text/plain": [
       "<Figure size 1584x288 with 0 Axes>"
      ]
     },
     "metadata": {},
     "output_type": "display_data"
    },
    {
     "data": {
      "text/plain": [
       "<Figure size 1584x288 with 0 Axes>"
      ]
     },
     "metadata": {},
     "output_type": "display_data"
    },
    {
     "data": {
      "text/plain": [
       "<Figure size 1584x288 with 0 Axes>"
      ]
     },
     "metadata": {},
     "output_type": "display_data"
    },
    {
     "data": {
      "text/plain": [
       "<Figure size 1584x288 with 0 Axes>"
      ]
     },
     "metadata": {},
     "output_type": "display_data"
    },
    {
     "data": {
      "text/plain": [
       "<Figure size 1584x288 with 0 Axes>"
      ]
     },
     "metadata": {},
     "output_type": "display_data"
    },
    {
     "data": {
      "text/plain": [
       "<Figure size 1584x288 with 0 Axes>"
      ]
     },
     "metadata": {},
     "output_type": "display_data"
    },
    {
     "data": {
      "text/plain": [
       "<Figure size 1584x288 with 0 Axes>"
      ]
     },
     "metadata": {},
     "output_type": "display_data"
    },
    {
     "data": {
      "text/plain": [
       "<Figure size 1584x288 with 0 Axes>"
      ]
     },
     "metadata": {},
     "output_type": "display_data"
    },
    {
     "data": {
      "text/plain": [
       "<Figure size 1584x288 with 0 Axes>"
      ]
     },
     "metadata": {},
     "output_type": "display_data"
    },
    {
     "data": {
      "text/plain": [
       "<Figure size 1584x288 with 0 Axes>"
      ]
     },
     "metadata": {},
     "output_type": "display_data"
    }
   ],
   "source": [
    "col_order = []\n",
    "for idx,row in responsiveness_summary_all.query('condition == \"hit\"').sort_values(by='mean_change_magnitude',ascending=False).iterrows():\n",
    "    col_order.append({'mouse_id':row['mouse_id'], 'cell_id':row['cell_id']})\n",
    "for entry in col_order:\n",
    "    make_heatmaps(session, entry['mouse_id'], entry['cell_id'], save_or_show='save')"
   ]
  }
 ],
 "metadata": {
  "kernelspec": {
   "display_name": "claustrum_imaging_manuscript",
   "language": "python",
   "name": "claustrum_imaging_manuscript"
  },
  "language_info": {
   "codemirror_mode": {
    "name": "ipython",
    "version": 3
   },
   "file_extension": ".py",
   "mimetype": "text/x-python",
   "name": "python",
   "nbconvert_exporter": "python",
   "pygments_lexer": "ipython3",
   "version": "3.7.10"
  }
 },
 "nbformat": 4,
 "nbformat_minor": 2
}
